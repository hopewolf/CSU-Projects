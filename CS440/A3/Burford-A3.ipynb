{
 "cells": [
  {
   "cell_type": "markdown",
   "metadata": {},
   "source": [
    "# A3: A*, IDS, and Effective Branching Factor"
   ]
  },
  {
   "cell_type": "markdown",
   "metadata": {},
   "source": [
    "*Luke Burford*"
   ]
  },
  {
   "cell_type": "markdown",
   "metadata": {},
   "source": [
    "## Iterative Deepening Functions: ##"
   ]
  },
  {
   "cell_type": "markdown",
   "metadata": {},
   "source": [
    "**iterativeDeepeningSearch(startState, goalState, actionsF, takeActionF, maxDepth):**\n",
    "It performs an iterative deepening search, beginning at the startState provided as an argument, and attempts to reach goalState. It also takes functions actionsF and takeActionF as arguments, which are expected to provide the potential actions given a particular state (actionsF), and actually take the action, returning the new state (takeActionF). MaxDepth is the depth to which the recursion should go; if the program reaches this limit before the goalState is reached, it will return 'cutoff'."
   ]
  },
  {
   "cell_type": "code",
   "execution_count": 236,
   "metadata": {
    "collapsed": true
   },
   "outputs": [],
   "source": [
    "nNodesGlobal = 0"
   ]
  },
  {
   "cell_type": "code",
   "execution_count": 237,
   "metadata": {
    "collapsed": true
   },
   "outputs": [],
   "source": [
    "def iterativeDeepeningSearch(startState, goalState, actionsF, takeActionF, maxDepth):\n",
    "    global nNodesGlobal \n",
    "    nNodesGlobal = 0\n",
    "    for depth in range(maxDepth):\n",
    "        result = depthLimitedSearch(startState, goalState, actionsF, takeActionF, depth)\n",
    "        if result is 'failure':\n",
    "            return 'failure'\n",
    "        if result is not 'cutoff':\n",
    "            result.insert(0, startState)\n",
    "            #Add startState to front of solution path, in result, returned by depthLimitedSearch       \n",
    "            return result\n",
    "    return 'cutoff'"
   ]
  },
  {
   "cell_type": "markdown",
   "metadata": {},
   "source": [
    "**depthLimitedSearch(state, goalState, actionsF, takeActionF, depthLimit):**\n",
    "This function is essentially a helper method for iterativeDeepeningSearch() above. This function will recursively perform a depth-first search until it reaches depthLimit, which is provided to it as an argument. The arguments are essentially the same as for the function above, excepting state, which is no-longer required to be the starting state, instead it represents the \"state\" of the search at the time the function is called.  \n",
    "\n",
    "This function is also responsible for generating and taking actions, using the functions provided as an argument (for further detail see above)."
   ]
  },
  {
   "cell_type": "code",
   "execution_count": 238,
   "metadata": {
    "collapsed": true
   },
   "outputs": [],
   "source": [
    "def depthLimitedSearch(state, goalState, actionsF, takeActionF, depthLimit):\n",
    "    global nNodesGlobal\n",
    "    if state == goalState:\n",
    "        return []\n",
    "    if depthLimit is 0:\n",
    "        return 'cutoff'\n",
    "    cutoffOccurred = False\n",
    "    for action in actionsF(state):\n",
    "        nNodesGlobal += 1\n",
    "        childState = takeActionF(state, action)[0]\n",
    "        result = depthLimitedSearch(childState, goalState, actionsF, takeActionF, depthLimit-1)\n",
    "        if result is 'cutoff':\n",
    "            cutOff = True\n",
    "        elif result is not 'failure':\n",
    "            result.insert(0, childState)\n",
    "            return result\n",
    "    if cutOff:\n",
    "        return 'cutoff'\n",
    "    else:\n",
    "        return 'failure'"
   ]
  },
  {
   "cell_type": "markdown",
   "metadata": {},
   "source": [
    "## A* Functions:"
   ]
  },
  {
   "cell_type": "markdown",
   "metadata": {},
   "source": [
    "**Class Node:**"
   ]
  },
  {
   "cell_type": "code",
   "execution_count": 239,
   "metadata": {
    "collapsed": true
   },
   "outputs": [],
   "source": [
    "class Node:\n",
    "    def __init__(self, state, parent, f,g,h):\n",
    "        self.state = state\n",
    "        self.parent = parent\n",
    "        self.f = f\n",
    "        self.g = g\n",
    "        self.h = h\n",
    "        global nNodesGlobal\n",
    "        nNodesGlobal += 1"
   ]
  },
  {
   "cell_type": "markdown",
   "metadata": {},
   "source": [
    "**def aStarSearch(startState, actionsF, takeActionF, goalTestF, hF):**"
   ]
  },
  {
   "cell_type": "code",
   "execution_count": 240,
   "metadata": {
    "collapsed": true
   },
   "outputs": [],
   "source": [
    "def aStarSearch(startState, actionsF, takeActionF, goalTestF, hF):\n",
    "    global nNodesGlobal\n",
    "    h = hF(startState)\n",
    "    startNode = Node(state=startState, f=0+h, g=0, h=h)\n",
    "    nNodesGlobal = 0\n",
    "    return aStarSearchHelper(startNode, actionsF, takeActionF, goalTestF, hF, float(50))"
   ]
  },
  {
   "cell_type": "markdown",
   "metadata": {},
   "source": [
    "**def aStarSearchHelper(parentNode, actionsF, takeActionF, goalTestF, hF, fmax):**"
   ]
  },
  {
   "cell_type": "code",
   "execution_count": 241,
   "metadata": {
    "collapsed": true
   },
   "outputs": [],
   "source": [
    "def aStarSearchHelper(parentNode, actionsF, takeActionF, goalTestF, hF, fmax):\n",
    "    if goalTestF(parentNode.state):\n",
    "        return ([parentNode.state], parentNode.g)\n",
    "    actions = actionsF(parentNode.state)\n",
    "    if not actions:\n",
    "        return (\"failure\", float('inf'))\n",
    "    children = []\n",
    "    for action in actions:\n",
    "        (childState,stepCost) = takeActionF(parentNode.state, action)\n",
    "        h = hF(childState)\n",
    "        g = parentNode.g + stepCost\n",
    "        f = max(h+g, parentNode.f)\n",
    "        childNode = Node(state=childState, f=f, g=g, h=h)\n",
    "        children.append(childNode)\n",
    "    while True:\n",
    "        children.sort(key = lambda n: n.f)\n",
    "        bestChild = children[0]\n",
    "        if bestChild.f > fmax:\n",
    "            return (\"failure\",bestChild.f)\n",
    "        alternativef = children[1].f if len(children) > 1 else float('inf')\n",
    "        result,bestChild.f = aStarSearchHelper(bestChild, actionsF, takeActionF, goalTestF,\n",
    "                                            hF, min(fmax,alternativef))\n",
    "        if result is not \"failure\":                       \n",
    "            result.insert(0,parentNode.state)            \n",
    "            return (result, bestChild.f)"
   ]
  },
  {
   "cell_type": "markdown",
   "metadata": {},
   "source": [
    "**huristic functions**"
   ]
  },
  {
   "cell_type": "code",
   "execution_count": 242,
   "metadata": {
    "collapsed": true
   },
   "outputs": [],
   "source": [
    "def h1_8p(state, goal):\n",
    "    return 0\n",
    "\n",
    "def h2_8p(state, goal):\n",
    "    stateBlank = findBlank_8p(state)\n",
    "    goalBlank = findBlank_8p(goal)\n",
    "    x = abs(stateBlank[0] - goalBlank[0])\n",
    "    y = abs(stateBlank[1] - goalBlank[1]) \n",
    "    return x + y\n",
    "\n",
    "def h3_8p(state, goal):\n",
    "    rstateBlank = findBlank_8p(state)\n",
    "    goalBlank = findBlank_8p(goal)\n",
    "    x = abs(stateBlank[0] - goalBlank[0])\n",
    "    y = abs(stateBlank[1] - goalBlank[1]) \n",
    "    return 2(x + y)\n"
   ]
  },
  {
   "cell_type": "markdown",
   "metadata": {},
   "source": [
    "## 8-Puzzle Helper Methods##"
   ]
  },
  {
   "cell_type": "markdown",
   "metadata": {},
   "source": [
    "**printPath_8p(startState, goalState, path):**\n",
    "This function takes in a starting state, the goal state, and the path returned by the iterative deepening search. It will print the results of the search if successful."
   ]
  },
  {
   "cell_type": "code",
   "execution_count": 243,
   "metadata": {
    "collapsed": true
   },
   "outputs": [],
   "source": [
    "def printPath_8p(startState, goalState, path):\n",
    "    printState_8p(startState)\n",
    "    for state in path:\n",
    "        printState_8p(state)\n",
    "    printState_8p(goalState)"
   ]
  },
  {
   "cell_type": "markdown",
   "metadata": {},
   "source": [
    "**printState_8p(state):**\n",
    "This function serves as a helper method for printPath_8p. It takes a single instance (state) of the 8-puzzle, and prints it."
   ]
  },
  {
   "cell_type": "code",
   "execution_count": 244,
   "metadata": {
    "collapsed": true
   },
   "outputs": [],
   "source": [
    "def printState_8p(state):\n",
    "    tempState = state\n",
    "    if type(state) is tuple:\n",
    "        tempState = state[0]\n",
    "    for i in range(0,3):\n",
    "        if i is not 0:\n",
    "            print(\"\")\n",
    "        for j in range(0,3):\n",
    "            tempVal = tempState[3*i+j]\n",
    "            if tempVal is 0:\n",
    "                tempVal = '_'\n",
    "            print(str(tempVal), end=\" \")\n",
    "    print(\"\")"
   ]
  },
  {
   "cell_type": "markdown",
   "metadata": {},
   "source": [
    "**takeActionF_8p(state, action):**\n",
    "    This function performs the action provided as an argument to a (deep) copy of the given state, and returns this new state. In the 8-puzzle example, this would mean moving the blank piece in an acceptable direction (note that it does not perform any checking on whether an action is allowable; that is assumed to have already been done)."
   ]
  },
  {
   "cell_type": "code",
   "execution_count": 245,
   "metadata": {
    "collapsed": true
   },
   "outputs": [],
   "source": [
    "import copy\n",
    "def takeActionF_8p(state, action):\n",
    "    row, col = findBlank_8p(state)\n",
    "    newState = copy.deepcopy(state)\n",
    "    temp = -1\n",
    "    if action[0] is 'left':\n",
    "        temp = newState[3*row+(col-1)]\n",
    "        newState[3*row+(col-1)] = 0    \n",
    "    elif action[0] is 'right':\n",
    "        temp = newState[3*row+(col+1)]\n",
    "        newState[3*row+(col+1)] = 0\n",
    "    elif action[0] is 'up':\n",
    "        temp = newState[3*(row-1) + col]\n",
    "        newState[3*(row-1) + col] = 0\n",
    "    elif action[0] is 'down':\n",
    "        temp = newState[3*(row+1) + col]\n",
    "        newState[3*(row+1) + col] = 0\n",
    "    else:\n",
    "        print(\"error in takeActionF_8p\")\n",
    "        return -1\n",
    "    newState[3*row+col] = temp\n",
    "    #return newState\n",
    "    return (newState, action[1])"
   ]
  },
  {
   "cell_type": "markdown",
   "metadata": {},
   "source": [
    "**actionsF_8p(state):**\n",
    "This function will return a generator consisting of available moves depending on the state it is provided as an argument. The possible moves are 'left', 'right', 'up', and 'down', in that order. It does perform boundary-checking, so it will only return possible moves; i.e. if the blank is at the top border of the puzzle, this function will not return 'up' as an allowable move (as it would be impossible to move further up). "
   ]
  },
  {
   "cell_type": "code",
   "execution_count": 246,
   "metadata": {
    "collapsed": true
   },
   "outputs": [],
   "source": [
    "def actionsF_8p(state):\n",
    "    row, col = findBlank_8p(state)\n",
    "    #check if we can move left, right, up, or down (in that order)\n",
    "    if col > 0:\n",
    "        yield ('left', 1)\n",
    "    if col < 2:\n",
    "        yield ('right', 1)\n",
    "    if row > 0:\n",
    "        yield ('up', 1)\n",
    "    if row < 2:\n",
    "        yield ('down', 1)"
   ]
  },
  {
   "cell_type": "markdown",
   "metadata": {},
   "source": [
    "**findBlank_8p(state):**\n",
    "This function will locate the blank within the 8-puzzle, and return its corresponding row, column in the form of a tuple (row, col)."
   ]
  },
  {
   "cell_type": "code",
   "execution_count": 247,
   "metadata": {
    "collapsed": true
   },
   "outputs": [],
   "source": [
    "def findBlank_8p(state):\n",
    "    for i in range(0,3):\n",
    "        for j in range(0,3):\n",
    "            if state[i*3+j] is 0:\n",
    "                return (i,j)\n",
    "    print(\"error occured in findBlank_8p\")\n",
    "    return -1"
   ]
  },
  {
   "cell_type": "markdown",
   "metadata": {},
   "source": [
    "## ebf Functions"
   ]
  },
  {
   "cell_type": "code",
   "execution_count": 248,
   "metadata": {
    "collapsed": true
   },
   "outputs": [],
   "source": [
    "def ebf(nNodes, depth, precision = 0.01):\n",
    "    if nNodes is 1 and depth is 0:\n",
    "        return 0.0\n",
    "    else:\n",
    "        max = nNodes\n",
    "        min = 1.0\n",
    "        return ebfHelper(nNodes, depth, min, max, precision)"
   ]
  },
  {
   "cell_type": "code",
   "execution_count": 249,
   "metadata": {
    "collapsed": true
   },
   "outputs": [],
   "source": [
    "def ebfHelper(nNodes, depth, min, max, precision):\n",
    "    mid = min + (max - min)/2\n",
    "    guessNNodes = (1 - mid**(depth+1)) / (1 - mid)\n",
    "    if abs(nNodes - guessNNodes) < precision:\n",
    "        return mid\n",
    "    elif guessNNodes > nNodes:\n",
    "        return ebfHelper(nNodes, depth, min, mid, precision)\n",
    "    else:\n",
    "        return ebfHelper(nNodes, depth, mid, max, precision)"
   ]
  },
  {
   "cell_type": "markdown",
   "metadata": {},
   "source": [
    "**Testing EBF Functionality:**"
   ]
  },
  {
   "cell_type": "code",
   "execution_count": 250,
   "metadata": {},
   "outputs": [
    {
     "data": {
      "text/plain": [
       "1.661376953125"
      ]
     },
     "execution_count": 250,
     "metadata": {},
     "output_type": "execute_result"
    }
   ],
   "source": [
    "ebf(10, 3)"
   ]
  },
  {
   "cell_type": "code",
   "execution_count": 251,
   "metadata": {},
   "outputs": [
    {
     "data": {
      "text/plain": [
       "0.0"
      ]
     },
     "execution_count": 251,
     "metadata": {},
     "output_type": "execute_result"
    }
   ],
   "source": [
    "ebf(1, 0)"
   ]
  },
  {
   "cell_type": "code",
   "execution_count": 252,
   "metadata": {},
   "outputs": [
    {
     "data": {
      "text/plain": [
       "1.0078125"
      ]
     },
     "execution_count": 252,
     "metadata": {},
     "output_type": "execute_result"
    }
   ],
   "source": [
    "ebf(2, 1)"
   ]
  },
  {
   "cell_type": "code",
   "execution_count": 253,
   "metadata": {},
   "outputs": [
    {
     "data": {
      "text/plain": [
       "1.0000009536743164"
      ]
     },
     "execution_count": 253,
     "metadata": {},
     "output_type": "execute_result"
    }
   ],
   "source": [
    "ebf(2, 1, precision=0.000001)"
   ]
  },
  {
   "cell_type": "code",
   "execution_count": 254,
   "metadata": {
    "scrolled": true
   },
   "outputs": [
    {
     "data": {
      "text/plain": [
       "11.275596931956898"
      ]
     },
     "execution_count": 254,
     "metadata": {},
     "output_type": "execute_result"
    }
   ],
   "source": [
    "ebf(200000, 5)"
   ]
  },
  {
   "cell_type": "markdown",
   "metadata": {},
   "source": [
    "## Iterative Deepening / 8-Puzzle Method Testing:"
   ]
  },
  {
   "cell_type": "code",
   "execution_count": 255,
   "metadata": {
    "collapsed": true
   },
   "outputs": [],
   "source": [
    "startState = [1, 0, 3, 4, 2, 5, 6, 7, 8]"
   ]
  },
  {
   "cell_type": "code",
   "execution_count": 256,
   "metadata": {},
   "outputs": [
    {
     "name": "stdout",
     "output_type": "stream",
     "text": [
      "1 _ 3 \n",
      "4 2 5 \n",
      "6 7 8 \n"
     ]
    }
   ],
   "source": [
    "printState_8p(startState)  "
   ]
  },
  {
   "cell_type": "code",
   "execution_count": 257,
   "metadata": {},
   "outputs": [
    {
     "data": {
      "text/plain": [
       "(0, 1)"
      ]
     },
     "execution_count": 257,
     "metadata": {},
     "output_type": "execute_result"
    }
   ],
   "source": [
    "findBlank_8p(startState)"
   ]
  },
  {
   "cell_type": "code",
   "execution_count": 258,
   "metadata": {},
   "outputs": [
    {
     "name": "stdout",
     "output_type": "stream",
     "text": [
      "('left', 1)\n",
      "('right', 1)\n",
      "('down', 1)\n"
     ]
    }
   ],
   "source": [
    "test = actionsF_8p(startState)\n",
    "for action in test:\n",
    "    print(str(action))"
   ]
  },
  {
   "cell_type": "code",
   "execution_count": 259,
   "metadata": {},
   "outputs": [
    {
     "data": {
      "text/plain": [
       "([1, 2, 3, 4, 0, 5, 6, 7, 8], 1)"
      ]
     },
     "execution_count": 259,
     "metadata": {},
     "output_type": "execute_result"
    }
   ],
   "source": [
    "takeActionF_8p(startState, ('down', 1))"
   ]
  },
  {
   "cell_type": "code",
   "execution_count": 260,
   "metadata": {},
   "outputs": [
    {
     "name": "stdout",
     "output_type": "stream",
     "text": [
      "1 2 3 \n",
      "4 _ 5 \n",
      "6 7 8 \n"
     ]
    }
   ],
   "source": [
    "printState_8p(takeActionF_8p(startState, ('down', 1)))"
   ]
  },
  {
   "cell_type": "code",
   "execution_count": 261,
   "metadata": {},
   "outputs": [],
   "source": [
    "goalState = takeActionF_8p(startState, ('down', 1))[0]"
   ]
  },
  {
   "cell_type": "code",
   "execution_count": 262,
   "metadata": {},
   "outputs": [],
   "source": [
    "newState = takeActionF_8p(startState, ('down', 1))[0]"
   ]
  },
  {
   "cell_type": "code",
   "execution_count": 263,
   "metadata": {},
   "outputs": [
    {
     "data": {
      "text/plain": [
       "True"
      ]
     },
     "execution_count": 263,
     "metadata": {},
     "output_type": "execute_result"
    }
   ],
   "source": [
    "newState == goalState"
   ]
  },
  {
   "cell_type": "code",
   "execution_count": 264,
   "metadata": {},
   "outputs": [
    {
     "data": {
      "text/plain": [
       "[1, 2, 3, 4, 0, 5, 6, 7, 8]"
      ]
     },
     "execution_count": 264,
     "metadata": {},
     "output_type": "execute_result"
    }
   ],
   "source": [
    "goalState"
   ]
  },
  {
   "cell_type": "code",
   "execution_count": 265,
   "metadata": {},
   "outputs": [
    {
     "data": {
      "text/plain": [
       "[1, 0, 3, 4, 2, 5, 6, 7, 8]"
      ]
     },
     "execution_count": 265,
     "metadata": {},
     "output_type": "execute_result"
    }
   ],
   "source": [
    "startState"
   ]
  },
  {
   "cell_type": "code",
   "execution_count": 266,
   "metadata": {
    "scrolled": true
   },
   "outputs": [
    {
     "data": {
      "text/plain": [
       "[[0, 1, 3, 4, 2, 5, 6, 7, 8],\n",
       " [1, 0, 3, 4, 2, 5, 6, 7, 8],\n",
       " [1, 2, 3, 4, 0, 5, 6, 7, 8]]"
      ]
     },
     "execution_count": 266,
     "metadata": {},
     "output_type": "execute_result"
    }
   ],
   "source": [
    "path = depthLimitedSearch(startState, goalState, actionsF_8p, takeActionF_8p, 3)\n",
    "path"
   ]
  },
  {
   "cell_type": "markdown",
   "metadata": {},
   "source": [
    "So far, we have only been testing basic functionality of various functions. Now, we move on to performing full searches:"
   ]
  },
  {
   "cell_type": "code",
   "execution_count": 267,
   "metadata": {},
   "outputs": [
    {
     "data": {
      "text/plain": [
       "'cutoff'"
      ]
     },
     "execution_count": 267,
     "metadata": {},
     "output_type": "execute_result"
    }
   ],
   "source": [
    "startState = [4, 7, 2, 1, 6, 5, 0, 3, 8]\n",
    "path = iterativeDeepeningSearch(startState, goalState, actionsF_8p, takeActionF_8p, 3)\n",
    "path"
   ]
  },
  {
   "cell_type": "code",
   "execution_count": 268,
   "metadata": {
    "scrolled": true
   },
   "outputs": [
    {
     "data": {
      "text/plain": [
       "'cutoff'"
      ]
     },
     "execution_count": 268,
     "metadata": {},
     "output_type": "execute_result"
    }
   ],
   "source": [
    "startState = [4, 7, 2, 1, 6, 5, 0, 3, 8]\n",
    "path = iterativeDeepeningSearch(startState, goalState, actionsF_8p, takeActionF_8p, 5)\n",
    "path"
   ]
  },
  {
   "cell_type": "markdown",
   "metadata": {},
   "source": [
    "Both of these returned 'cutoff', which is as expected; 3 and 5 maxDepth values are not large enough to expect a different result. So, we will try 20 with this next test:"
   ]
  },
  {
   "cell_type": "code",
   "execution_count": 269,
   "metadata": {
    "collapsed": true
   },
   "outputs": [],
   "source": [
    "goalState = [1, 2, 3, 4, 0, 5, 6, 7, 8]"
   ]
  },
  {
   "cell_type": "code",
   "execution_count": 270,
   "metadata": {
    "collapsed": true
   },
   "outputs": [],
   "source": [
    "startState = [2, 7, 0, 1, 5, 3, 4, 6, 8]"
   ]
  },
  {
   "cell_type": "code",
   "execution_count": 271,
   "metadata": {},
   "outputs": [
    {
     "data": {
      "text/plain": [
       "[[2, 7, 0, 1, 5, 3, 4, 6, 8],\n",
       " [2, 7, 3, 1, 5, 0, 4, 6, 8],\n",
       " [2, 7, 3, 1, 0, 5, 4, 6, 8],\n",
       " [2, 0, 3, 1, 7, 5, 4, 6, 8],\n",
       " [0, 2, 3, 1, 7, 5, 4, 6, 8],\n",
       " [1, 2, 3, 0, 7, 5, 4, 6, 8],\n",
       " [1, 2, 3, 4, 7, 5, 0, 6, 8],\n",
       " [1, 2, 3, 4, 7, 5, 6, 0, 8],\n",
       " [1, 2, 3, 4, 0, 5, 6, 7, 8]]"
      ]
     },
     "execution_count": 271,
     "metadata": {},
     "output_type": "execute_result"
    }
   ],
   "source": [
    "path = iterativeDeepeningSearch(startState, goalState, actionsF_8p, takeActionF_8p, 20)\n",
    "path"
   ]
  },
  {
   "cell_type": "markdown",
   "metadata": {},
   "source": [
    "Let's print out the state sequence in a readable form."
   ]
  },
  {
   "cell_type": "code",
   "execution_count": 272,
   "metadata": {},
   "outputs": [
    {
     "name": "stdout",
     "output_type": "stream",
     "text": [
      "2 7 _ \n",
      "1 5 3 \n",
      "4 6 8 \n",
      "\n",
      "2 7 3 \n",
      "1 5 _ \n",
      "4 6 8 \n",
      "\n",
      "2 7 3 \n",
      "1 _ 5 \n",
      "4 6 8 \n",
      "\n",
      "2 _ 3 \n",
      "1 7 5 \n",
      "4 6 8 \n",
      "\n",
      "_ 2 3 \n",
      "1 7 5 \n",
      "4 6 8 \n",
      "\n",
      "1 2 3 \n",
      "_ 7 5 \n",
      "4 6 8 \n",
      "\n",
      "1 2 3 \n",
      "4 7 5 \n",
      "_ 6 8 \n",
      "\n",
      "1 2 3 \n",
      "4 7 5 \n",
      "6 _ 8 \n",
      "\n",
      "1 2 3 \n",
      "4 _ 5 \n",
      "6 7 8 \n",
      "\n"
     ]
    }
   ],
   "source": [
    "for p in path:\n",
    "    printState_8p(p)\n",
    "    print()"
   ]
  },
  {
   "cell_type": "markdown",
   "metadata": {},
   "source": [
    "## Experiment Functions"
   ]
  },
  {
   "cell_type": "code",
   "execution_count": 273,
   "metadata": {
    "collapsed": true
   },
   "outputs": [],
   "source": [
    "def goalTestF_8p(state, goal):\n",
    "    if state == goal:\n",
    "        return True\n",
    "    return False"
   ]
  },
  {
   "cell_type": "code",
   "execution_count": 274,
   "metadata": {},
   "outputs": [],
   "source": [
    "def runExperiment(goalState1, goalState2, goalState3, hFList):\n",
    "    global nNodesGlobal\n",
    "    print(goalState1,\"\\t\",goalState2,\"\\t\",goalState3)\n",
    "    print(\"Algorithm   Depth  Nodes  EBF\\t Depth  Nodes  EBF\\t\\t Depth  Nodes  EBF\")\n",
    "    startState = [1,2,3,4,0,5,6,7,8]\n",
    "    iDSSol = []\n",
    "    iDSDepth = []\n",
    "    aStarSol = []\n",
    "    aStarDepth = []\n",
    "    iDSSol.append(iterativeDeepeningSearch(startState,goalState1, actionsF_8p, takeActionF_8p,15))\n",
    "    t = (len(iDSSol[-1])-1,nNodesGlobal)\n",
    "    iDSDepth.append(t)\n",
    "    iDSSol.append(iterativeDeepeningSearch(startState,goalState2, actionsF_8p, takeActionF_8p,15))\n",
    "    t = (len(iDSSol[-1])-1,nNodesGlobal)\n",
    "    iDSDepth.append(t)\n",
    "    iDSSol.append(iterativeDeepeningSearch(startState,goalState3, actionsF_8p, takeActionF_8p,15))\n",
    "    t = (len(iDSSol[-1])-1,nNodesGlobal)\n",
    "    iDSDepth.append(t)\n",
    "    \n",
    "    for hF in hFList:\n",
    "        aStarSol.append(aStarSearch(startState,actionsF_8p, takeActionF_8p, lambda s: goalTestF_8p(s, goalState1), lambda v: hF(v, goalState1))[0])\n",
    "        t = (len(aStarSol[-1])-1,nNodesGlobal)\n",
    "        aStarDepth.append(t)\n",
    "        \n",
    "        aStarSol.append(aStarSearch(startState,actionsF_8p, takeActionF_8p, lambda s: goalTestF_8p(s, goalState2), lambda v: hF(v, goalState1))[0])\n",
    "        t = (len(aStarSol[-1])-1,nNodesGlobal)\n",
    "        aStarDepth.append(t)\n",
    "        \n",
    "        aStarSol.append(aStarSearch(startState,actionsF_8p, takeActionF_8p, lambda s: goalTestF_8p(s, goalState3), lambda v: hF(v, goalState1))[0])\n",
    "        t = (len(aStarSol[-1])-1,nNodesGlobal)\n",
    "        aStarDepth.append(t)\n",
    "    for sol in iDSSol:\n",
    "        print(\"\\t   \", end = \"\")\n",
    "        print(str(sol[-1]), end =\"   \")\n",
    "    print(\"Algorithm\\tDepth\\tNodes\\t  EBF\\t\\tDepth\\tNodes\\t  EBF\\t\\tDepth\\tNodes\\t  EBF\")\n",
    "    print(\"IDS\\t\\t  \" + str(iDSDepth[0][0]) + \"  \\t \" + str(iDSDepth[0][1]) +\n",
    "         \"\\t\" + (ebf(iDSDepth[0][1], iDSDepth[0][0])), end = \"\\t\\t\")\n",
    "    print(str(iDSDepth[1][0]) + \"  \\t \" + str(iDSDepth[1][1]) +\n",
    "         \"\\t\" + (ebf(iDSDepth[1][1], iDSDepth[1][0])), end = \"\\t\\t\")\n",
    "    print(str(iDSDepth[2][0]) + \"  \\t \" + str(iDSDepth[2][1]) +\n",
    "         \"\\t\" + (ebf(iDSDepth[2][1], iDSDepth[2][0])))\n",
    "\n",
    "    for i in range(len(hFlist)):\n",
    "        print(\"A*h\" + str(i+1) + \"\\t\\t\" + str(aStarDepth[0][0]) + \"\\t\" + str(aStarDepth[0][1]) + \n",
    "             \"\\t\" + (ebf(aStarDepth[(3*i)][1], iStarDepth[3*i][0])), end = \"\\t\\t\")\n",
    "        \n",
    "        print(str(aStarDepth[3*i+1][0]) + \"\\t\" + str(aStarDepth[3*i+1][1]) + \n",
    "             \"\\t\" + (ebf(aStarDepth[(3*i+1)][1], iStarDepth[3*i+1][0])), end = \"\\t\\t\")\n",
    "        \n",
    "        print(str(aStarDepth[3*i+2][0]) + \"\\t\" + str(aStarDepth[3*i+2][1]) + \n",
    "             \"\\t\" + (ebf(aStarDepth[(3*i+1)][1], iStarDepth[3*i+2][0])))"
   ]
  },
  {
   "cell_type": "markdown",
   "metadata": {},
   "source": [
    "## Comparing A* and Iterative Deepening on 8-Puzzle"
   ]
  },
  {
   "cell_type": "code",
   "execution_count": 275,
   "metadata": {
    "collapsed": true
   },
   "outputs": [],
   "source": [
    "goalState1 = [1,2,3,4,0,5,6,7,8]\n",
    "goalState2 = [1,2,3,4,5,8,6,0,7]\n",
    "goalState3 = [1,0,3,4,5,8,2,6,7]"
   ]
  },
  {
   "cell_type": "code",
   "execution_count": 276,
   "metadata": {
    "scrolled": true
   },
   "outputs": [
    {
     "name": "stdout",
     "output_type": "stream",
     "text": [
      "[1, 2, 3, 4, 0, 5, 6, 7, 8] \t [1, 2, 3, 4, 5, 8, 6, 0, 7] \t [1, 0, 3, 4, 5, 8, 2, 6, 7]\n",
      "Algorithm   Depth  Nodes  EBF\t Depth  Nodes  EBF\t\t Depth  Nodes  EBF\n"
     ]
    },
    {
     "ename": "TypeError",
     "evalue": "__init__() missing 1 required positional argument: 'parent'",
     "output_type": "error",
     "traceback": [
      "\u001b[0;31m---------------------------------------------------------------------------\u001b[0m",
      "\u001b[0;31mTypeError\u001b[0m                                 Traceback (most recent call last)",
      "\u001b[0;32m<ipython-input-276-6fe26f6726fe>\u001b[0m in \u001b[0;36m<module>\u001b[0;34m()\u001b[0m\n\u001b[1;32m      1\u001b[0m \u001b[0mhFList1\u001b[0m \u001b[0;34m=\u001b[0m \u001b[0;34m[\u001b[0m\u001b[0mh1_8p\u001b[0m\u001b[0;34m,\u001b[0m\u001b[0mh2_8p\u001b[0m\u001b[0;34m,\u001b[0m\u001b[0mh3_8p\u001b[0m\u001b[0;34m]\u001b[0m\u001b[0;34m\u001b[0m\u001b[0m\n\u001b[0;32m----> 2\u001b[0;31m \u001b[0msolution\u001b[0m \u001b[0;34m=\u001b[0m \u001b[0mrunExperiment\u001b[0m\u001b[0;34m(\u001b[0m\u001b[0mgoalState1\u001b[0m\u001b[0;34m,\u001b[0m \u001b[0mgoalState2\u001b[0m\u001b[0;34m,\u001b[0m \u001b[0mgoalState3\u001b[0m\u001b[0;34m,\u001b[0m \u001b[0mhFList1\u001b[0m\u001b[0;34m)\u001b[0m\u001b[0;34m\u001b[0m\u001b[0m\n\u001b[0m",
      "\u001b[0;32m<ipython-input-274-620893c9afb6>\u001b[0m in \u001b[0;36mrunExperiment\u001b[0;34m(goalState1, goalState2, goalState3, hFList)\u001b[0m\n\u001b[1;32m     19\u001b[0m \u001b[0;34m\u001b[0m\u001b[0m\n\u001b[1;32m     20\u001b[0m     \u001b[0;32mfor\u001b[0m \u001b[0mhF\u001b[0m \u001b[0;32min\u001b[0m \u001b[0mhFList\u001b[0m\u001b[0;34m:\u001b[0m\u001b[0;34m\u001b[0m\u001b[0m\n\u001b[0;32m---> 21\u001b[0;31m         \u001b[0maStarSol\u001b[0m\u001b[0;34m.\u001b[0m\u001b[0mappend\u001b[0m\u001b[0;34m(\u001b[0m\u001b[0maStarSearch\u001b[0m\u001b[0;34m(\u001b[0m\u001b[0mstartState\u001b[0m\u001b[0;34m,\u001b[0m\u001b[0mactionsF_8p\u001b[0m\u001b[0;34m,\u001b[0m \u001b[0mtakeActionF_8p\u001b[0m\u001b[0;34m,\u001b[0m \u001b[0;32mlambda\u001b[0m \u001b[0ms\u001b[0m\u001b[0;34m:\u001b[0m \u001b[0mgoalTestF_8p\u001b[0m\u001b[0;34m(\u001b[0m\u001b[0ms\u001b[0m\u001b[0;34m,\u001b[0m \u001b[0mgoalState1\u001b[0m\u001b[0;34m)\u001b[0m\u001b[0;34m,\u001b[0m \u001b[0;32mlambda\u001b[0m \u001b[0mv\u001b[0m\u001b[0;34m:\u001b[0m \u001b[0mhF\u001b[0m\u001b[0;34m(\u001b[0m\u001b[0mv\u001b[0m\u001b[0;34m,\u001b[0m \u001b[0mgoalState1\u001b[0m\u001b[0;34m)\u001b[0m\u001b[0;34m)\u001b[0m\u001b[0;34m[\u001b[0m\u001b[0;36m0\u001b[0m\u001b[0;34m]\u001b[0m\u001b[0;34m)\u001b[0m\u001b[0;34m\u001b[0m\u001b[0m\n\u001b[0m\u001b[1;32m     22\u001b[0m         \u001b[0mt\u001b[0m \u001b[0;34m=\u001b[0m \u001b[0;34m(\u001b[0m\u001b[0mlen\u001b[0m\u001b[0;34m(\u001b[0m\u001b[0maStarSol\u001b[0m\u001b[0;34m[\u001b[0m\u001b[0;34m-\u001b[0m\u001b[0;36m1\u001b[0m\u001b[0;34m]\u001b[0m\u001b[0;34m)\u001b[0m\u001b[0;34m-\u001b[0m\u001b[0;36m1\u001b[0m\u001b[0;34m,\u001b[0m\u001b[0mnNodesGlobal\u001b[0m\u001b[0;34m)\u001b[0m\u001b[0;34m\u001b[0m\u001b[0m\n\u001b[1;32m     23\u001b[0m         \u001b[0maStarDepth\u001b[0m\u001b[0;34m.\u001b[0m\u001b[0mappend\u001b[0m\u001b[0;34m(\u001b[0m\u001b[0mt\u001b[0m\u001b[0;34m)\u001b[0m\u001b[0;34m\u001b[0m\u001b[0m\n",
      "\u001b[0;32m<ipython-input-240-163032da0b21>\u001b[0m in \u001b[0;36maStarSearch\u001b[0;34m(startState, actionsF, takeActionF, goalTestF, hF)\u001b[0m\n\u001b[1;32m      2\u001b[0m     \u001b[0;32mglobal\u001b[0m \u001b[0mnNodesGlobal\u001b[0m\u001b[0;34m\u001b[0m\u001b[0m\n\u001b[1;32m      3\u001b[0m     \u001b[0mh\u001b[0m \u001b[0;34m=\u001b[0m \u001b[0mhF\u001b[0m\u001b[0;34m(\u001b[0m\u001b[0mstartState\u001b[0m\u001b[0;34m)\u001b[0m\u001b[0;34m\u001b[0m\u001b[0m\n\u001b[0;32m----> 4\u001b[0;31m     \u001b[0mstartNode\u001b[0m \u001b[0;34m=\u001b[0m \u001b[0mNode\u001b[0m\u001b[0;34m(\u001b[0m\u001b[0mstate\u001b[0m\u001b[0;34m=\u001b[0m\u001b[0mstartState\u001b[0m\u001b[0;34m,\u001b[0m \u001b[0mf\u001b[0m\u001b[0;34m=\u001b[0m\u001b[0;36m0\u001b[0m\u001b[0;34m+\u001b[0m\u001b[0mh\u001b[0m\u001b[0;34m,\u001b[0m \u001b[0mg\u001b[0m\u001b[0;34m=\u001b[0m\u001b[0;36m0\u001b[0m\u001b[0;34m,\u001b[0m \u001b[0mh\u001b[0m\u001b[0;34m=\u001b[0m\u001b[0mh\u001b[0m\u001b[0;34m)\u001b[0m\u001b[0;34m\u001b[0m\u001b[0m\n\u001b[0m\u001b[1;32m      5\u001b[0m     \u001b[0mnNodesGlobal\u001b[0m \u001b[0;34m=\u001b[0m \u001b[0;36m0\u001b[0m\u001b[0;34m\u001b[0m\u001b[0m\n\u001b[1;32m      6\u001b[0m     \u001b[0;32mreturn\u001b[0m \u001b[0maStarSearchHelper\u001b[0m\u001b[0;34m(\u001b[0m\u001b[0mstartNode\u001b[0m\u001b[0;34m,\u001b[0m \u001b[0mactionsF\u001b[0m\u001b[0;34m,\u001b[0m \u001b[0mtakeActionF\u001b[0m\u001b[0;34m,\u001b[0m \u001b[0mgoalTestF\u001b[0m\u001b[0;34m,\u001b[0m \u001b[0mhF\u001b[0m\u001b[0;34m,\u001b[0m \u001b[0mfloat\u001b[0m\u001b[0;34m(\u001b[0m\u001b[0;36m50\u001b[0m\u001b[0;34m)\u001b[0m\u001b[0;34m)\u001b[0m\u001b[0;34m\u001b[0m\u001b[0m\n",
      "\u001b[0;31mTypeError\u001b[0m: __init__() missing 1 required positional argument: 'parent'"
     ]
    }
   ],
   "source": [
    "hFList1 = [h1_8p,h2_8p,h3_8p]\n",
    "solution = runExperiment(goalState1, goalState2, goalState3, hFList1)"
   ]
  },
  {
   "cell_type": "code",
   "execution_count": null,
   "metadata": {
    "collapsed": true
   },
   "outputs": [],
   "source": []
  }
 ],
 "metadata": {
  "anaconda-cloud": {},
  "kernelspec": {
   "display_name": "Python 3",
   "language": "python",
   "name": "python3"
  },
  "language_info": {
   "codemirror_mode": {
    "name": "ipython",
    "version": 3
   },
   "file_extension": ".py",
   "mimetype": "text/x-python",
   "name": "python",
   "nbconvert_exporter": "python",
   "pygments_lexer": "ipython3",
   "version": "3.6.3"
  }
 },
 "nbformat": 4,
 "nbformat_minor": 1
}
