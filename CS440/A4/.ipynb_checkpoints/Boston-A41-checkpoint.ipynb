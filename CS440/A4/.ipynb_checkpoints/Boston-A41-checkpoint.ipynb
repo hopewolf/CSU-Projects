{
 "cells": [
  {
   "cell_type": "markdown",
   "metadata": {},
   "source": [
    "# Reinforcement Learning Solution to the Towers of Hanoi Puzzle"
   ]
  },
  {
   "cell_type": "markdown",
   "metadata": {},
   "source": [
    "For this assignment, you will use reinforcement learning to solve the [Towers of Hanoi](https://en.wikipedia.org/wiki/Tower_of_Hanoi) puzzle.  \n",
    "\n",
    "To accomplish this, you must modify the code discussed in lecture for learning to play Tic-Tac-Toe.  Modify the code  so that it learns to solve the three-disk, three-peg\n",
    "Towers of Hanoi Puzzle.  In some ways, this will be simpler than the\n",
    "Tic-Tac-Toe code.  \n",
    "\n",
    "Steps required to do this include the following:\n",
    "\n",
    "  - Represent the state, and use it as a tuple as a key to the Q dictionary.\n",
    "  - Make sure only valid moves are tried from each state.\n",
    "  - Assign reinforcement of $1$ to each move, even for the move that results in the goal state.\n",
    "\n",
    "Make a plot of the number of steps required to reach the goal for each\n",
    "trial.  Each trial starts from the same initial state.  Decay epsilon\n",
    "as in the Tic-Tac-Toe code."
   ]
  },
  {
   "cell_type": "markdown",
   "metadata": {},
   "source": [
    "## Requirements"
   ]
  },
  {
   "cell_type": "markdown",
   "metadata": {},
   "source": [
    "First, how should we represent the state of this puzzle?  We need to keep track of which disks are on which pegs. Name the disks 1, 2, and 3, with 1 being the smallest disk and 3 being the largest. The set of disks on a peg can be represented as a list of integers.  Then the state can be a list of three lists.\n",
    "\n",
    "For example, the starting state with all disks being on the left peg would be `[[1, 2, 3], [], []]`.  After moving disk 1 to peg 2, we have `[[2, 3], [1], []]`.\n",
    "\n",
    "To represent that move we just made, we can use a list of two peg numbers, like `[1, 2]`, representing a move of the top disk on peg 1 to peg 2."
   ]
  },
  {
   "cell_type": "markdown",
   "metadata": {},
   "source": [
    "Now on to some functions. Define at least the following functions. Examples showing required output appear below.\n",
    "\n",
    "   - `printState(state)`: prints the state in the form shown below\n",
    "   - `validMoves(state)`: returns list of moves that are valid from `state`\n",
    "   - `makeMove(state, move)`: returns new (copy of) state after move has been applied.\n",
    "   - `trainQ(nRepetitions, learningRate, epsilonDecayFactor, validMovesF, makeMoveF)`: train the Q function for number of repetitions, decaying epsilon at start of each repetition. Returns Q and list or array of number of steps to reach goal for each repetition.\n",
    "   - `testQ(Q, maxSteps, validMovesF, makeMoveF)`: without updating Q, use Q to find greedy action each step until goal is found. Return path of states.\n",
    "\n",
    "A function that you might choose to implement is\n",
    "\n",
    "   - `stateMoveTuple(state, move)`: returns tuple of state and move.  \n",
    "    \n",
    "This is useful for converting state and move to a key to be used for the Q dictionary.\n",
    "\n",
    "Show the code and results for testing each function.  Then experiment with various values of `nRepetitions`, `learningRate`, and `epsilonDecayFactor` to find values that work reasonably well, meaning that eventually the minimum solution path of seven steps is found consistently.\n",
    "\n",
    "Make a plot of the number of steps in the solution path versus number of repetitions. The plot should clearly show the number of steps in the solution path eventually reaching the minimum of seven steps, though the decrease will not be monotonic.  Also plot a horizontal, dashed line at 7 to show the optimal path length.\n",
    "\n",
    "Add markdown cells in which you describe the Q learning algorithm and your implementation of Q learning as applied to the Towers of Hanoi problem.  Use at least 15 sentences, in one or more markdown cells."
   ]
  },
  {
   "cell_type": "markdown",
   "metadata": {},
   "source": [
    "## Towers of Hanoi Helper Functions"
   ]
  },
  {
   "cell_type": "markdown",
   "metadata": {},
   "source": [
    "These functions below are specific to the Towers of Hanoi puzzle, a description of which can be found [here](https://en.wikipedia.org/wiki/Tower_of_Hanoi). The functions are generally summarized as follows:\n",
    "\n",
    "   - `printState(state)`: prints the state in the form shown below\n",
    "   - `validMoves(state)`: returns list of moves that are valid from `state`\n",
    "   - `makeMove(state, move)`: returns new (copy of) state after move has been applied.\n",
    "   - `trainQ(nRepetitions, learningRate, epsilonDecayFactor, validMovesF, makeMoveF)`: train the Q function for number of repetitions, decaying epsilon at start of each repetition. Returns Q and list or array of number of steps to reach goal for each repetition.\n",
    "   - `testQ(Q, maxSteps, validMovesF, makeMoveF)`: without updating Q, use Q to find greedy action each step until goal is found. Return path of states.\n",
    "   - `stateMoveTuple(state, move)`: returns tuple of state and move.\n",
    "\n",
    "*note: these function definitions were copied from the CS440 A4 assignment page located [here](http://nbviewer.jupyter.org/url/www.cs.colostate.edu/~anderson/cs440/notebooks/A4%20Reinforcement%20Learning%20Solution%20to%20Towers%20of%20Hanoi.ipynb).*\n",
    "\n",
    "I've also added some additional comments when it seemed necessary, as well as some preliminary testing below each function. "
   ]
  },
  {
   "cell_type": "code",
   "execution_count": 74,
   "metadata": {
    "collapsed": true
   },
   "outputs": [],
   "source": [
    "from copy import deepcopy\n",
    "import numpy as np\n",
    "import matplotlib.pyplot as plt\n",
    "%matplotlib inline\n",
    "from IPython.display import display, clear_output"
   ]
  },
  {
   "cell_type": "code",
   "execution_count": 2,
   "metadata": {
    "collapsed": true
   },
   "outputs": [],
   "source": [
    "def printState(state):\n",
    "    #three conditions to check. One peg has three disks, one peg has 2 and another has 1, or each peg has 3 disks.\n",
    "    oneEach = True\n",
    "    for i in range(3):\n",
    "        peg = state[i]\n",
    "        if len(peg) is 3:\n",
    "            if i is 0:\n",
    "                print(str(peg[0]) + \"\\n\" + str(peg[1]) + \"\\n\" + str(peg[2]) + \"\\n------\")\n",
    "            elif i is 1:\n",
    "                print(\"  \" + str(peg[0]) + \"\\n  \" + str(peg[1]) + \"\\n  \" + str(peg[2]) + \"\\n------\")\n",
    "            else:\n",
    "                print(\"    \" + str(peg[0]) + \"\\n    \" + str(peg[1]) + \"\\n    \" + str(peg[2]) + \"\\n------\")\n",
    "            return\n",
    "        elif len(peg) is 2:\n",
    "            oneEach = False\n",
    "    #not the most efficient, but given the small sizes it works ok.\n",
    "    #at this point, we know the max number of disks on a single peg (either 2 or 1 by now, 3 would have returned already)\n",
    "    \n",
    "    #if each peg has a single disk:\n",
    "    if oneEach:\n",
    "        for peg in state:\n",
    "            print(peg[0], end = \" \")\n",
    "        print(\"\")\n",
    "    #if one peg has 2, another has 1:\n",
    "    else:\n",
    "        for row in range(2):\n",
    "            for peg in state:\n",
    "                if len(peg) is 2 and row is 0:\n",
    "                    print(str(peg[0]), end = \" \")\n",
    "                elif len(peg) is 2:\n",
    "                    print(str(peg[1]), end = \" \")\n",
    "                elif len(peg) is 1 and row is 1:\n",
    "                    print(peg[0], end = \" \")\n",
    "                else:\n",
    "                    print(\" \", end = \" \")\n",
    "            print(\"\")\n",
    "    print(\"------\")  "
   ]
  },
  {
   "cell_type": "markdown",
   "metadata": {},
   "source": [
    "Testing printState(state) function:"
   ]
  },
  {
   "cell_type": "code",
   "execution_count": 3,
   "metadata": {},
   "outputs": [
    {
     "name": "stdout",
     "output_type": "stream",
     "text": [
      "1\n",
      "2\n",
      "3\n",
      "------\n"
     ]
    }
   ],
   "source": [
    "state = [[1, 2, 3], [], []]\n",
    "printState(state)"
   ]
  },
  {
   "cell_type": "code",
   "execution_count": 4,
   "metadata": {},
   "outputs": [
    {
     "name": "stdout",
     "output_type": "stream",
     "text": [
      "    2 \n",
      "  1 3 \n",
      "------\n"
     ]
    }
   ],
   "source": [
    "state = [[], [1], [2, 3]]\n",
    "printState(state)"
   ]
  },
  {
   "cell_type": "code",
   "execution_count": 5,
   "metadata": {
    "scrolled": true
   },
   "outputs": [
    {
     "name": "stdout",
     "output_type": "stream",
     "text": [
      "2 1 3 \n",
      "------\n"
     ]
    }
   ],
   "source": [
    "state = [[2], [1], [3]]\n",
    "printState(state)"
   ]
  },
  {
   "cell_type": "code",
   "execution_count": 6,
   "metadata": {},
   "outputs": [
    {
     "name": "stdout",
     "output_type": "stream",
     "text": [
      "    2 \n",
      "  1 3 \n",
      "------\n"
     ]
    }
   ],
   "source": [
    "state = [[], [1], [2,3]]\n",
    "printState(state)"
   ]
  },
  {
   "cell_type": "code",
   "execution_count": 7,
   "metadata": {},
   "outputs": [
    {
     "name": "stdout",
     "output_type": "stream",
     "text": [
      "  1\n",
      "  2\n",
      "  3\n",
      "------\n"
     ]
    }
   ],
   "source": [
    "state = [[], [1,2,3], []]\n",
    "printState(state)"
   ]
  },
  {
   "cell_type": "markdown",
   "metadata": {},
   "source": [
    "Note: inserting moves at end of list here. Could change to append (validMoves)..."
   ]
  },
  {
   "cell_type": "code",
   "execution_count": 8,
   "metadata": {
    "collapsed": true
   },
   "outputs": [],
   "source": [
    "def validMoves(state):\n",
    "    moves = []\n",
    "    for i in range(3):\n",
    "        peg = state[i]\n",
    "        if len(peg) is not 0:\n",
    "            topDisk = peg[0]\n",
    "            for j in range(3):\n",
    "                if i == j:\n",
    "                    continue\n",
    "                newPeg = state[j]\n",
    "                if len(newPeg) is 0:\n",
    "                    moves.append([i+1,j+1])\n",
    "                else:\n",
    "                    newTopDisk = newPeg[0]\n",
    "                    if topDisk < newTopDisk:\n",
    "                        moves.append([i+1,j+1])\n",
    "    return moves"
   ]
  },
  {
   "cell_type": "markdown",
   "metadata": {},
   "source": [
    "Testing validMoves(state) function:"
   ]
  },
  {
   "cell_type": "code",
   "execution_count": 9,
   "metadata": {},
   "outputs": [
    {
     "data": {
      "text/plain": [
       "[[1, 2], [1, 3]]"
      ]
     },
     "execution_count": 9,
     "metadata": {},
     "output_type": "execute_result"
    }
   ],
   "source": [
    "state = [[1, 2, 3], [], []]\n",
    "validMoves(state)"
   ]
  },
  {
   "cell_type": "code",
   "execution_count": 10,
   "metadata": {},
   "outputs": [
    {
     "data": {
      "text/plain": [
       "[[1, 2], [1, 3], [3, 2]]"
      ]
     },
     "execution_count": 10,
     "metadata": {},
     "output_type": "execute_result"
    }
   ],
   "source": [
    "state = [[1, 3], [], [2]]\n",
    "validMoves(state)"
   ]
  },
  {
   "cell_type": "code",
   "execution_count": 11,
   "metadata": {},
   "outputs": [
    {
     "data": {
      "text/plain": [
       "[[1, 3], [2, 1], [2, 3]]"
      ]
     },
     "execution_count": 11,
     "metadata": {},
     "output_type": "execute_result"
    }
   ],
   "source": [
    "state = [[2, 3], [1], []]\n",
    "validMoves(state)"
   ]
  },
  {
   "cell_type": "markdown",
   "metadata": {},
   "source": [
    "validMoves(state) passes its preliminary testing, and seems to be functioning as expected."
   ]
  },
  {
   "cell_type": "code",
   "execution_count": 12,
   "metadata": {
    "collapsed": true
   },
   "outputs": [],
   "source": [
    "def makeMove(state, move):\n",
    "    newState = deepcopy(state)\n",
    "    #subtract one from each value in move to convert back to index (as index 0 = peg 1, etc)\n",
    "    indexFrom = move[0]-1\n",
    "    indexTo = move[1]-1\n",
    "    #always move the top disk, so whatever is at front of list at 'indexFrom'\n",
    "    disk = newState[indexFrom][0]\n",
    "    #remove disk from 'indexFrom'\n",
    "    newState[indexFrom].remove(disk)\n",
    "    #add disk to indexTo (per comments above it is assumed to be a valid move)\n",
    "    newState[indexTo].insert(0, disk)\n",
    "    return newState\n",
    "    "
   ]
  },
  {
   "cell_type": "markdown",
   "metadata": {},
   "source": [
    "Testing makeMove(state, move) function:"
   ]
  },
  {
   "cell_type": "code",
   "execution_count": 13,
   "metadata": {},
   "outputs": [
    {
     "data": {
      "text/plain": [
       "[[1, 2], [1, 3]]"
      ]
     },
     "execution_count": 13,
     "metadata": {},
     "output_type": "execute_result"
    }
   ],
   "source": [
    "state = [[1, 2, 3], [], []]\n",
    "validMoves(state)"
   ]
  },
  {
   "cell_type": "code",
   "execution_count": 14,
   "metadata": {
    "scrolled": true
   },
   "outputs": [
    {
     "name": "stdout",
     "output_type": "stream",
     "text": [
      "1\n",
      "2\n",
      "3\n",
      "------\n",
      "2     \n",
      "3 1   \n",
      "------\n"
     ]
    }
   ],
   "source": [
    "newState = makeMove(state, [1,2])\n",
    "printState(state)\n",
    "printState(newState)"
   ]
  },
  {
   "cell_type": "code",
   "execution_count": 15,
   "metadata": {},
   "outputs": [
    {
     "name": "stdout",
     "output_type": "stream",
     "text": [
      "1\n",
      "2\n",
      "3\n",
      "------\n",
      "2     \n",
      "3   1 \n",
      "------\n"
     ]
    }
   ],
   "source": [
    "newState = makeMove(state, [1,3])\n",
    "printState(state)\n",
    "printState(newState)\n",
    "state = newState"
   ]
  },
  {
   "cell_type": "code",
   "execution_count": 16,
   "metadata": {},
   "outputs": [
    {
     "data": {
      "text/plain": [
       "[[1, 2], [3, 1], [3, 2]]"
      ]
     },
     "execution_count": 16,
     "metadata": {},
     "output_type": "execute_result"
    }
   ],
   "source": [
    "validMoves(state)"
   ]
  },
  {
   "cell_type": "code",
   "execution_count": 17,
   "metadata": {},
   "outputs": [
    {
     "name": "stdout",
     "output_type": "stream",
     "text": [
      "2     \n",
      "3   1 \n",
      "------\n",
      "2     \n",
      "3 1   \n",
      "------\n"
     ]
    }
   ],
   "source": [
    "newState = makeMove(state, [3,2])\n",
    "printState(state)\n",
    "printState(newState)"
   ]
  },
  {
   "cell_type": "markdown",
   "metadata": {},
   "source": [
    "makeMove(state, move) is performing as expected. "
   ]
  },
  {
   "cell_type": "code",
   "execution_count": 18,
   "metadata": {
    "collapsed": true
   },
   "outputs": [],
   "source": [
    "def stateMoveTuple(state, move):\n",
    "    first = tuple(state[0])\n",
    "    second = tuple(state[1])\n",
    "    third = tuple(state[2])\n",
    "    tMove = tuple(move)\n",
    "    sMT = ((first, second, third), tMove)\n",
    "    return sMT"
   ]
  },
  {
   "cell_type": "markdown",
   "metadata": {},
   "source": [
    "Testing stateMoveTuple(state, move) functionality:"
   ]
  },
  {
   "cell_type": "code",
   "execution_count": 19,
   "metadata": {},
   "outputs": [
    {
     "data": {
      "text/plain": [
       "(((1, 2, 3), (), ()), (1, 2))"
      ]
     },
     "execution_count": 19,
     "metadata": {},
     "output_type": "execute_result"
    }
   ],
   "source": [
    "state = [[1, 2, 3], [], []]\n",
    "move =[1, 2]\n",
    "stateMoveTuple(state, move)"
   ]
  },
  {
   "cell_type": "code",
   "execution_count": 20,
   "metadata": {},
   "outputs": [
    {
     "data": {
      "text/plain": [
       "(((), (2, 3), (1,)), (2, 3))"
      ]
     },
     "execution_count": 20,
     "metadata": {},
     "output_type": "execute_result"
    }
   ],
   "source": [
    "state = [[], [2, 3], [1]]\n",
    "move =[2, 3]\n",
    "stateMoveTuple(state, move)"
   ]
  },
  {
   "cell_type": "markdown",
   "metadata": {},
   "source": [
    "This function passes preliminary testing. I was concerned at the addition of the comma for tuples with a single element (as seen directly above with (1,)). This does appear to be typical for python tuples, however, so I believe this is accurate. I will test further later on."
   ]
  },
  {
   "cell_type": "markdown",
   "metadata": {},
   "source": [
    "## Q Table"
   ]
  },
  {
   "cell_type": "markdown",
   "metadata": {},
   "source": [
    "Now, on to setting up and initializing the Q table, setting learning parameters, and creating the training functions."
   ]
  },
  {
   "cell_type": "markdown",
   "metadata": {},
   "source": [
    "*Note: the following function `epsilonGreedy(epsilon, Q, board)` was adapted from a similar function provided to the class [here](http://nbviewer.jupyter.org/url/www.cs.colostate.edu/~anderson/cs440/notebooks/15%20Reinforcement%20Learning%20for%20Two-Player%20Games.ipynb). It was adapted to work for the Towers of Hanoi.*"
   ]
  },
  {
   "cell_type": "code",
   "execution_count": 54,
   "metadata": {
    "collapsed": true
   },
   "outputs": [],
   "source": [
    "## NOTE: changed argmax in the last line to argmin, as we want to minimize cost of solution\n",
    "\n",
    "def epsilonGreedy(epsilon, Q, state, validMovesF):\n",
    "    possibleMoves = validMovesF(state)\n",
    "    if np.random.uniform() < epsilon:\n",
    "        rand = np.random.randint(len(possibleMoves)-1)\n",
    "        return possibleMoves[rand]\n",
    "    else:\n",
    "        Qs = np.array([Q.get(stateMoveTuple(state, m), 0) for m in possibleMoves]) \n",
    "        return possibleMoves[np.argmin(Qs)]"
   ]
  },
  {
   "cell_type": "markdown",
   "metadata": {},
   "source": [
    "Now, for the actual training function! "
   ]
  },
  {
   "cell_type": "code",
   "execution_count": 184,
   "metadata": {
    "collapsed": true
   },
   "outputs": [],
   "source": [
    "epsilonDecayFactor = 0.99\n",
    "learningRate = 0.25 #same as rho\n",
    "nRepetitions = 50000"
   ]
  },
  {
   "cell_type": "code",
   "execution_count": 185,
   "metadata": {
    "collapsed": true
   },
   "outputs": [],
   "source": [
    "def plotOutcomes(numSteps, nRepetitions, rep):\n",
    "    if rep==0:\n",
    "        return\n",
    "    nBins = 100\n",
    "    nPer = int(nRepetitions/nBins)\n",
    "    \n",
    "    avgs = [sum(numSteps[i:i+nPer])//nPer for i in range(0, len(numSteps), nPer)]\n",
    "    if len(avgs) > 2:\n",
    "        avgs.pop()\n",
    "        avgs.append(avgs[-1])\n",
    "    #basically, need to divide numSteps (list) into a list of averages. The averages come from nPer iterations...\n",
    "    \n",
    "    plt.subplot(2,1,1) \n",
    "    xs = np.linspace(nPer,rep,len(avgs))\n",
    "    plt.plot(xs, avgs)\n",
    "    plt.xlabel('Repetitions')\n",
    "    plt.ylabel('Mean of Number of Steps \\nto Solution (ideal is 7)')\n",
    "    plt.title('Bins of {:d} Repetitions'.format(nPer))\n",
    "    plt.axhline(y=7, color = 'r', linestyle='--')\n",
    "    plt.subplot(2,1,2)\n",
    "    sum1L = []\n",
    "    sum2L = []\n",
    "    sum3L = []\n",
    "    for i in range(0, len(numSteps), nPer):\n",
    "        temp = numSteps[i:i+nPer]\n",
    "        sum1L.append(sum(1 for y in temp if y > 11))\n",
    "        sum2L.append(sum(1 for y in temp if y < 12 and y > 7))\n",
    "        sum3L.append(sum(1 for y in temp if y == 7))\n",
    "    if len(sum1L) > 2:\n",
    "        sum1L.pop()\n",
    "        temp = sum1L[-1]\n",
    "        sum1L.append(sum1L[-1])\n",
    "        sum2L.pop()\n",
    "        sum2L.append(sum2L[-1])\n",
    "        sum3L.pop()\n",
    "        sum3L.append(sum3L[-1])\n",
    "    plt.plot(xs,sum1L,'g-',label='Solution paths greater than 11 steps')\n",
    "    plt.plot(xs,sum2L,'b-',label='Solution paths between 8 to 10 steps')\n",
    "    plt.plot(xs,sum3L,'r-',label='Solution paths of exactly 7 steps (ideal)')\n",
    "    plt.legend(loc=\"center\")\n",
    "    plt.ylabel('Number of Games\\nin Bins of {:d}'.format(nPer))\n",
    "    plt.xlabel('Repetitions')"
   ]
  },
  {
   "cell_type": "code",
   "execution_count": 195,
   "metadata": {
    "collapsed": true
   },
   "outputs": [],
   "source": [
    "def trainQ(nRepetitions, learningRate, epsilonDecayFactor, validMovesF, makeMoveF):\n",
    "    Q = {}\n",
    "    numSteps = []    #keep track of the number of steps to solve the puzzle for each iteration (ideal is 7)\n",
    "    epsilon = 1.0\n",
    "    graphics = False   #set to 'False' only for autograder. To generate graphs, set to 'True'\n",
    "    if graphics:\n",
    "        fig = plt.figure(figsize=(10,10))\n",
    "    \n",
    "    for rep in range(nRepetitions):\n",
    "        epsilon *= epsilonDecayFactor\n",
    "        step = 0\n",
    "        state = [[1,2,3],[],[]]\n",
    "        done = False\n",
    "        \n",
    "        while not done:\n",
    "            step += 1\n",
    "            #find next move:\n",
    "            move = epsilonGreedy(epsilon, Q, state, validMovesF)\n",
    "            #take next move:\n",
    "            newState = makeMoveF(state, move)\n",
    "            #add to Q table\n",
    "            newSMT = stateMoveTuple(state,move)\n",
    "            if newSMT not in Q:\n",
    "                Q[newSMT] = 0     # initial value is 0\n",
    "            \n",
    "            if step > 1:\n",
    "                oldSMT = stateMoveTuple(oldState, oldMove)\n",
    "                #check if puzzle has been solved:\n",
    "                if newState == [[],[],[1,2,3]]:\n",
    "                    done = True\n",
    "                    Q[oldSMT] = 1\n",
    "                    numSteps.append(step)\n",
    "                else:  \n",
    "                    Q[oldSMT] += learningRate * (1 + Q[newSMT] - Q[oldSMT])\n",
    "            \n",
    "            oldState, oldMove = state, move \n",
    "            state = newState\n",
    "    \n",
    "        if graphics and (rep % (nRepetitions/10) == 0 or rep == nRepetitions-1):\n",
    "            fig.clf()\n",
    "            plotOutcomes(numSteps,nRepetitions,rep-1)\n",
    "            clear_output(wait=True)\n",
    "            display(fig);\n",
    "        \n",
    "    if graphics:\n",
    "        clear_output(wait=True)\n",
    "    return Q, numSteps"
   ]
  },
  {
   "cell_type": "markdown",
   "metadata": {},
   "source": [
    "Now, preliminary testing for both `plotOutcomes(numSteps, nRepetitions, rep)` and `trainQ(nRepetitions, learningRate, epsilonDecayFactor, validMovesF, makeMoveF)`:"
   ]
  },
  {
   "cell_type": "code",
   "execution_count": 173,
   "metadata": {
    "scrolled": false
   },
   "outputs": [
    {
     "data": {
      "image/png": "[encoded data removed]",
      "text/plain": [
       "<Figure size 720x720 with 2 Axes>"
      ]
     },
     "metadata": {
      "needs_background": "light"
     },
     "output_type": "display_data"
    }
   ],
   "source": [
    "epsilonDecayFactor = 0.99\n",
    "learningRate = 0.25 #same as rho\n",
    "nRepetitions = 30000\n",
    "graphics = True\n",
    "trainQ(nRepetitions, learningRate, epsilonDecayFactor, validMoves, makeMove)"
   ]
  },
  {
   "cell_type": "markdown",
   "metadata": {},
   "source": [
    "As you can see from the above charts, with these parameters it converges onto the ideal number of steps pretty quickly. However, if you rerun this multiple times, you will see that it is not consistent; it is just as likely to converge on 8 steps as 7. I believe the learning rate is a little too high."
   ]
  },
  {
   "cell_type": "code",
   "execution_count": 177,
   "metadata": {
    "scrolled": false
   },
   "outputs": [
    {
     "data": {
      "image/png": "[encoded data removed]",
      "text/plain": [
       "<Figure size 720x720 with 2 Axes>"
      ]
     },
     "metadata": {
      "needs_background": "light"
     },
     "output_type": "display_data"
    }
   ],
   "source": [
    "epsilonDecayFactor = 0.999\n",
    "learningRate = 0.10 #same as rho\n",
    "nRepetitions = 30000\n",
    "graphics = True\n",
    "trainQ(nRepetitions, learningRate, epsilonDecayFactor, validMoves, makeMove)"
   ]
  },
  {
   "cell_type": "markdown",
   "metadata": {},
   "source": [
    "This seems to perform much better; we can see \"hesitation\" when the program reaches 8 steps in the solution path, but it is able to continue to find the ideal 7 step solution."
   ]
  },
  {
   "cell_type": "code",
   "execution_count": 178,
   "metadata": {
    "scrolled": false
   },
   "outputs": [
    {
     "data": {
      "image/png": "[encoded data removed]",
      "text/plain": [
       "<Figure size 720x720 with 2 Axes>"
      ]
     },
     "metadata": {
      "needs_background": "light"
     },
     "output_type": "display_data"
    }
   ],
   "source": [
    "epsilonDecayFactor = 0.999\n",
    "learningRate = 0.02 #same as rho\n",
    "nRepetitions = 30000\n",
    "graphics = True\n",
    "trainQ(nRepetitions, learningRate, epsilonDecayFactor, validMoves, makeMove)"
   ]
  },
  {
   "cell_type": "markdown",
   "metadata": {},
   "source": [
    "This seems to do just fine as well, very consistent, while still finding the correct solution path very quickly (approximately 10,000 iterations). While there is always more fine-tuning that could be done, these values for `learningRate` and `epsilonDecayFactor` seem to provide very consistent results."
   ]
  },
  {
   "cell_type": "code",
   "execution_count": 180,
   "metadata": {
    "scrolled": false
   },
   "outputs": [
    {
     "data": {
      "image/png": "[encoded data removed]",
      "text/plain": [
       "<Figure size 720x720 with 2 Axes>"
      ]
     },
     "metadata": {
      "needs_background": "light"
     },
     "output_type": "display_data"
    }
   ],
   "source": [
    "epsilonDecayFactor = 0.999\n",
    "learningRate = 0.002 #same as rho\n",
    "nRepetitions = 30000\n",
    "graphics = True\n",
    "trainQ(nRepetitions, learningRate, epsilonDecayFactor, validMoves, makeMove)"
   ]
  },
  {
   "cell_type": "markdown",
   "metadata": {},
   "source": [
    "Again, with these values we see that the minimum solution path of 7 is found consistently, in around 10,000 - 15,000 iterations. As we do not see a noticeable increase in consistency over `learningRate = .02` shown above this test, I would prefer the 0.2 value as it decreases the number of iterations necessary while not sacrificing accuracy.  "
   ]
  },
  {
   "cell_type": "markdown",
   "metadata": {},
   "source": [
    "# Examples"
   ]
  },
  {
   "cell_type": "code",
   "execution_count": null,
   "metadata": {
    "collapsed": true
   },
   "outputs": [],
   "source": [
    "state = [[1, 2, 3], [], []]\n",
    "printState(state)"
   ]
  },
  {
   "cell_type": "code",
   "execution_count": null,
   "metadata": {
    "collapsed": true
   },
   "outputs": [],
   "source": [
    "validMoves(state)"
   ]
  },
  {
   "cell_type": "code",
   "execution_count": null,
   "metadata": {
    "collapsed": true
   },
   "outputs": [],
   "source": [
    "move =[1, 2]\n",
    "\n",
    "stateMoveTuple(state, move)"
   ]
  },
  {
   "cell_type": "code",
   "execution_count": null,
   "metadata": {
    "collapsed": true
   },
   "outputs": [],
   "source": [
    "newstate = makeMove(state, move)\n",
    "newstate"
   ]
  },
  {
   "cell_type": "code",
   "execution_count": null,
   "metadata": {
    "collapsed": true
   },
   "outputs": [],
   "source": [
    "printState(newstate)"
   ]
  },
  {
   "cell_type": "code",
   "execution_count": null,
   "metadata": {
    "collapsed": true
   },
   "outputs": [],
   "source": [
    "Q, stepsToGoal = trainQ(50, 0.5, 0.7, validMoves, makeMove)"
   ]
  },
  {
   "cell_type": "code",
   "execution_count": null,
   "metadata": {
    "collapsed": true
   },
   "outputs": [],
   "source": [
    "stepsToGoal"
   ]
  },
  {
   "cell_type": "code",
   "execution_count": null,
   "metadata": {
    "collapsed": true
   },
   "outputs": [],
   "source": [
    "path = testQ(Q, 20, validMoves, makeMove)"
   ]
  },
  {
   "cell_type": "code",
   "execution_count": null,
   "metadata": {
    "collapsed": true
   },
   "outputs": [],
   "source": [
    "path"
   ]
  },
  {
   "cell_type": "code",
   "execution_count": null,
   "metadata": {
    "collapsed": true
   },
   "outputs": [],
   "source": [
    "for s in path:\n",
    "    printState(s)\n",
    "    print()"
   ]
  },
  {
   "cell_type": "code",
   "execution_count": 220,
   "metadata": {
    "collapsed": true
   },
   "outputs": [],
   "source": [
    "def testQ(Q, maxSteps, validMovesF, makeMoveF):\n",
    "    state = [[1,2,3],[],[]]\n",
    "    path = []\n",
    "    step = 0\n",
    "    while(step <= maxSteps):\n",
    "        step += 1\n",
    "        possibleMoves = validMovesF(state)\n",
    "        Qs = np.array([Q.get(stateMoveTuple(state, m), 0) for m in possibleMoves])\n",
    "        nextMove = possibleMoves[np.argmin(Qs)]\n",
    "        path.append(nextMove)\n",
    "        state = makeMoveF(state, nextMove)\n",
    "        if state == [[],[],[1,2,3]]:\n",
    "            return path\n",
    "    return path\n",
    "        "
   ]
  },
  {
   "cell_type": "markdown",
   "metadata": {},
   "source": [
    "Testing `testQ(Q, maxSteps, validMovesF, makeMoveF)` function:"
   ]
  },
  {
   "cell_type": "code",
   "execution_count": 221,
   "metadata": {
    "collapsed": true
   },
   "outputs": [],
   "source": [
    "Q, steps = trainQ(1000, 0.5, 0.7, validMoves, makeMove)"
   ]
  },
  {
   "cell_type": "code",
   "execution_count": 222,
   "metadata": {
    "collapsed": true
   },
   "outputs": [],
   "source": [
    "path = testQ(Q, 20, validMoves, makeMove)"
   ]
  },
  {
   "cell_type": "code",
   "execution_count": 223,
   "metadata": {},
   "outputs": [
    {
     "data": {
      "text/plain": [
       "[[1, 3], [1, 2], [3, 2], [1, 3], [2, 1], [2, 3], [1, 3]]"
      ]
     },
     "execution_count": 223,
     "metadata": {},
     "output_type": "execute_result"
    }
   ],
   "source": [
    "path"
   ]
  },
  {
   "cell_type": "markdown",
   "metadata": {},
   "source": [
    "## Grading"
   ]
  },
  {
   "cell_type": "markdown",
   "metadata": {
    "collapsed": true
   },
   "source": [
    "Download and extract `A4grader.py` from [A4grader.tar](http://www.cs.colostate.edu/~anderson/cs440/notebooks/A4grader.tar)."
   ]
  },
  {
   "cell_type": "code",
   "execution_count": 224,
   "metadata": {},
   "outputs": [
    {
     "name": "stdout",
     "output_type": "stream",
     "text": [
      "\n",
      "======================= Code Execution =======================\n",
      "\n",
      "Extracting python code from notebook named 'Boston-A4.ipynb' and storing in notebookcode.py\n",
      "Removing all statements that are not function or class defs or import statements.\n",
      "\n",
      "Testing validMoves([[1], [2], [3]])\n",
      "\n",
      "--- 10/10 points. Correctly returned [[1, 2], [1, 3], [2, 3]]\n",
      "\n",
      "Testing validMoves([[], [], [1, 2, 3]])\n",
      "\n",
      "--- 10/10 points. Correctly returned [[3, 1], [3, 2]]\n",
      "\n",
      "Testing makeMove([[], [], [1, 2, 3]], [3, 2])\n",
      "\n",
      "--- 10/10 points. Correctly returned [[], [1], [2, 3]]\n",
      "\n",
      "Testing makeMove([[2], [3], [1]], [1, 2])\n",
      "\n",
      "--- 10/10 points. Correctly returned [[], [2, 3], [1]]\n",
      "\n",
      "Testing   Q, steps = trainQ(1000, 0.5, 0.7, validMoves, makeMove).\n",
      "\n",
      "--- 10/10 points. Q dictionary has correct number of entries.\n",
      "\n",
      "--- 10/10 points. The mean of the number of steps of 7.447 is correctly < 10.\n",
      "\n",
      "Testing   path = testQ(Q, 20, validMoves, makeMove).\n",
      "\n",
      "--- 20/20 points. Correctly returns path of length 7, which is correctly less than 10.\n",
      "\n",
      "A4 Execution Grade is 80 / 80\n",
      "\n",
      " Remaining 20 points will be based on your text describing the trainQ and testQ functions.\n",
      "\n",
      "A4 FINAL GRADE is   / 100\n",
      "\n",
      "A4 EXTRA CREDIT is   / 1\n"
     ]
    }
   ],
   "source": [
    "%run -i A4grader.py"
   ]
  },
  {
   "cell_type": "markdown",
   "metadata": {},
   "source": [
    "## Extra Credit"
   ]
  },
  {
   "cell_type": "markdown",
   "metadata": {},
   "source": [
    "Modify your code to solve the Towers of Hanoi puzzle with 4 disks instead of 3.  Name your functions\n",
    "\n",
    "    - printState_4disk\n",
    "    - validMoves_4disk\n",
    "    - makeMove_4disk\n",
    "\n",
    "Find values for number of repetitions, learning rate, and epsilon decay factor for which trainQ learns a Q function that testQ can use to find the shortest solution path.  Include the output from the successful calls to trainQ and testQ."
   ]
  }
 ],
 "metadata": {
  "kernelspec": {
   "display_name": "Python 3",
   "language": "python",
   "name": "python3"
  },
  "language_info": {
   "codemirror_mode": {
    "name": "ipython",
    "version": 3
   },
   "file_extension": ".py",
   "mimetype": "text/x-python",
   "name": "python",
   "nbconvert_exporter": "python",
   "pygments_lexer": "ipython3",
   "version": "3.6.3"
  }
 },
 "nbformat": 4,
 "nbformat_minor": 2
}
