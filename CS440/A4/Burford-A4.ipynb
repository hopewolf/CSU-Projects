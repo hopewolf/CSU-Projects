{
 "cells": [
  {
   "cell_type": "markdown",
   "metadata": {},
   "source": [
    "# Reinforcement Learning Solution to the Towers of Hanoi Puzzle"
   ]
  },
  {
   "cell_type": "markdown",
   "metadata": {},
   "source": [
    "Name: __Luke Burford__"
   ]
  },
  {
   "cell_type": "markdown",
   "metadata": {},
   "source": [
    "For this assignment, you will use reinforcement learning to solve the [Towers of Hanoi](https://en.wikipedia.org/wiki/Tower_of_Hanoi) puzzle.  \n",
    "\n",
    "To accomplish this, you must modify the code discussed in lecture for learning to play Tic-Tac-Toe.  Modify the code  so that it learns to solve the three-disk, three-peg\n",
    "Towers of Hanoi Puzzle.  In some ways, this will be simpler than the\n",
    "Tic-Tac-Toe code.  \n",
    "\n",
    "Steps required to do this include the following:\n",
    "\n",
    "  - Represent the state, and use it as a tuple as a key to the Q dictionary.\n",
    "  - Make sure only valid moves are tried from each state.\n",
    "  - Assign reinforcement of $1$ to each move, even for the move that results in the goal state.\n",
    "\n",
    "Make a plot of the number of steps required to reach the goal for each\n",
    "trial.  Each trial starts from the same initial state.  Decay epsilon\n",
    "as in the Tic-Tac-Toe code."
   ]
  },
  {
   "cell_type": "markdown",
   "metadata": {},
   "source": [
    "## Requirements"
   ]
  },
  {
   "cell_type": "markdown",
   "metadata": {},
   "source": [
    "First, how should we represent the state of this puzzle?  We need to keep track of which disks are on which pegs. Name the disks 1, 2, and 3, with 1 being the smallest disk and 3 being the largest. The set of disks on a peg can be represented as a list of integers.  Then the state can be a list of three lists.\n",
    "\n",
    "For example, the starting state with all disks being on the left peg would be `[[1, 2, 3], [], []]`.  After moving disk 1 to peg 2, we have `[[2, 3], [1], []]`.\n",
    "\n",
    "To represent that move we just made, we can use a list of two peg numbers, like `[1, 2]`, representing a move of the top disk on peg 1 to peg 2."
   ]
  },
  {
   "cell_type": "markdown",
   "metadata": {},
   "source": [
    "Now on to some functions. Define at least the following functions. Examples showing required output appear below.\n",
    "\n",
    "   - `printState(state)`: prints the state in the form shown below\n",
    "   - `validMoves(state)`: returns list of moves that are valid from `state`\n",
    "   - `makeMove(state, move)`: returns new (copy of) state after move has been applied.\n",
    "   - `trainQ(nRepetitions, learningRate, epsilonDecayFactor, validMovesF, makeMoveF)`: train the Q function for number of repetitions, decaying epsilon at start of each repetition. Returns Q and list or array of number of steps to reach goal for each repetition.\n",
    "   - `testQ(Q, maxSteps, validMovesF, makeMoveF)`: without updating Q, use Q to find greedy action each step until goal is found. Return path of states.\n",
    "\n",
    "A function that you might choose to implement is\n",
    "\n",
    "   - `stateMoveTuple(state, move)`: returns tuple of state and move.  \n",
    "    \n",
    "This is useful for converting state and move to a key to be used for the Q dictionary.\n",
    "\n",
    "Show the code and results for testing each function.  Then experiment with various values of `nRepetitions`, `learningRate`, and `epsilonDecayFactor` to find values that work reasonably well, meaning that eventually the minimum solution path of seven steps is found consistently.\n",
    "\n",
    "Make a plot of the number of steps in the solution path versus number of repetitions. The plot should clearly show the number of steps in the solution path eventually reaching the minimum of seven steps, though the decrease will not be monotonic.  Also plot a horizontal, dashed line at 7 to show the optimal path length.\n",
    "\n",
    "Add markdown cells in which you describe the Q learning algorithm and your implementation of Q learning as applied to the Towers of Hanoi problem.  Use at least 15 sentences, in one or more markdown cells."
   ]
  },
  {
   "cell_type": "markdown",
   "metadata": {},
   "source": [
    "## __Helper Functions:__"
   ]
  },
  {
   "cell_type": "markdown",
   "metadata": {},
   "source": [
    "The following functions are used to complete the tower of Hanoi puzzle. These functions  were copied from the A4 assignment. The functions declarations are:\n",
    "\n",
    "   - `printState(state)`: prints the state in the form shown below.\n",
    "   - `validMoves(state)`: returns list of moves that are valid from `state`.\n",
    "   - `makeMove(state, move)`: returns new (copy of) state after move has been applied.\n",
    "   - `trainQ(nRepetitions, learningRate, epsilonDecayFactor, validMovesF, makeMoveF)`: train the Q function for number of repetitions, decaying epsilon at start of each repetition. Returns Q and list or array of number of steps to reach goal for each repetition.\n",
    "   - `testQ(Q, maxSteps, validMovesF, makeMoveF)`: without updating Q, use Q to find greedy action each step until goal is found. Return path of states.\n",
    "   - `stateMoveTuple(state, move)`: returns tuple of state and move."
   ]
  },
  {
   "cell_type": "code",
   "execution_count": 104,
   "metadata": {
    "collapsed": true
   },
   "outputs": [],
   "source": [
    "from copy import deepcopy\n",
    "import numpy as np\n",
    "import matplotlib.pyplot as plt\n",
    "%matplotlib inline\n",
    "from IPython.display import display, clear_output"
   ]
  },
  {
   "cell_type": "markdown",
   "metadata": {},
   "source": [
    "**`printState(state)`**: prints the state in the form shown below."
   ]
  },
  {
   "cell_type": "code",
   "execution_count": 105,
   "metadata": {
    "collapsed": true
   },
   "outputs": [],
   "source": [
    "def printState(state):\n",
    "    #Check for the three conditions: peg has 3 disks, peg has 2 and one has 1, each peg has 3 disks\n",
    "    unique = True\n",
    "    for i in range(3):\n",
    "        currPeg = state[i]\n",
    "        if len(currPeg) is 3:\n",
    "            if i is 0:\n",
    "                print(str(currPeg[0]) + \"\\n\" + str(currPeg[1]) + \"\\n\" + str(currPeg[2]) + \"\\n------\")\n",
    "            elif i is 1:\n",
    "                print(\"  \" + str(currPeg[0]) + \"\\n  \" + str(currPeg[1]) + \"\\n  \" + str(currPeg[2]) + \"\\n------\")\n",
    "            else:\n",
    "                print(\"    \" + str(currPeg[0]) + \"\\n    \" + str(currPeg[1]) + \"\\n    \" + str(currPeg[2]) + \"\\n------\")\n",
    "            return\n",
    "        elif len(currPeg) is 2:\n",
    "            unique = False\n",
    "            \n",
    "    #peg has 1 disk:\n",
    "    if unique:\n",
    "        for currPeg in state:\n",
    "            print(currPeg[0], end = \" \")\n",
    "        print(\"\")\n",
    "    #peg has 2, another has 1:\n",
    "    else:\n",
    "        for row in range(2):\n",
    "            for currPeg in state:\n",
    "                if len(currPeg) is 2 and row is 0:\n",
    "                    print(str(currPeg[0]), end = \" \")\n",
    "                elif len(currPeg) is 2:\n",
    "                    print(str(currPeg[1]), end = \" \")\n",
    "                elif len(currPeg) is 1 and row is 1:\n",
    "                    print(currPeg[0], end = \" \")\n",
    "                else:\n",
    "                    print(\" \", end = \" \")\n",
    "            print(\"\")\n",
    "    print(\"------\")  "
   ]
  },
  {
   "cell_type": "markdown",
   "metadata": {},
   "source": [
    "printState(state) tests:"
   ]
  },
  {
   "cell_type": "code",
   "execution_count": 106,
   "metadata": {},
   "outputs": [
    {
     "name": "stdout",
     "output_type": "stream",
     "text": [
      "1\n",
      "2\n",
      "3\n",
      "------\n"
     ]
    }
   ],
   "source": [
    "state = [[1, 2, 3], [], []]\n",
    "printState(state)"
   ]
  },
  {
   "cell_type": "code",
   "execution_count": 107,
   "metadata": {},
   "outputs": [
    {
     "name": "stdout",
     "output_type": "stream",
     "text": [
      "    2 \n",
      "1   3 \n",
      "------\n"
     ]
    }
   ],
   "source": [
    "state = [[1], [], [2, 3]]\n",
    "printState(state)"
   ]
  },
  {
   "cell_type": "code",
   "execution_count": 108,
   "metadata": {
    "scrolled": true
   },
   "outputs": [
    {
     "name": "stdout",
     "output_type": "stream",
     "text": [
      "1 2 3 \n",
      "------\n"
     ]
    }
   ],
   "source": [
    "state = [[1], [2], [3]]\n",
    "printState(state)"
   ]
  },
  {
   "cell_type": "code",
   "execution_count": 109,
   "metadata": {},
   "outputs": [
    {
     "name": "stdout",
     "output_type": "stream",
     "text": [
      "    2 \n",
      "  1 3 \n",
      "------\n"
     ]
    }
   ],
   "source": [
    "state = [[], [1], [2,3]]\n",
    "printState(state)"
   ]
  },
  {
   "cell_type": "code",
   "execution_count": 110,
   "metadata": {},
   "outputs": [
    {
     "name": "stdout",
     "output_type": "stream",
     "text": [
      "    1\n",
      "    2\n",
      "    3\n",
      "------\n"
     ]
    }
   ],
   "source": [
    "state = [[], [], [1,2,3]]\n",
    "printState(state)"
   ]
  },
  {
   "cell_type": "markdown",
   "metadata": {},
   "source": [
    "printState is printing correctly"
   ]
  },
  {
   "cell_type": "markdown",
   "metadata": {},
   "source": [
    "**`validMoves(state)`**: returns list of moves that are valid from `state`."
   ]
  },
  {
   "cell_type": "code",
   "execution_count": 133,
   "metadata": {
    "collapsed": true
   },
   "outputs": [],
   "source": [
    "def validMoves(state):\n",
    "    moves = []\n",
    "    for i in range(3):\n",
    "        currP = state[i]\n",
    "        if len(currP) is not 0:\n",
    "            top = currP[0]\n",
    "            for j in range(3):\n",
    "                if i == j:\n",
    "                    continue\n",
    "                newP = state[j]\n",
    "                if len(newP) is 0:\n",
    "                    moves.append([i+1,j+1])\n",
    "                else:\n",
    "                    newT = newP[0]\n",
    "                    if top < newT:\n",
    "                        moves.append([i+1,j+1])\n",
    "    return moves"
   ]
  },
  {
   "cell_type": "markdown",
   "metadata": {},
   "source": [
    "validMoves(state) tests:"
   ]
  },
  {
   "cell_type": "code",
   "execution_count": 112,
   "metadata": {},
   "outputs": [
    {
     "data": {
      "text/plain": [
       "[[1, 2], [1, 3]]"
      ]
     },
     "execution_count": 112,
     "metadata": {},
     "output_type": "execute_result"
    }
   ],
   "source": [
    "state = [[1, 2, 3], [], []]\n",
    "validMoves(state)"
   ]
  },
  {
   "cell_type": "code",
   "execution_count": 113,
   "metadata": {},
   "outputs": [
    {
     "data": {
      "text/plain": [
       "[[1, 2], [1, 3], [3, 2]]"
      ]
     },
     "execution_count": 113,
     "metadata": {},
     "output_type": "execute_result"
    }
   ],
   "source": [
    "state = [[1, 2], [], [3]]\n",
    "validMoves(state)"
   ]
  },
  {
   "cell_type": "code",
   "execution_count": 114,
   "metadata": {},
   "outputs": [
    {
     "data": {
      "text/plain": [
       "[[1, 2], [3, 1], [3, 2]]"
      ]
     },
     "execution_count": 114,
     "metadata": {},
     "output_type": "execute_result"
    }
   ],
   "source": [
    "state = [[3, 2], [], [1]]\n",
    "validMoves(state)"
   ]
  },
  {
   "cell_type": "markdown",
   "metadata": {},
   "source": [
    "validMoves seems to be working accordingly\n"
   ]
  },
  {
   "cell_type": "markdown",
   "metadata": {},
   "source": [
    "**`makeMove(state, move)`**: returns new (copy of) state after move has been applied."
   ]
  },
  {
   "cell_type": "code",
   "execution_count": 115,
   "metadata": {
    "collapsed": true
   },
   "outputs": [],
   "source": [
    "def makeMove(state, move):\n",
    "    newState = deepcopy(state)\n",
    "    #Subtract one from each value in move to convert back to index\n",
    "    iFrom = move[0]-1\n",
    "    iTo = move[1]-1\n",
    "    #Always move the top disk, so whatever is at front of list at iFrom\n",
    "    disk = newState[iFrom][0]\n",
    "    #Remove disk from iFrom\n",
    "    newState[iFrom].remove(disk)\n",
    "    #Add disk to iTo\n",
    "    newState[iTo].insert(0, disk)\n",
    "    return newState"
   ]
  },
  {
   "cell_type": "markdown",
   "metadata": {},
   "source": [
    "makeMove(state, move) tests:"
   ]
  },
  {
   "cell_type": "code",
   "execution_count": 116,
   "metadata": {},
   "outputs": [
    {
     "data": {
      "text/plain": [
       "[[1, 2], [1, 3]]"
      ]
     },
     "execution_count": 116,
     "metadata": {},
     "output_type": "execute_result"
    }
   ],
   "source": [
    "state = [[1, 2, 3], [], []]\n",
    "validMoves(state)"
   ]
  },
  {
   "cell_type": "code",
   "execution_count": 117,
   "metadata": {
    "scrolled": true
   },
   "outputs": [
    {
     "name": "stdout",
     "output_type": "stream",
     "text": [
      "1\n",
      "2\n",
      "3\n",
      "------\n",
      "2     \n",
      "3 1   \n",
      "------\n"
     ]
    }
   ],
   "source": [
    "newState = makeMove(state, [1,2,3])\n",
    "printState(state)\n",
    "printState(newState)"
   ]
  },
  {
   "cell_type": "code",
   "execution_count": 118,
   "metadata": {},
   "outputs": [
    {
     "name": "stdout",
     "output_type": "stream",
     "text": [
      "1\n",
      "2\n",
      "3\n",
      "------\n",
      "2     \n",
      "3 1   \n",
      "------\n"
     ]
    }
   ],
   "source": [
    "newState = makeMove(state, [1,2])\n",
    "printState(state)\n",
    "printState(newState)\n",
    "state = newState"
   ]
  },
  {
   "cell_type": "code",
   "execution_count": 119,
   "metadata": {},
   "outputs": [
    {
     "data": {
      "text/plain": [
       "[[1, 3], [2, 1], [2, 3]]"
      ]
     },
     "execution_count": 119,
     "metadata": {},
     "output_type": "execute_result"
    }
   ],
   "source": [
    "validMoves(state)"
   ]
  },
  {
   "cell_type": "code",
   "execution_count": 120,
   "metadata": {},
   "outputs": [
    {
     "name": "stdout",
     "output_type": "stream",
     "text": [
      "2     \n",
      "3 1   \n",
      "------\n",
      "3 1 2 \n",
      "------\n"
     ]
    }
   ],
   "source": [
    "newState = makeMove(state, [1,3,2])\n",
    "printState(state)\n",
    "printState(newState)"
   ]
  },
  {
   "cell_type": "markdown",
   "metadata": {},
   "source": [
    "validMoves is checking moves correctly"
   ]
  },
  {
   "cell_type": "code",
   "execution_count": 121,
   "metadata": {
    "collapsed": true
   },
   "outputs": [],
   "source": [
    "def stateMoveTuple(state, move):\n",
    "    first = tuple(state[0])\n",
    "    second = tuple(state[1])\n",
    "    third = tuple(state[2])\n",
    "    tMove = tuple(move)\n",
    "    SMT = ((first, second, third), tMove)\n",
    "    return SMT"
   ]
  },
  {
   "cell_type": "markdown",
   "metadata": {},
   "source": [
    "stateMoveTuple(state, move) tests:"
   ]
  },
  {
   "cell_type": "code",
   "execution_count": 122,
   "metadata": {},
   "outputs": [
    {
     "data": {
      "text/plain": [
       "(((1, 2, 3), (), ()), (1, 3))"
      ]
     },
     "execution_count": 122,
     "metadata": {},
     "output_type": "execute_result"
    }
   ],
   "source": [
    "state = [[1, 2, 3], [], []]\n",
    "move =[1, 3]\n",
    "stateMoveTuple(state, move)"
   ]
  },
  {
   "cell_type": "code",
   "execution_count": 123,
   "metadata": {},
   "outputs": [
    {
     "data": {
      "text/plain": [
       "(((1,), (2,), (3,)), (1, 2))"
      ]
     },
     "execution_count": 123,
     "metadata": {},
     "output_type": "execute_result"
    }
   ],
   "source": [
    "state = [[1], [2], [3]]\n",
    "move =[1, 2]\n",
    "stateMoveTuple(state, move)"
   ]
  },
  {
   "cell_type": "code",
   "execution_count": 124,
   "metadata": {},
   "outputs": [
    {
     "data": {
      "text/plain": [
       "(((), (2, 3), (1,)), (2, 3))"
      ]
     },
     "execution_count": 124,
     "metadata": {},
     "output_type": "execute_result"
    }
   ],
   "source": [
    "state = [[], [2, 3], [1]]\n",
    "move =[2, 3]\n",
    "stateMoveTuple(state, move)"
   ]
  },
  {
   "cell_type": "markdown",
   "metadata": {},
   "source": [
    "stateMoveTuple is working correctly"
   ]
  },
  {
   "cell_type": "markdown",
   "metadata": {},
   "source": [
    "## Q Table"
   ]
  },
  {
   "cell_type": "markdown",
   "metadata": {},
   "source": [
    "The following functions initialize the Q table, creates training functions, and creates learning params. These functions are all based off of example code given in class."
   ]
  },
  {
   "cell_type": "markdown",
   "metadata": {},
   "source": [
    "##  Describing the Q learning algorithm:"
   ]
  },
  {
   "cell_type": "markdown",
   "metadata": {},
   "source": [
    "The Q learning algorithm is a reinforcement learning technique. Its goal is to learn a policy which tells an agent what action to take under certain circumstances. It should be noted it does not need a model of the enviroment and can handle problems without requiring adaptations. At its simplest stores data in a table."
   ]
  },
  {
   "cell_type": "code",
   "execution_count": 125,
   "metadata": {
    "collapsed": true
   },
   "outputs": [],
   "source": [
    "def epsilonGreedy(epsilon, Q, state, validMovesF):\n",
    "    posMoves = validMovesF(state)\n",
    "    if np.random.uniform() < epsilon:\n",
    "        rand = np.random.randint(len(posMoves)-1)\n",
    "        return posMoves[rand]\n",
    "    else:\n",
    "        Qs = np.array([Q.get(stateMoveTuple(state, m), 0) for m in posMoves]) \n",
    "        return posMoves[np.argmin(Qs)]"
   ]
  },
  {
   "cell_type": "markdown",
   "metadata": {},
   "source": [
    "Training Functions:"
   ]
  },
  {
   "cell_type": "code",
   "execution_count": 126,
   "metadata": {
    "collapsed": true
   },
   "outputs": [],
   "source": [
    "epsilonDecayFactor = 0.99\n",
    "learningRate = 0.25\n",
    "nRepetitions = 50000"
   ]
  },
  {
   "cell_type": "markdown",
   "metadata": {},
   "source": [
    "**`plotOutcomes(numSteps, nRepetitions, rep)`**: plots the result of the trainQ function into a readable chart."
   ]
  },
  {
   "cell_type": "code",
   "execution_count": 127,
   "metadata": {
    "collapsed": true
   },
   "outputs": [],
   "source": [
    "def plotOutcomes(numSteps, nRepetitions, rep):\n",
    "    if rep==0:\n",
    "        return\n",
    "    nBins = 100\n",
    "    nPer = int(nRepetitions/nBins)\n",
    "    \n",
    "    avgs = [sum(numSteps[i:i+nPer])//nPer for i in range(0, len(numSteps), nPer)]\n",
    "    if len(avgs) > 2:\n",
    "        avgs.pop()\n",
    "        avgs.append(avgs[-1])\n",
    "    \n",
    "    plt.subplot(1,1,1) \n",
    "    xs = np.linspace(nPer,rep,len(avgs))\n",
    "    plt.plot(xs, avgs)\n",
    "    plt.xlabel('Repetitions')\n",
    "    plt.ylabel('Mean of Number of Steps \\nto Solution (ideal is 7)')\n",
    "    plt.title('Bins of {:d} Repetitions'.format(nPer))\n",
    "    plt.axhline(y=7, color = 'r', linestyle='--')"
   ]
  },
  {
   "cell_type": "markdown",
   "metadata": {},
   "source": [
    "**`trainQ(nRepetitions, learningRate, epsilonDecayFactor, validMovesF, makeMoveF)`**: train the Q function for number of repetitions, decaying epsilon at start of each repetition. Returns Q and list or array of number of steps to reach goal for each repetition."
   ]
  },
  {
   "cell_type": "code",
   "execution_count": 128,
   "metadata": {
    "collapsed": true
   },
   "outputs": [],
   "source": [
    "def trainQ(nRepetitions, learningRate, epsilonDecayFactor, validMovesF, makeMoveF):\n",
    "    Q = {}\n",
    "    numSteps = []\n",
    "    epsilon = 1.0\n",
    "    # this needs to be set to true in order to see the charts plotted\n",
    "    graphics = False\n",
    "    if graphics:\n",
    "        fig = plt.figure(figsize=(10,10))\n",
    "    \n",
    "    for rep in range(nRepetitions):\n",
    "        epsilon *= epsilonDecayFactor\n",
    "        step = 0\n",
    "        state = [[1,2,3],[],[]]\n",
    "        done = False\n",
    "        \n",
    "        while not done:\n",
    "            step += 1\n",
    "            #find next move:\n",
    "            move = epsilonGreedy(epsilon, Q, state, validMovesF)\n",
    "            #take next move:\n",
    "            newS = makeMoveF(state, move)\n",
    "            #add to Q table\n",
    "            currSMT = stateMoveTuple(state,move)\n",
    "            if currSMT not in Q:\n",
    "                Q[currSMT] = 0\n",
    "            \n",
    "            if step > 1:\n",
    "                prevSMT = stateMoveTuple(oldS, oldM)\n",
    "                #check if puzzle has been solved:\n",
    "                if newS == [[],[],[1,2,3]]:\n",
    "                    done = True\n",
    "                    Q[prevSMT] = 1\n",
    "                    numSteps.append(step)\n",
    "                else:  \n",
    "                    Q[prevSMT] += learningRate * (1 + Q[currSMT] - Q[prevSMT])\n",
    "            \n",
    "            oldS, oldM = state, move \n",
    "            state = newS\n",
    "    \n",
    "        if graphics and (rep % (nRepetitions/10) == 0 or rep == nRepetitions-1):\n",
    "            fig.clf()\n",
    "            plotOutcomes(numSteps,nRepetitions,rep-1)\n",
    "            clear_output(wait=True)\n",
    "            display(fig);\n",
    "        \n",
    "    if graphics:\n",
    "        clear_output(wait=True)\n",
    "    return Q, numSteps"
   ]
  },
  {
   "cell_type": "markdown",
   "metadata": {},
   "source": [
    "`plotOutcomes(numSteps, nRepetitions, rep)` and `trainQ(nRepetitions, learningRate, epsilonDecayFactor, validMovesF, makeMoveF)` tests:"
   ]
  },
  {
   "cell_type": "markdown",
   "metadata": {},
   "source": [
    "**NOTE:** In order to plot the charts I suggest to comment out the return of trainQ and set the graphics boolean to true in order to properly see what I am commenting on in the markdown. But leaving the graphics boolean true breaks the auto grader, sorry for the inconvience."
   ]
  },
  {
   "cell_type": "code",
   "execution_count": 45,
   "metadata": {},
   "outputs": [
    {
     "data": {
      "image/png": "[encoded data removed]",
      "text/plain": [
       "<Figure size 720x720 with 1 Axes>"
      ]
     },
     "metadata": {},
     "output_type": "display_data"
    }
   ],
   "source": [
    "epsilonDecayFactor = 0.99\n",
    "learningRate = 0.25 #same as rho\n",
    "nRepetitions = 30000\n",
    "graphics = True\n",
    "trainQ(nRepetitions, learningRate, epsilonDecayFactor, validMoves, makeMove)"
   ]
  },
  {
   "cell_type": "markdown",
   "metadata": {},
   "source": [
    "This chart shows that it meets the ideal number of steps quickly. However this is not always consitent. This could possible be caused by the learning rate being too high; it is just as likely to converge on step 7 as it does on step 8."
   ]
  },
  {
   "cell_type": "code",
   "execution_count": 46,
   "metadata": {
    "scrolled": false
   },
   "outputs": [
    {
     "data": {
      "image/png": "[encoded data removed]",
      "text/plain": [
       "<Figure size 720x720 with 1 Axes>"
      ]
     },
     "metadata": {},
     "output_type": "display_data"
    }
   ],
   "source": [
    "epsilonDecayFactor = 0.999\n",
    "learningRate = 0.10 #same as rho\n",
    "nRepetitions = 30000\n",
    "graphics = True\n",
    "trainQ(nRepetitions, learningRate, epsilonDecayFactor, validMoves, makeMove)"
   ]
  },
  {
   "cell_type": "markdown",
   "metadata": {},
   "source": [
    "This one works better. When looking at 8 steps in the solution path there is an uncertainty, and then able to find the ideal 7 step solution. "
   ]
  },
  {
   "cell_type": "code",
   "execution_count": 47,
   "metadata": {
    "scrolled": false
   },
   "outputs": [
    {
     "data": {
      "image/png": "[encoded data removed]",
      "text/plain": [
       "<Figure size 720x720 with 1 Axes>"
      ]
     },
     "metadata": {},
     "output_type": "display_data"
    }
   ],
   "source": [
    "epsilonDecayFactor = 0.999\n",
    "learningRate = 0.02 #same as rho\n",
    "nRepetitions = 30000\n",
    "graphics = True\n",
    "trainQ(nRepetitions, learningRate, epsilonDecayFactor, validMoves, makeMove)"
   ]
  },
  {
   "cell_type": "markdown",
   "metadata": {},
   "source": [
    "This result is also a consistent, correct solution path that is found quickly. There is a lot of fine tuning that can be done. `learningRate` and `epsilonDecayFactor` seem to provide very consistent results."
   ]
  },
  {
   "cell_type": "code",
   "execution_count": 48,
   "metadata": {
    "scrolled": false
   },
   "outputs": [
    {
     "data": {
      "image/png": "[encoded data removed]",
      "text/plain": [
       "<Figure size 720x720 with 1 Axes>"
      ]
     },
     "metadata": {},
     "output_type": "display_data"
    }
   ],
   "source": [
    "epsilonDecayFactor = 0.999\n",
    "learningRate = 0.002 #same as rho\n",
    "nRepetitions = 30000\n",
    "graphics = True\n",
    "trainQ(nRepetitions, learningRate, epsilonDecayFactor, validMoves, makeMove)"
   ]
  },
  {
   "cell_type": "markdown",
   "metadata": {},
   "source": [
    "With these values of `learningRate` and `epsilonDecayFactor`, the min sol path of 7 is found in 10k-15k iterations. It should be noted that `learningRate = 0.2` decreases the number of iterations necessary while not sacrificing accuracy."
   ]
  },
  {
   "cell_type": "markdown",
   "metadata": {},
   "source": [
    "# Examples"
   ]
  },
  {
   "cell_type": "code",
   "execution_count": 129,
   "metadata": {
    "collapsed": true
   },
   "outputs": [],
   "source": [
    "def testQ(Q, maxSteps, validMovesF, makeMoveF):\n",
    "    state = [[1,2,3],[],[]]\n",
    "    path = []\n",
    "    step = 0\n",
    "    while(step <= maxSteps):\n",
    "        step += 1\n",
    "        poss = validMovesF(state)\n",
    "        Qs = np.array([Q.get(stateMoveTuple(state, m), 0) for m in poss])\n",
    "        nextM = poss[np.argmin(Qs)]\n",
    "        path.append(nextM)\n",
    "        state = makeMoveF(state, nextM)\n",
    "        if state == [[],[],[1,2,3]]:\n",
    "            return path\n",
    "    return path   "
   ]
  },
  {
   "cell_type": "markdown",
   "metadata": {},
   "source": [
    "`testQ(Q, maxSteps, validMovesF, makeMoveF)` tests:"
   ]
  },
  {
   "cell_type": "code",
   "execution_count": 90,
   "metadata": {},
   "outputs": [],
   "source": [
    "Q, steps = trainQ(1000, 0.5, 0.7, validMoves, makeMove)"
   ]
  },
  {
   "cell_type": "code",
   "execution_count": 91,
   "metadata": {
    "collapsed": true
   },
   "outputs": [],
   "source": [
    "path = testQ(Q, 20, validMoves, makeMove)"
   ]
  },
  {
   "cell_type": "code",
   "execution_count": 92,
   "metadata": {},
   "outputs": [
    {
     "data": {
      "text/plain": [
       "[[1, 3], [1, 2], [3, 2], [1, 3], [2, 1], [2, 3], [1, 3]]"
      ]
     },
     "execution_count": 92,
     "metadata": {},
     "output_type": "execute_result"
    }
   ],
   "source": [
    "path"
   ]
  },
  {
   "cell_type": "markdown",
   "metadata": {},
   "source": [
    "**Provided Examples**:"
   ]
  },
  {
   "cell_type": "code",
   "execution_count": 93,
   "metadata": {},
   "outputs": [
    {
     "name": "stdout",
     "output_type": "stream",
     "text": [
      "1\n",
      "2\n",
      "3\n",
      "------\n"
     ]
    }
   ],
   "source": [
    "state = [[1, 2, 3], [], []]\n",
    "printState(state)"
   ]
  },
  {
   "cell_type": "code",
   "execution_count": 94,
   "metadata": {},
   "outputs": [
    {
     "data": {
      "text/plain": [
       "[[1, 2], [1, 3]]"
      ]
     },
     "execution_count": 94,
     "metadata": {},
     "output_type": "execute_result"
    }
   ],
   "source": [
    "validMoves(state)"
   ]
  },
  {
   "cell_type": "code",
   "execution_count": 95,
   "metadata": {},
   "outputs": [
    {
     "data": {
      "text/plain": [
       "(((1, 2, 3), (), ()), (1, 2))"
      ]
     },
     "execution_count": 95,
     "metadata": {},
     "output_type": "execute_result"
    }
   ],
   "source": [
    "move =[1, 2]\n",
    "\n",
    "stateMoveTuple(state, move)"
   ]
  },
  {
   "cell_type": "code",
   "execution_count": 96,
   "metadata": {},
   "outputs": [
    {
     "data": {
      "text/plain": [
       "[[2, 3], [1], []]"
      ]
     },
     "execution_count": 96,
     "metadata": {},
     "output_type": "execute_result"
    }
   ],
   "source": [
    "newstate = makeMove(state, move)\n",
    "newstate"
   ]
  },
  {
   "cell_type": "code",
   "execution_count": 97,
   "metadata": {},
   "outputs": [
    {
     "name": "stdout",
     "output_type": "stream",
     "text": [
      "2     \n",
      "3 1   \n",
      "------\n"
     ]
    }
   ],
   "source": [
    "printState(newstate)"
   ]
  },
  {
   "cell_type": "code",
   "execution_count": 98,
   "metadata": {},
   "outputs": [],
   "source": [
    "Q, stepsToGoal = trainQ(50, 0.5, 0.7, validMoves, makeMove)"
   ]
  },
  {
   "cell_type": "code",
   "execution_count": 99,
   "metadata": {},
   "outputs": [
    {
     "data": {
      "text/plain": [
       "[152,\n",
       " 94,\n",
       " 102,\n",
       " 17,\n",
       " 25,\n",
       " 16,\n",
       " 29,\n",
       " 12,\n",
       " 21,\n",
       " 8,\n",
       " 13,\n",
       " 7,\n",
       " 15,\n",
       " 7,\n",
       " 7,\n",
       " 23,\n",
       " 7,\n",
       " 10,\n",
       " 7,\n",
       " 23,\n",
       " 9,\n",
       " 7,\n",
       " 7,\n",
       " 7,\n",
       " 7,\n",
       " 7,\n",
       " 7,\n",
       " 7,\n",
       " 7,\n",
       " 7,\n",
       " 7,\n",
       " 7,\n",
       " 7,\n",
       " 7,\n",
       " 7,\n",
       " 7,\n",
       " 7,\n",
       " 7,\n",
       " 7,\n",
       " 7,\n",
       " 7,\n",
       " 7,\n",
       " 7,\n",
       " 7,\n",
       " 7,\n",
       " 7,\n",
       " 7,\n",
       " 7,\n",
       " 7,\n",
       " 7]"
      ]
     },
     "execution_count": 99,
     "metadata": {},
     "output_type": "execute_result"
    }
   ],
   "source": [
    "stepsToGoal"
   ]
  },
  {
   "cell_type": "code",
   "execution_count": 100,
   "metadata": {},
   "outputs": [],
   "source": [
    "path = testQ(Q, 20, validMoves, makeMove)"
   ]
  },
  {
   "cell_type": "code",
   "execution_count": 101,
   "metadata": {},
   "outputs": [
    {
     "data": {
      "text/plain": [
       "[[1, 3], [1, 2], [3, 2], [1, 3], [2, 1], [2, 3], [1, 3]]"
      ]
     },
     "execution_count": 101,
     "metadata": {},
     "output_type": "execute_result"
    }
   ],
   "source": [
    "path"
   ]
  }
 ],
 "metadata": {
  "kernelspec": {
   "display_name": "Python 3",
   "language": "python",
   "name": "python3"
  },
  "language_info": {
   "codemirror_mode": {
    "name": "ipython",
    "version": 3
   },
   "file_extension": ".py",
   "mimetype": "text/x-python",
   "name": "python",
   "nbconvert_exporter": "python",
   "pygments_lexer": "ipython3",
   "version": "3.6.3"
  }
 },
 "nbformat": 4,
 "nbformat_minor": 2
}
