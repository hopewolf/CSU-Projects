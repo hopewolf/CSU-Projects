{
 "cells": [
  {
   "cell_type": "markdown",
   "metadata": {},
   "source": [
    "$\\newcommand{\\xv}{\\mathbf{x}}\n",
    "\\newcommand{\\Xv}{\\mathbf{X}}\n",
    "\\newcommand{\\yv}{\\mathbf{y}}\n",
    "\\newcommand{\\zv}{\\mathbf{z}}\n",
    "\\newcommand{\\av}{\\mathbf{a}}\n",
    "\\newcommand{\\Wv}{\\mathbf{W}}\n",
    "\\newcommand{\\wv}{\\mathbf{w}}\n",
    "\\newcommand{\\tv}{\\mathbf{t}}\n",
    "\\newcommand{\\Tv}{\\mathbf{T}}\n",
    "\\newcommand{\\muv}{\\boldsymbol{\\mu}}\n",
    "\\newcommand{\\sigmav}{\\boldsymbol{\\sigma}}\n",
    "\\newcommand{\\phiv}{\\boldsymbol{\\phi}}\n",
    "\\newcommand{\\Phiv}{\\boldsymbol{\\Phi}}\n",
    "\\newcommand{\\Sigmav}{\\boldsymbol{\\Sigma}}\n",
    "\\newcommand{\\Lambdav}{\\boldsymbol{\\Lambda}}\n",
    "\\newcommand{\\half}{\\frac{1}{2}}\n",
    "\\newcommand{\\argmax}[1]{\\underset{#1}{\\operatorname{argmax}}}\n",
    "\\newcommand{\\argmin}[1]{\\underset{#1}{\\operatorname{argmin}}}$"
   ]
  },
  {
   "cell_type": "markdown",
   "metadata": {},
   "source": [
    "# Assignment 5: Neural Networks"
   ]
  },
  {
   "cell_type": "markdown",
   "metadata": {},
   "source": [
    "*Drew Boston*"
   ]
  },
  {
   "cell_type": "markdown",
   "metadata": {},
   "source": [
    "## Overview"
   ]
  },
  {
   "cell_type": "markdown",
   "metadata": {},
   "source": [
    "Here is my code that trains neural networks of various numbers of hidden layers and units in each hidden layer and returns results as specified below.  I have included various test cases throughout the notebook, as well as two major applications of these methods; one regression problem and one classification problem. "
   ]
  },
  {
   "cell_type": "markdown",
   "metadata": {},
   "source": [
    "## Required Code"
   ]
  },
  {
   "cell_type": "markdown",
   "metadata": {},
   "source": [
    "For this notebook to work, it requires the following files:\n",
    "\n",
    "Download [nn2.tar](http://www.cs.colostate.edu/~anderson/cs440/notebooks/nn2.tar) (provided by Professor Anderson) and extract its contents, which are\n",
    "\n",
    "* `neuralnetworks.py`\n",
    "* `scaledconjugategradient.py`\n",
    "* `mlutils.py`"
   ]
  },
  {
   "cell_type": "markdown",
   "metadata": {},
   "source": [
    "I've grouped the various imports necessary here."
   ]
  },
  {
   "cell_type": "code",
   "execution_count": 32,
   "metadata": {
    "collapsed": true
   },
   "outputs": [],
   "source": [
    "import numpy as np\n",
    "import matplotlib.pyplot as plt\n",
    "%matplotlib inline\n",
    "import neuralnetworks as nn\n",
    "import mlutils as ml\n",
    "import time\n",
    "import sys\n"
   ]
  },
  {
   "cell_type": "markdown",
   "metadata": {},
   "source": [
    "**checkAccuracy(A,B):**\n",
    "\n",
    "While I could use properties of neuralnetworks (specifically error trace) to eliminate this function, I already had it written and prefer to use my own implementations when possible! :)\n",
    "\n",
    "So, this function will return the percentage of incorrect classifications based on A and B provided to it, where A is the predicted values, and B is the actual (i.e. target) values."
   ]
  },
  {
   "cell_type": "code",
   "execution_count": 33,
   "metadata": {
    "collapsed": true
   },
   "outputs": [],
   "source": [
    "#note: calculates percentage of incorrect classifications, NOT correct classifications. I believe this is correct - double check results!\n",
    "def checkAccuracy(A, B):\n",
    "    count = 0\n",
    "    num = len(B)\n",
    "    for i in range(num):\n",
    "        if A[i] != B[i]:\n",
    "            count += 1\n",
    "    return (count/num)\n",
    "    "
   ]
  },
  {
   "cell_type": "markdown",
   "metadata": {},
   "source": [
    "**trainNNs(X, T, trainFraction, hiddenLayerStructures, numberRepetitions, numberIterations, classify=False):**\n",
    "\n",
    "This function follows the general outline provided to us in the assignment page. I have commented throughout to further explain what occurs at each major step."
   ]
  },
  {
   "cell_type": "code",
   "execution_count": 107,
   "metadata": {
    "collapsed": true
   },
   "outputs": [],
   "source": [
    "def trainNNs(X, T, trainFraction, hiddenLayerStructures, numberRepetitions, numberIterations, classify=False):\n",
    "    \n",
    "    #results will be a list of [hiddenLayer, trainPerformance, testPerformance, time], one per each hiddenLayer\n",
    "    results = []\n",
    "    \n",
    "    ##need to check for classification problem and adjust accordingly !\n",
    "    \n",
    "    for hiddenLayer in hiddenLayerStructures:\n",
    "        trainPerformance = []  #training errors\n",
    "        testPerformance = []  #testing errors\n",
    "        times = []  #training times\n",
    "        startTime = time.time()\n",
    "        for i in range(numberRepetitions):\n",
    "            #Xtrain is training data, results of which are contrasted to Ttrain\n",
    "            #Xtest is testing data, results of which are contrasted against Ttest\n",
    "            Xtrain, Ttrain, Xtest, Ttest = ml.partition(X, T, (trainFraction, (1-trainFraction)), classification=classify)\n",
    "            #now we check for classification vs. non-classification:\n",
    "            \n",
    "            if classify:\n",
    "                nnet = nn.NeuralNetworkClassifier(X.shape[1], hiddenLayer, len(np.unique(T)))\n",
    "                nnet.train(Xtrain, Ttrain, numberIterations)\n",
    "                #now net is created / trained, need to check accuracy of predictions now (Ctrain/Ctest)\n",
    "                Ctrain = nnet.use(Xtrain)\n",
    "                Ctest = nnet.use(Xtest)\n",
    "                trainAcc = checkAccuracy(Ctrain, Ttrain)\n",
    "                testAcc = checkAccuracy(Ctest, Ttest)\n",
    "            \n",
    "            #if not classify, then:\n",
    "            #note; could combine a lot of this if-else statement, but keeping it this way for easier reading.\n",
    "            #shouldn't affect runtimes hardly at all (nanoseconds)\n",
    "           \n",
    "            else:\n",
    "                nInputs = Xtrain.shape[1]\n",
    "                nOutputs = Ttrain.shape[1]   #following from notebook 16 In[19]\n",
    "                nnet = nn.NeuralNetwork(nInputs, hiddenLayer, nOutputs)\n",
    "                nnet.train(Xtrain, Ttrain, nIterations = numberIterations)\n",
    "                #now net is created / trained, need to check accuracy of predictions now (Ctrain/Ctest)\n",
    "                Ctrain = nnet.use(Xtrain)\n",
    "                Ctest = nnet.use(Xtest)\n",
    "                #using root mean square error, check accuracy of nnet predictions:\n",
    "                trainAcc = np.sqrt(np.mean((Ctrain-Ttrain)**2))\n",
    "                testAcc = np.sqrt(np.mean((Ctest-Ttest)**2))\n",
    "            \n",
    "            #append train and test accuracy to appropriate lists\n",
    "            trainPerformance.append(trainAcc)\n",
    "            testPerformance.append(testAcc)\n",
    "        \n",
    "        #finished all training / accuracy testing for this hiddenLayer, so stop time\n",
    "        endTime = time.time()\n",
    "        #add to results:\n",
    "        results.append([hiddenLayer, trainPerformance, testPerformance, endTime-startTime])\n",
    "    return results\n",
    "            \n",
    "            "
   ]
  },
  {
   "cell_type": "markdown",
   "metadata": {},
   "source": [
    "**summarize(results):**\n",
    "\n",
    "This function replaces individual errors (i.e. training performances; there will be one per repetition) by the mean of all errors."
   ]
  },
  {
   "cell_type": "code",
   "execution_count": 108,
   "metadata": {
    "collapsed": true
   },
   "outputs": [],
   "source": [
    "def summarize(results):\n",
    "    summary = []\n",
    "    \n",
    "    #note: result (below) will have form:\n",
    "    #[hiddenLayer, trainPerformance, testPerformance, time]\n",
    "    for result in results:\n",
    "        meanTrain = np.mean(np.array(result[1]))\n",
    "        meanTest = np.mean(np.array(result[2]))\n",
    "        #keep hiddenLayer and time the same, but change middle entries to mean values\n",
    "        summary.append([result[0], meanTrain, meanTest, result[3]])\n",
    "    return summary  "
   ]
  },
  {
   "cell_type": "markdown",
   "metadata": {},
   "source": [
    "**bestNetwork(summary):**\n",
    "\n",
    "This function takes the output from `summarize(results)` (not directly; must be called with the output) and returns the network with the minimum error for a particular hidden layer structure."
   ]
  },
  {
   "cell_type": "code",
   "execution_count": 109,
   "metadata": {
    "collapsed": true
   },
   "outputs": [],
   "source": [
    "def bestNetwork(summary):\n",
    "    #note: concerned only with minimum testing error, not training !!\n",
    "    minTest = float(\"inf\")\n",
    "    bestNet = []\n",
    "    #iterate through summary \"nets\" checking for one with smallest meanTest value\n",
    "    for net in summary:\n",
    "        if net[2] < minTest:\n",
    "            minTest = net[2]\n",
    "            bestNet = net\n",
    "    return bestNet\n",
    "    "
   ]
  },
  {
   "cell_type": "markdown",
   "metadata": {},
   "source": [
    "**plotErrorTrace(net):**\n",
    "\n",
    "This function simply plots the error trace for a given net."
   ]
  },
  {
   "cell_type": "code",
   "execution_count": 212,
   "metadata": {
    "collapsed": true
   },
   "outputs": [],
   "source": [
    "def plotErrorTrace(net):\n",
    "    errors = nnet.getErrorTrace()\n",
    "    plt.figure()\n",
    "    plt.plot(range(len(errors)), nnet.getErrorTrace());"
   ]
  },
  {
   "cell_type": "markdown",
   "metadata": {},
   "source": [
    "## Basic Test Cases\n"
   ]
  },
  {
   "cell_type": "code",
   "execution_count": 112,
   "metadata": {
    "collapsed": true
   },
   "outputs": [],
   "source": [
    "X = np.arange(10).reshape((-1,1))\n",
    "T = X + 1 + np.random.uniform(-1, 1, ((10,1)))"
   ]
  },
  {
   "cell_type": "code",
   "execution_count": 113,
   "metadata": {},
   "outputs": [
    {
     "data": {
      "image/png": "[encoded data removed]",
      "text/plain": [
       "<Figure size 432x288 with 1 Axes>"
      ]
     },
     "metadata": {
      "needs_background": "light"
     },
     "output_type": "display_data"
    }
   ],
   "source": [
    "plt.plot(X, T, 'o-');"
   ]
  },
  {
   "cell_type": "code",
   "execution_count": 114,
   "metadata": {},
   "outputs": [
    {
     "data": {
      "text/plain": [
       "array([0.71, 0.56, 0.56, 0.56, 0.42, 0.25, 0.18, 0.17, 0.14, 0.13, 0.13,\n",
       "       0.11, 0.11, 0.1 , 0.1 , 0.09, 0.09, 0.09, 0.09, 0.09, 0.09, 0.09,\n",
       "       0.09, 0.09, 0.09, 0.09, 0.08, 0.08, 0.08, 0.08, 0.08, 0.08, 0.08,\n",
       "       0.08, 0.08, 0.08, 0.08, 0.08, 0.08, 0.08, 0.08, 0.07, 0.07, 0.07,\n",
       "       0.07, 0.07, 0.07, 0.07, 0.07, 0.07, 0.07, 0.07, 0.07, 0.07, 0.07,\n",
       "       0.07, 0.07, 0.07, 0.07, 0.07, 0.07, 0.07, 0.07, 0.07, 0.07, 0.07,\n",
       "       0.07, 0.07, 0.07, 0.07, 0.07, 0.07, 0.07, 0.07, 0.07, 0.07, 0.07,\n",
       "       0.07, 0.07, 0.07, 0.07, 0.07, 0.07, 0.07, 0.07, 0.07, 0.07, 0.07,\n",
       "       0.07, 0.07, 0.07, 0.07, 0.07, 0.07, 0.07, 0.07, 0.07, 0.07, 0.07,\n",
       "       0.07, 0.07])"
      ]
     },
     "execution_count": 114,
     "metadata": {},
     "output_type": "execute_result"
    }
   ],
   "source": [
    "nnet = nn.NeuralNetwork(X.shape[1], 2, T.shape[1])\n",
    "nnet.train(X, T, 100)\n",
    "nnet.getErrorTrace()"
   ]
  },
  {
   "cell_type": "code",
   "execution_count": 115,
   "metadata": {},
   "outputs": [
    {
     "data": {
      "text/plain": [
       "array([0.71, 0.44, 0.44, 0.44, 0.44, 0.32, 0.23, 0.16, 0.16, 0.15, 0.15,\n",
       "       0.14, 0.13, 0.12, 0.12, 0.12, 0.12, 0.12, 0.12, 0.12, 0.12, 0.11,\n",
       "       0.11, 0.1 , 0.1 , 0.09, 0.09, 0.08, 0.08, 0.08, 0.08, 0.08, 0.08,\n",
       "       0.07, 0.07, 0.07, 0.07, 0.07, 0.07, 0.07, 0.07, 0.07, 0.07, 0.07,\n",
       "       0.07, 0.07, 0.07, 0.07, 0.07, 0.07, 0.07, 0.07, 0.07, 0.07, 0.07,\n",
       "       0.07, 0.07, 0.07, 0.07, 0.07, 0.07, 0.07, 0.07, 0.07, 0.07, 0.07,\n",
       "       0.07, 0.07, 0.07, 0.07, 0.07, 0.07, 0.07, 0.07, 0.07, 0.07, 0.07,\n",
       "       0.07, 0.07, 0.07, 0.07, 0.07, 0.07, 0.07, 0.07, 0.07, 0.07, 0.07,\n",
       "       0.07, 0.07, 0.07, 0.07, 0.07, 0.07, 0.07, 0.07, 0.07, 0.07, 0.07,\n",
       "       0.07, 0.07])"
      ]
     },
     "execution_count": 115,
     "metadata": {},
     "output_type": "execute_result"
    }
   ],
   "source": [
    "nnet = nn.NeuralNetwork(X.shape[1], [5, 5, 5], T.shape[1])\n",
    "nnet.train(X, T, 100)\n",
    "nnet.getErrorTrace()"
   ]
  },
  {
   "cell_type": "code",
   "execution_count": 116,
   "metadata": {},
   "outputs": [
    {
     "data": {
      "text/plain": [
       "[[2,\n",
       "  [0.2600930080204022,\n",
       "   0.2708703169497367,\n",
       "   0.290256639218149,\n",
       "   0.26494943118506736,\n",
       "   0.25617610132524266],\n",
       "  [0.44570690245569056,\n",
       "   0.41728854924665615,\n",
       "   0.7827907392246528,\n",
       "   0.5067874463997968,\n",
       "   0.5360852163607206],\n",
       "  0.12441706657409668],\n",
       " [10,\n",
       "  [0.18207658658042258,\n",
       "   0.21826777782154058,\n",
       "   0.23902874332506058,\n",
       "   0.15930895471877815,\n",
       "   0.2489541508946792],\n",
       "  [1.4049760587128015,\n",
       "   0.73537459326619,\n",
       "   0.5671713173380161,\n",
       "   0.7649484266870509,\n",
       "   0.5374637853531044],\n",
       "  0.12390589714050293],\n",
       " [[10, 10],\n",
       "  [0.2695845763876307,\n",
       "   0.2967996301673941,\n",
       "   0.22412446908744144,\n",
       "   0.30709837218899305,\n",
       "   0.23373574650946982],\n",
       "  [1.1538528616674848,\n",
       "   0.3823228075330273,\n",
       "   0.9772685408497342,\n",
       "   0.21566350847745058,\n",
       "   0.5499562643279273],\n",
       "  0.15434694290161133]]"
      ]
     },
     "execution_count": 116,
     "metadata": {},
     "output_type": "execute_result"
    }
   ],
   "source": [
    "results = trainNNs(X, T, 0.8, [2, 10, [10, 10]], 5, 100, classify=False)\n",
    "results"
   ]
  },
  {
   "cell_type": "code",
   "execution_count": 117,
   "metadata": {
    "collapsed": true
   },
   "outputs": [],
   "source": [
    "results = trainNNs(X, T, 0.8, [0, 1, 2, 10, [10, 10], [5, 5, 5, 5], [2]*5], 50, 100, classify=False)"
   ]
  },
  {
   "cell_type": "code",
   "execution_count": 118,
   "metadata": {},
   "outputs": [
    {
     "data": {
      "text/plain": [
       "[[0, 0.37129627750300437, 0.4182415706111351, 0.0325469970703125],\n",
       " [1, 0.30289917029890384, 0.4596955060389428, 1.0706202983856201],\n",
       " [2, 0.25708451473456573, 0.579985149219548, 1.0632262229919434],\n",
       " [10, 0.24790845394411284, 0.6194735555039638, 1.108302116394043],\n",
       " [[10, 10], 0.24400093433641132, 0.6035269065959988, 1.5978379249572754],\n",
       " [[5, 5, 5, 5], 0.2516219570242854, 0.6577436826001124, 2.021970748901367],\n",
       " [[2, 2, 2, 2, 2], 0.29416365327315985, 0.5154064183081671, 2.030289888381958]]"
      ]
     },
     "execution_count": 118,
     "metadata": {},
     "output_type": "execute_result"
    }
   ],
   "source": [
    "summarize(results)"
   ]
  },
  {
   "cell_type": "code",
   "execution_count": 119,
   "metadata": {},
   "outputs": [
    {
     "name": "stdout",
     "output_type": "stream",
     "text": [
      "[0, 0.37129627750300437, 0.4182415706111351, 0.0325469970703125]\n",
      "Hidden Layers 0 Average RMSE Training 0.37 Testing 0.42 Took 0.03 seconds\n"
     ]
    }
   ],
   "source": [
    "best = bestNetwork(summarize(results))\n",
    "print(best)\n",
    "print('Hidden Layers {} Average RMSE Training {:.2f} Testing {:.2f} Took {:.2f} seconds'.format(*best))"
   ]
  },
  {
   "cell_type": "markdown",
   "metadata": {},
   "source": [
    "We are seeing the expected results here, so I will move on to the regression experiment!"
   ]
  },
  {
   "cell_type": "markdown",
   "metadata": {},
   "source": [
    "## Data for Regression Experiment\n",
    "\n",
    "From the UCI Machine Learning Repository, download the [Appliances energy prediction](http://archive.ics.uci.edu/ml/datasets/Appliances+energy+prediction) data.  You can do this by visiting the Data Folder for this data set, or just do this:\n",
    "\n",
    "     !wget http://archive.ics.uci.edu/ml/machine-learning-databases/00374/energydata_complete.csv\n",
    "\n"
   ]
  },
  {
   "cell_type": "markdown",
   "metadata": {},
   "source": [
    "I used wget (commented out below to prevent multiple downloads when re-running notebook) to download the file. "
   ]
  },
  {
   "cell_type": "code",
   "execution_count": 125,
   "metadata": {
    "scrolled": true
   },
   "outputs": [
    {
     "name": "stdout",
     "output_type": "stream",
     "text": [
      "--2018-11-05 16:36:04--  http://archive.ics.uci.edu/ml/machine-learning-databases/00374/energydata_complete.csv\n",
      "Resolving archive.ics.uci.edu... 128.195.10.249\n",
      "Connecting to archive.ics.uci.edu|128.195.10.249|:80... connected.\n",
      "HTTP request sent, awaiting response... 200 OK\n",
      "Length: 11979363 (11M) [text/csv]\n",
      "Saving to: 'energydata_complete.csv.1'\n",
      "\n",
      "energydata_complete 100%[===================>]  11.42M  3.58MB/s    in 3.3s    \n",
      "\n",
      "2018-11-05 16:36:07 (3.44 MB/s) - 'energydata_complete.csv.1' saved [11979363/11979363]\n",
      "\n"
     ]
    }
   ],
   "source": [
    "#!wget http://archive.ics.uci.edu/ml/machine-learning-databases/00374/energydata_complete.csv"
   ]
  },
  {
   "cell_type": "markdown",
   "metadata": {},
   "source": [
    "Because of the piazza post [here](https://piazza.com/class/jl2i7paafyf49w?cid=236) (where Professor Anderson commented), I believe it is best/acceptable to use Pandas to read the csv file. I found it a lot easier, anyway! Especially as I have experience with dataFrames from CS435 (Big Data).\n",
    "\n",
    "Per the assignment instructions, I ignored the first column of each row which contains a data and time, as well as the last two columns of random variables. They will not be used in our modeling of this data. "
   ]
  },
  {
   "cell_type": "code",
   "execution_count": 152,
   "metadata": {
    "collapsed": true
   },
   "outputs": [],
   "source": [
    "import pandas"
   ]
  },
  {
   "cell_type": "code",
   "execution_count": 169,
   "metadata": {
    "collapsed": true
   },
   "outputs": [],
   "source": [
    "data = pandas.read_csv('energydata_complete.csv')"
   ]
  },
  {
   "cell_type": "markdown",
   "metadata": {},
   "source": [
    "As you can see, pandas (or, really, the dataframe structure) formats the data quite nicely into a much more readable format."
   ]
  },
  {
   "cell_type": "code",
   "execution_count": 170,
   "metadata": {
    "scrolled": true
   },
   "outputs": [
    {
     "data": {
      "text/html": [
       "<div>\n",
       "<style scoped>\n",
       "    .dataframe tbody tr th:only-of-type {\n",
       "        vertical-align: middle;\n",
       "    }\n",
       "\n",
       "    .dataframe tbody tr th {\n",
       "        vertical-align: top;\n",
       "    }\n",
       "\n",
       "    .dataframe thead th {\n",
       "        text-align: right;\n",
       "    }\n",
       "</style>\n",
       "<table border=\"1\" class=\"dataframe\">\n",
       "  <thead>\n",
       "    <tr style=\"text-align: right;\">\n",
       "      <th></th>\n",
       "      <th>date</th>\n",
       "      <th>Appliances</th>\n",
       "      <th>lights</th>\n",
       "      <th>T1</th>\n",
       "      <th>RH_1</th>\n",
       "      <th>T2</th>\n",
       "      <th>RH_2</th>\n",
       "      <th>T3</th>\n",
       "      <th>RH_3</th>\n",
       "      <th>T4</th>\n",
       "      <th>...</th>\n",
       "      <th>T9</th>\n",
       "      <th>RH_9</th>\n",
       "      <th>T_out</th>\n",
       "      <th>Press_mm_hg</th>\n",
       "      <th>RH_out</th>\n",
       "      <th>Windspeed</th>\n",
       "      <th>Visibility</th>\n",
       "      <th>Tdewpoint</th>\n",
       "      <th>rv1</th>\n",
       "      <th>rv2</th>\n",
       "    </tr>\n",
       "  </thead>\n",
       "  <tbody>\n",
       "    <tr>\n",
       "      <th>0</th>\n",
       "      <td>2016-01-11 17:00:00</td>\n",
       "      <td>60</td>\n",
       "      <td>30</td>\n",
       "      <td>19.890000</td>\n",
       "      <td>47.596667</td>\n",
       "      <td>19.200000</td>\n",
       "      <td>44.790000</td>\n",
       "      <td>19.790000</td>\n",
       "      <td>44.730000</td>\n",
       "      <td>19.000000</td>\n",
       "      <td>...</td>\n",
       "      <td>17.033333</td>\n",
       "      <td>45.530000</td>\n",
       "      <td>6.600000</td>\n",
       "      <td>733.500000</td>\n",
       "      <td>92.000000</td>\n",
       "      <td>7.000000</td>\n",
       "      <td>63.000000</td>\n",
       "      <td>5.300000</td>\n",
       "      <td>13.275433</td>\n",
       "      <td>13.275433</td>\n",
       "    </tr>\n",
       "    <tr>\n",
       "      <th>1</th>\n",
       "      <td>2016-01-11 17:10:00</td>\n",
       "      <td>60</td>\n",
       "      <td>30</td>\n",
       "      <td>19.890000</td>\n",
       "      <td>46.693333</td>\n",
       "      <td>19.200000</td>\n",
       "      <td>44.722500</td>\n",
       "      <td>19.790000</td>\n",
       "      <td>44.790000</td>\n",
       "      <td>19.000000</td>\n",
       "      <td>...</td>\n",
       "      <td>17.066667</td>\n",
       "      <td>45.560000</td>\n",
       "      <td>6.483333</td>\n",
       "      <td>733.600000</td>\n",
       "      <td>92.000000</td>\n",
       "      <td>6.666667</td>\n",
       "      <td>59.166667</td>\n",
       "      <td>5.200000</td>\n",
       "      <td>18.606195</td>\n",
       "      <td>18.606195</td>\n",
       "    </tr>\n",
       "    <tr>\n",
       "      <th>2</th>\n",
       "      <td>2016-01-11 17:20:00</td>\n",
       "      <td>50</td>\n",
       "      <td>30</td>\n",
       "      <td>19.890000</td>\n",
       "      <td>46.300000</td>\n",
       "      <td>19.200000</td>\n",
       "      <td>44.626667</td>\n",
       "      <td>19.790000</td>\n",
       "      <td>44.933333</td>\n",
       "      <td>18.926667</td>\n",
       "      <td>...</td>\n",
       "      <td>17.000000</td>\n",
       "      <td>45.500000</td>\n",
       "      <td>6.366667</td>\n",
       "      <td>733.700000</td>\n",
       "      <td>92.000000</td>\n",
       "      <td>6.333333</td>\n",
       "      <td>55.333333</td>\n",
       "      <td>5.100000</td>\n",
       "      <td>28.642668</td>\n",
       "      <td>28.642668</td>\n",
       "    </tr>\n",
       "    <tr>\n",
       "      <th>3</th>\n",
       "      <td>2016-01-11 17:30:00</td>\n",
       "      <td>50</td>\n",
       "      <td>40</td>\n",
       "      <td>19.890000</td>\n",
       "      <td>46.066667</td>\n",
       "      <td>19.200000</td>\n",
       "      <td>44.590000</td>\n",
       "      <td>19.790000</td>\n",
       "      <td>45.000000</td>\n",
       "      <td>18.890000</td>\n",
       "      <td>...</td>\n",
       "      <td>17.000000</td>\n",
       "      <td>45.400000</td>\n",
       "      <td>6.250000</td>\n",
       "      <td>733.800000</td>\n",
       "      <td>92.000000</td>\n",
       "      <td>6.000000</td>\n",
       "      <td>51.500000</td>\n",
       "      <td>5.000000</td>\n",
       "      <td>45.410389</td>\n",
       "      <td>45.410389</td>\n",
       "    </tr>\n",
       "    <tr>\n",
       "      <th>4</th>\n",
       "      <td>2016-01-11 17:40:00</td>\n",
       "      <td>60</td>\n",
       "      <td>40</td>\n",
       "      <td>19.890000</td>\n",
       "      <td>46.333333</td>\n",
       "      <td>19.200000</td>\n",
       "      <td>44.530000</td>\n",
       "      <td>19.790000</td>\n",
       "      <td>45.000000</td>\n",
       "      <td>18.890000</td>\n",
       "      <td>...</td>\n",
       "      <td>17.000000</td>\n",
       "      <td>45.400000</td>\n",
       "      <td>6.133333</td>\n",
       "      <td>733.900000</td>\n",
       "      <td>92.000000</td>\n",
       "      <td>5.666667</td>\n",
       "      <td>47.666667</td>\n",
       "      <td>4.900000</td>\n",
       "      <td>10.084097</td>\n",
       "      <td>10.084097</td>\n",
       "    </tr>\n",
       "    <tr>\n",
       "      <th>5</th>\n",
       "      <td>2016-01-11 17:50:00</td>\n",
       "      <td>50</td>\n",
       "      <td>40</td>\n",
       "      <td>19.890000</td>\n",
       "      <td>46.026667</td>\n",
       "      <td>19.200000</td>\n",
       "      <td>44.500000</td>\n",
       "      <td>19.790000</td>\n",
       "      <td>44.933333</td>\n",
       "      <td>18.890000</td>\n",
       "      <td>...</td>\n",
       "      <td>17.000000</td>\n",
       "      <td>45.290000</td>\n",
       "      <td>6.016667</td>\n",
       "      <td>734.000000</td>\n",
       "      <td>92.000000</td>\n",
       "      <td>5.333333</td>\n",
       "      <td>43.833333</td>\n",
       "      <td>4.800000</td>\n",
       "      <td>44.919484</td>\n",
       "      <td>44.919484</td>\n",
       "    </tr>\n",
       "    <tr>\n",
       "      <th>6</th>\n",
       "      <td>2016-01-11 18:00:00</td>\n",
       "      <td>60</td>\n",
       "      <td>50</td>\n",
       "      <td>19.890000</td>\n",
       "      <td>45.766667</td>\n",
       "      <td>19.200000</td>\n",
       "      <td>44.500000</td>\n",
       "      <td>19.790000</td>\n",
       "      <td>44.900000</td>\n",
       "      <td>18.890000</td>\n",
       "      <td>...</td>\n",
       "      <td>17.000000</td>\n",
       "      <td>45.290000</td>\n",
       "      <td>5.900000</td>\n",
       "      <td>734.100000</td>\n",
       "      <td>92.000000</td>\n",
       "      <td>5.000000</td>\n",
       "      <td>40.000000</td>\n",
       "      <td>4.700000</td>\n",
       "      <td>47.233763</td>\n",
       "      <td>47.233763</td>\n",
       "    </tr>\n",
       "    <tr>\n",
       "      <th>7</th>\n",
       "      <td>2016-01-11 18:10:00</td>\n",
       "      <td>60</td>\n",
       "      <td>50</td>\n",
       "      <td>19.856667</td>\n",
       "      <td>45.560000</td>\n",
       "      <td>19.200000</td>\n",
       "      <td>44.500000</td>\n",
       "      <td>19.730000</td>\n",
       "      <td>44.900000</td>\n",
       "      <td>18.890000</td>\n",
       "      <td>...</td>\n",
       "      <td>17.000000</td>\n",
       "      <td>45.290000</td>\n",
       "      <td>5.916667</td>\n",
       "      <td>734.166667</td>\n",
       "      <td>91.833333</td>\n",
       "      <td>5.166667</td>\n",
       "      <td>40.000000</td>\n",
       "      <td>4.683333</td>\n",
       "      <td>33.039890</td>\n",
       "      <td>33.039890</td>\n",
       "    </tr>\n",
       "    <tr>\n",
       "      <th>8</th>\n",
       "      <td>2016-01-11 18:20:00</td>\n",
       "      <td>60</td>\n",
       "      <td>40</td>\n",
       "      <td>19.790000</td>\n",
       "      <td>45.597500</td>\n",
       "      <td>19.200000</td>\n",
       "      <td>44.433333</td>\n",
       "      <td>19.730000</td>\n",
       "      <td>44.790000</td>\n",
       "      <td>18.890000</td>\n",
       "      <td>...</td>\n",
       "      <td>17.000000</td>\n",
       "      <td>45.290000</td>\n",
       "      <td>5.933333</td>\n",
       "      <td>734.233333</td>\n",
       "      <td>91.666667</td>\n",
       "      <td>5.333333</td>\n",
       "      <td>40.000000</td>\n",
       "      <td>4.666667</td>\n",
       "      <td>31.455702</td>\n",
       "      <td>31.455702</td>\n",
       "    </tr>\n",
       "    <tr>\n",
       "      <th>9</th>\n",
       "      <td>2016-01-11 18:30:00</td>\n",
       "      <td>70</td>\n",
       "      <td>40</td>\n",
       "      <td>19.856667</td>\n",
       "      <td>46.090000</td>\n",
       "      <td>19.230000</td>\n",
       "      <td>44.400000</td>\n",
       "      <td>19.790000</td>\n",
       "      <td>44.863333</td>\n",
       "      <td>18.890000</td>\n",
       "      <td>...</td>\n",
       "      <td>17.000000</td>\n",
       "      <td>45.290000</td>\n",
       "      <td>5.950000</td>\n",
       "      <td>734.300000</td>\n",
       "      <td>91.500000</td>\n",
       "      <td>5.500000</td>\n",
       "      <td>40.000000</td>\n",
       "      <td>4.650000</td>\n",
       "      <td>3.089314</td>\n",
       "      <td>3.089314</td>\n",
       "    </tr>\n",
       "    <tr>\n",
       "      <th>10</th>\n",
       "      <td>2016-01-11 18:40:00</td>\n",
       "      <td>230</td>\n",
       "      <td>70</td>\n",
       "      <td>19.926667</td>\n",
       "      <td>45.863333</td>\n",
       "      <td>19.356667</td>\n",
       "      <td>44.400000</td>\n",
       "      <td>19.790000</td>\n",
       "      <td>44.900000</td>\n",
       "      <td>18.890000</td>\n",
       "      <td>...</td>\n",
       "      <td>17.000000</td>\n",
       "      <td>45.290000</td>\n",
       "      <td>5.966667</td>\n",
       "      <td>734.366667</td>\n",
       "      <td>91.333333</td>\n",
       "      <td>5.666667</td>\n",
       "      <td>40.000000</td>\n",
       "      <td>4.633333</td>\n",
       "      <td>10.298729</td>\n",
       "      <td>10.298729</td>\n",
       "    </tr>\n",
       "    <tr>\n",
       "      <th>11</th>\n",
       "      <td>2016-01-11 18:50:00</td>\n",
       "      <td>580</td>\n",
       "      <td>60</td>\n",
       "      <td>20.066667</td>\n",
       "      <td>46.396667</td>\n",
       "      <td>19.426667</td>\n",
       "      <td>44.400000</td>\n",
       "      <td>19.790000</td>\n",
       "      <td>44.826667</td>\n",
       "      <td>19.000000</td>\n",
       "      <td>...</td>\n",
       "      <td>16.890000</td>\n",
       "      <td>45.290000</td>\n",
       "      <td>5.983333</td>\n",
       "      <td>734.433333</td>\n",
       "      <td>91.166667</td>\n",
       "      <td>5.833333</td>\n",
       "      <td>40.000000</td>\n",
       "      <td>4.616667</td>\n",
       "      <td>8.827838</td>\n",
       "      <td>8.827838</td>\n",
       "    </tr>\n",
       "    <tr>\n",
       "      <th>12</th>\n",
       "      <td>2016-01-11 19:00:00</td>\n",
       "      <td>430</td>\n",
       "      <td>50</td>\n",
       "      <td>20.133333</td>\n",
       "      <td>48.000000</td>\n",
       "      <td>19.566667</td>\n",
       "      <td>44.400000</td>\n",
       "      <td>19.890000</td>\n",
       "      <td>44.900000</td>\n",
       "      <td>19.000000</td>\n",
       "      <td>...</td>\n",
       "      <td>16.963333</td>\n",
       "      <td>45.290000</td>\n",
       "      <td>6.000000</td>\n",
       "      <td>734.500000</td>\n",
       "      <td>91.000000</td>\n",
       "      <td>6.000000</td>\n",
       "      <td>40.000000</td>\n",
       "      <td>4.600000</td>\n",
       "      <td>34.351142</td>\n",
       "      <td>34.351142</td>\n",
       "    </tr>\n",
       "    <tr>\n",
       "      <th>13</th>\n",
       "      <td>2016-01-11 19:10:00</td>\n",
       "      <td>250</td>\n",
       "      <td>40</td>\n",
       "      <td>20.260000</td>\n",
       "      <td>52.726667</td>\n",
       "      <td>19.730000</td>\n",
       "      <td>45.100000</td>\n",
       "      <td>19.890000</td>\n",
       "      <td>45.493333</td>\n",
       "      <td>19.000000</td>\n",
       "      <td>...</td>\n",
       "      <td>16.890000</td>\n",
       "      <td>45.326667</td>\n",
       "      <td>6.000000</td>\n",
       "      <td>734.616667</td>\n",
       "      <td>90.500000</td>\n",
       "      <td>6.000000</td>\n",
       "      <td>40.000000</td>\n",
       "      <td>4.516667</td>\n",
       "      <td>19.205186</td>\n",
       "      <td>19.205186</td>\n",
       "    </tr>\n",
       "    <tr>\n",
       "      <th>14</th>\n",
       "      <td>2016-01-11 19:20:00</td>\n",
       "      <td>100</td>\n",
       "      <td>10</td>\n",
       "      <td>20.426667</td>\n",
       "      <td>55.893333</td>\n",
       "      <td>19.856667</td>\n",
       "      <td>45.833333</td>\n",
       "      <td>20.033333</td>\n",
       "      <td>47.526667</td>\n",
       "      <td>19.000000</td>\n",
       "      <td>...</td>\n",
       "      <td>16.890000</td>\n",
       "      <td>45.345000</td>\n",
       "      <td>6.000000</td>\n",
       "      <td>734.733333</td>\n",
       "      <td>90.000000</td>\n",
       "      <td>6.000000</td>\n",
       "      <td>40.000000</td>\n",
       "      <td>4.433333</td>\n",
       "      <td>38.492071</td>\n",
       "      <td>38.492071</td>\n",
       "    </tr>\n",
       "    <tr>\n",
       "      <th>15</th>\n",
       "      <td>2016-01-11 19:30:00</td>\n",
       "      <td>100</td>\n",
       "      <td>10</td>\n",
       "      <td>20.566667</td>\n",
       "      <td>53.893333</td>\n",
       "      <td>20.033333</td>\n",
       "      <td>46.756667</td>\n",
       "      <td>20.100000</td>\n",
       "      <td>48.466667</td>\n",
       "      <td>19.000000</td>\n",
       "      <td>...</td>\n",
       "      <td>16.890000</td>\n",
       "      <td>45.326667</td>\n",
       "      <td>6.000000</td>\n",
       "      <td>734.850000</td>\n",
       "      <td>89.500000</td>\n",
       "      <td>6.000000</td>\n",
       "      <td>40.000000</td>\n",
       "      <td>4.350000</td>\n",
       "      <td>24.884962</td>\n",
       "      <td>24.884962</td>\n",
       "    </tr>\n",
       "    <tr>\n",
       "      <th>16</th>\n",
       "      <td>2016-01-11 19:40:00</td>\n",
       "      <td>90</td>\n",
       "      <td>10</td>\n",
       "      <td>20.730000</td>\n",
       "      <td>52.660000</td>\n",
       "      <td>20.166667</td>\n",
       "      <td>47.223333</td>\n",
       "      <td>20.200000</td>\n",
       "      <td>48.530000</td>\n",
       "      <td>18.926667</td>\n",
       "      <td>...</td>\n",
       "      <td>16.890000</td>\n",
       "      <td>45.290000</td>\n",
       "      <td>6.000000</td>\n",
       "      <td>734.966667</td>\n",
       "      <td>89.000000</td>\n",
       "      <td>6.000000</td>\n",
       "      <td>40.000000</td>\n",
       "      <td>4.266667</td>\n",
       "      <td>35.880925</td>\n",
       "      <td>35.880925</td>\n",
       "    </tr>\n",
       "    <tr>\n",
       "      <th>17</th>\n",
       "      <td>2016-01-11 19:50:00</td>\n",
       "      <td>70</td>\n",
       "      <td>30</td>\n",
       "      <td>20.856667</td>\n",
       "      <td>53.660000</td>\n",
       "      <td>20.200000</td>\n",
       "      <td>47.056667</td>\n",
       "      <td>20.200000</td>\n",
       "      <td>48.447500</td>\n",
       "      <td>18.890000</td>\n",
       "      <td>...</td>\n",
       "      <td>16.890000</td>\n",
       "      <td>45.290000</td>\n",
       "      <td>6.000000</td>\n",
       "      <td>735.083333</td>\n",
       "      <td>88.500000</td>\n",
       "      <td>6.000000</td>\n",
       "      <td>40.000000</td>\n",
       "      <td>4.183333</td>\n",
       "      <td>49.595305</td>\n",
       "      <td>49.595305</td>\n",
       "    </tr>\n",
       "    <tr>\n",
       "      <th>18</th>\n",
       "      <td>2016-01-11 20:00:00</td>\n",
       "      <td>80</td>\n",
       "      <td>30</td>\n",
       "      <td>20.890000</td>\n",
       "      <td>51.193333</td>\n",
       "      <td>20.200000</td>\n",
       "      <td>46.330000</td>\n",
       "      <td>20.200000</td>\n",
       "      <td>48.193333</td>\n",
       "      <td>18.963333</td>\n",
       "      <td>...</td>\n",
       "      <td>16.890000</td>\n",
       "      <td>45.200000</td>\n",
       "      <td>6.000000</td>\n",
       "      <td>735.200000</td>\n",
       "      <td>88.000000</td>\n",
       "      <td>6.000000</td>\n",
       "      <td>40.000000</td>\n",
       "      <td>4.100000</td>\n",
       "      <td>19.001759</td>\n",
       "      <td>19.001759</td>\n",
       "    </tr>\n",
       "    <tr>\n",
       "      <th>19</th>\n",
       "      <td>2016-01-11 20:10:00</td>\n",
       "      <td>140</td>\n",
       "      <td>40</td>\n",
       "      <td>20.890000</td>\n",
       "      <td>49.800000</td>\n",
       "      <td>20.200000</td>\n",
       "      <td>46.026667</td>\n",
       "      <td>20.166667</td>\n",
       "      <td>47.633333</td>\n",
       "      <td>19.033333</td>\n",
       "      <td>...</td>\n",
       "      <td>16.890000</td>\n",
       "      <td>45.200000</td>\n",
       "      <td>6.000000</td>\n",
       "      <td>735.233333</td>\n",
       "      <td>87.833333</td>\n",
       "      <td>6.000000</td>\n",
       "      <td>40.000000</td>\n",
       "      <td>4.066667</td>\n",
       "      <td>38.872261</td>\n",
       "      <td>38.872261</td>\n",
       "    </tr>\n",
       "    <tr>\n",
       "      <th>20</th>\n",
       "      <td>2016-01-11 20:20:00</td>\n",
       "      <td>120</td>\n",
       "      <td>20</td>\n",
       "      <td>20.890000</td>\n",
       "      <td>48.433333</td>\n",
       "      <td>20.200000</td>\n",
       "      <td>45.722500</td>\n",
       "      <td>20.166667</td>\n",
       "      <td>47.300000</td>\n",
       "      <td>19.175000</td>\n",
       "      <td>...</td>\n",
       "      <td>16.890000</td>\n",
       "      <td>45.126667</td>\n",
       "      <td>6.000000</td>\n",
       "      <td>735.266667</td>\n",
       "      <td>87.666667</td>\n",
       "      <td>6.000000</td>\n",
       "      <td>40.000000</td>\n",
       "      <td>4.033333</td>\n",
       "      <td>46.735262</td>\n",
       "      <td>46.735262</td>\n",
       "    </tr>\n",
       "    <tr>\n",
       "      <th>21</th>\n",
       "      <td>2016-01-11 20:30:00</td>\n",
       "      <td>190</td>\n",
       "      <td>40</td>\n",
       "      <td>20.963333</td>\n",
       "      <td>47.633333</td>\n",
       "      <td>20.260000</td>\n",
       "      <td>45.530000</td>\n",
       "      <td>20.200000</td>\n",
       "      <td>47.026667</td>\n",
       "      <td>19.260000</td>\n",
       "      <td>...</td>\n",
       "      <td>16.890000</td>\n",
       "      <td>45.126667</td>\n",
       "      <td>6.000000</td>\n",
       "      <td>735.300000</td>\n",
       "      <td>87.500000</td>\n",
       "      <td>6.000000</td>\n",
       "      <td>40.000000</td>\n",
       "      <td>4.000000</td>\n",
       "      <td>10.607126</td>\n",
       "      <td>10.607126</td>\n",
       "    </tr>\n",
       "    <tr>\n",
       "      <th>22</th>\n",
       "      <td>2016-01-11 20:40:00</td>\n",
       "      <td>110</td>\n",
       "      <td>40</td>\n",
       "      <td>21.033333</td>\n",
       "      <td>47.063333</td>\n",
       "      <td>20.290000</td>\n",
       "      <td>45.223333</td>\n",
       "      <td>20.260000</td>\n",
       "      <td>46.826667</td>\n",
       "      <td>19.323333</td>\n",
       "      <td>...</td>\n",
       "      <td>16.890000</td>\n",
       "      <td>45.060000</td>\n",
       "      <td>6.000000</td>\n",
       "      <td>735.333333</td>\n",
       "      <td>87.333333</td>\n",
       "      <td>6.000000</td>\n",
       "      <td>40.000000</td>\n",
       "      <td>3.966667</td>\n",
       "      <td>32.583688</td>\n",
       "      <td>32.583688</td>\n",
       "    </tr>\n",
       "    <tr>\n",
       "      <th>23</th>\n",
       "      <td>2016-01-11 20:50:00</td>\n",
       "      <td>110</td>\n",
       "      <td>40</td>\n",
       "      <td>21.100000</td>\n",
       "      <td>46.596667</td>\n",
       "      <td>20.356667</td>\n",
       "      <td>44.963333</td>\n",
       "      <td>20.290000</td>\n",
       "      <td>46.633333</td>\n",
       "      <td>19.390000</td>\n",
       "      <td>...</td>\n",
       "      <td>16.890000</td>\n",
       "      <td>45.000000</td>\n",
       "      <td>6.000000</td>\n",
       "      <td>735.366667</td>\n",
       "      <td>87.166667</td>\n",
       "      <td>6.000000</td>\n",
       "      <td>40.000000</td>\n",
       "      <td>3.933333</td>\n",
       "      <td>6.277755</td>\n",
       "      <td>6.277755</td>\n",
       "    </tr>\n",
       "    <tr>\n",
       "      <th>24</th>\n",
       "      <td>2016-01-11 21:00:00</td>\n",
       "      <td>110</td>\n",
       "      <td>30</td>\n",
       "      <td>21.133333</td>\n",
       "      <td>46.060000</td>\n",
       "      <td>20.426667</td>\n",
       "      <td>44.760000</td>\n",
       "      <td>20.290000</td>\n",
       "      <td>46.433333</td>\n",
       "      <td>19.390000</td>\n",
       "      <td>...</td>\n",
       "      <td>16.890000</td>\n",
       "      <td>44.966667</td>\n",
       "      <td>6.000000</td>\n",
       "      <td>735.400000</td>\n",
       "      <td>87.000000</td>\n",
       "      <td>6.000000</td>\n",
       "      <td>40.000000</td>\n",
       "      <td>3.900000</td>\n",
       "      <td>13.361033</td>\n",
       "      <td>13.361033</td>\n",
       "    </tr>\n",
       "    <tr>\n",
       "      <th>25</th>\n",
       "      <td>2016-01-11 21:10:00</td>\n",
       "      <td>110</td>\n",
       "      <td>20</td>\n",
       "      <td>21.200000</td>\n",
       "      <td>45.800000</td>\n",
       "      <td>20.500000</td>\n",
       "      <td>44.760000</td>\n",
       "      <td>20.390000</td>\n",
       "      <td>46.223333</td>\n",
       "      <td>19.390000</td>\n",
       "      <td>...</td>\n",
       "      <td>16.890000</td>\n",
       "      <td>44.900000</td>\n",
       "      <td>5.933333</td>\n",
       "      <td>735.466667</td>\n",
       "      <td>87.166667</td>\n",
       "      <td>6.000000</td>\n",
       "      <td>40.000000</td>\n",
       "      <td>3.866667</td>\n",
       "      <td>19.305705</td>\n",
       "      <td>19.305705</td>\n",
       "    </tr>\n",
       "    <tr>\n",
       "      <th>26</th>\n",
       "      <td>2016-01-11 21:20:00</td>\n",
       "      <td>100</td>\n",
       "      <td>30</td>\n",
       "      <td>21.290000</td>\n",
       "      <td>45.900000</td>\n",
       "      <td>20.533333</td>\n",
       "      <td>45.090000</td>\n",
       "      <td>20.390000</td>\n",
       "      <td>46.090000</td>\n",
       "      <td>19.390000</td>\n",
       "      <td>...</td>\n",
       "      <td>16.890000</td>\n",
       "      <td>44.790000</td>\n",
       "      <td>5.866667</td>\n",
       "      <td>735.533333</td>\n",
       "      <td>87.333333</td>\n",
       "      <td>6.000000</td>\n",
       "      <td>40.000000</td>\n",
       "      <td>3.833333</td>\n",
       "      <td>0.669517</td>\n",
       "      <td>0.669517</td>\n",
       "    </tr>\n",
       "    <tr>\n",
       "      <th>27</th>\n",
       "      <td>2016-01-11 21:30:00</td>\n",
       "      <td>100</td>\n",
       "      <td>20</td>\n",
       "      <td>21.356667</td>\n",
       "      <td>45.826667</td>\n",
       "      <td>20.666667</td>\n",
       "      <td>45.163333</td>\n",
       "      <td>20.390000</td>\n",
       "      <td>46.090000</td>\n",
       "      <td>19.390000</td>\n",
       "      <td>...</td>\n",
       "      <td>16.890000</td>\n",
       "      <td>44.790000</td>\n",
       "      <td>5.800000</td>\n",
       "      <td>735.600000</td>\n",
       "      <td>87.500000</td>\n",
       "      <td>6.000000</td>\n",
       "      <td>40.000000</td>\n",
       "      <td>3.800000</td>\n",
       "      <td>19.119398</td>\n",
       "      <td>19.119398</td>\n",
       "    </tr>\n",
       "    <tr>\n",
       "      <th>28</th>\n",
       "      <td>2016-01-11 21:40:00</td>\n",
       "      <td>100</td>\n",
       "      <td>20</td>\n",
       "      <td>21.390000</td>\n",
       "      <td>45.690000</td>\n",
       "      <td>20.700000</td>\n",
       "      <td>45.060000</td>\n",
       "      <td>20.390000</td>\n",
       "      <td>46.090000</td>\n",
       "      <td>19.426667</td>\n",
       "      <td>...</td>\n",
       "      <td>16.890000</td>\n",
       "      <td>44.700000</td>\n",
       "      <td>5.733333</td>\n",
       "      <td>735.666667</td>\n",
       "      <td>87.666667</td>\n",
       "      <td>6.000000</td>\n",
       "      <td>40.000000</td>\n",
       "      <td>3.766667</td>\n",
       "      <td>43.484542</td>\n",
       "      <td>43.484542</td>\n",
       "    </tr>\n",
       "    <tr>\n",
       "      <th>29</th>\n",
       "      <td>2016-01-11 21:50:00</td>\n",
       "      <td>100</td>\n",
       "      <td>20</td>\n",
       "      <td>21.500000</td>\n",
       "      <td>45.333333</td>\n",
       "      <td>20.700000</td>\n",
       "      <td>44.933333</td>\n",
       "      <td>20.390000</td>\n",
       "      <td>46.060000</td>\n",
       "      <td>19.566667</td>\n",
       "      <td>...</td>\n",
       "      <td>16.890000</td>\n",
       "      <td>44.700000</td>\n",
       "      <td>5.666667</td>\n",
       "      <td>735.733333</td>\n",
       "      <td>87.833333</td>\n",
       "      <td>6.000000</td>\n",
       "      <td>40.000000</td>\n",
       "      <td>3.733333</td>\n",
       "      <td>17.017450</td>\n",
       "      <td>17.017450</td>\n",
       "    </tr>\n",
       "    <tr>\n",
       "      <th>...</th>\n",
       "      <td>...</td>\n",
       "      <td>...</td>\n",
       "      <td>...</td>\n",
       "      <td>...</td>\n",
       "      <td>...</td>\n",
       "      <td>...</td>\n",
       "      <td>...</td>\n",
       "      <td>...</td>\n",
       "      <td>...</td>\n",
       "      <td>...</td>\n",
       "      <td>...</td>\n",
       "      <td>...</td>\n",
       "      <td>...</td>\n",
       "      <td>...</td>\n",
       "      <td>...</td>\n",
       "      <td>...</td>\n",
       "      <td>...</td>\n",
       "      <td>...</td>\n",
       "      <td>...</td>\n",
       "      <td>...</td>\n",
       "      <td>...</td>\n",
       "    </tr>\n",
       "    <tr>\n",
       "      <th>19705</th>\n",
       "      <td>2016-05-27 13:10:00</td>\n",
       "      <td>280</td>\n",
       "      <td>0</td>\n",
       "      <td>25.033333</td>\n",
       "      <td>48.363333</td>\n",
       "      <td>26.528571</td>\n",
       "      <td>40.595714</td>\n",
       "      <td>28.496667</td>\n",
       "      <td>41.900000</td>\n",
       "      <td>24.500000</td>\n",
       "      <td>...</td>\n",
       "      <td>23.100000</td>\n",
       "      <td>46.500000</td>\n",
       "      <td>21.250000</td>\n",
       "      <td>756.050000</td>\n",
       "      <td>59.833333</td>\n",
       "      <td>1.166667</td>\n",
       "      <td>23.666667</td>\n",
       "      <td>13.100000</td>\n",
       "      <td>32.420348</td>\n",
       "      <td>32.420348</td>\n",
       "    </tr>\n",
       "    <tr>\n",
       "      <th>19706</th>\n",
       "      <td>2016-05-27 13:20:00</td>\n",
       "      <td>240</td>\n",
       "      <td>0</td>\n",
       "      <td>25.166667</td>\n",
       "      <td>48.156667</td>\n",
       "      <td>26.600000</td>\n",
       "      <td>40.940000</td>\n",
       "      <td>28.290000</td>\n",
       "      <td>41.966667</td>\n",
       "      <td>24.500000</td>\n",
       "      <td>...</td>\n",
       "      <td>23.100000</td>\n",
       "      <td>46.500000</td>\n",
       "      <td>21.400000</td>\n",
       "      <td>756.000000</td>\n",
       "      <td>59.666667</td>\n",
       "      <td>1.333333</td>\n",
       "      <td>23.333333</td>\n",
       "      <td>13.200000</td>\n",
       "      <td>49.189027</td>\n",
       "      <td>49.189027</td>\n",
       "    </tr>\n",
       "    <tr>\n",
       "      <th>19707</th>\n",
       "      <td>2016-05-27 13:30:00</td>\n",
       "      <td>250</td>\n",
       "      <td>0</td>\n",
       "      <td>25.323333</td>\n",
       "      <td>47.930000</td>\n",
       "      <td>26.600000</td>\n",
       "      <td>41.012857</td>\n",
       "      <td>28.200000</td>\n",
       "      <td>42.090000</td>\n",
       "      <td>24.533333</td>\n",
       "      <td>...</td>\n",
       "      <td>23.100000</td>\n",
       "      <td>46.522500</td>\n",
       "      <td>21.550000</td>\n",
       "      <td>755.950000</td>\n",
       "      <td>59.500000</td>\n",
       "      <td>1.500000</td>\n",
       "      <td>23.000000</td>\n",
       "      <td>13.300000</td>\n",
       "      <td>15.081162</td>\n",
       "      <td>15.081162</td>\n",
       "    </tr>\n",
       "    <tr>\n",
       "      <th>19708</th>\n",
       "      <td>2016-05-27 13:40:00</td>\n",
       "      <td>220</td>\n",
       "      <td>0</td>\n",
       "      <td>25.390000</td>\n",
       "      <td>47.656667</td>\n",
       "      <td>26.600000</td>\n",
       "      <td>41.036000</td>\n",
       "      <td>28.200000</td>\n",
       "      <td>42.030000</td>\n",
       "      <td>24.600000</td>\n",
       "      <td>...</td>\n",
       "      <td>23.100000</td>\n",
       "      <td>46.530000</td>\n",
       "      <td>21.700000</td>\n",
       "      <td>755.900000</td>\n",
       "      <td>59.333333</td>\n",
       "      <td>1.666667</td>\n",
       "      <td>22.666667</td>\n",
       "      <td>13.400000</td>\n",
       "      <td>45.226866</td>\n",
       "      <td>45.226866</td>\n",
       "    </tr>\n",
       "    <tr>\n",
       "      <th>19709</th>\n",
       "      <td>2016-05-27 13:50:00</td>\n",
       "      <td>230</td>\n",
       "      <td>0</td>\n",
       "      <td>25.500000</td>\n",
       "      <td>47.133333</td>\n",
       "      <td>26.600000</td>\n",
       "      <td>41.000000</td>\n",
       "      <td>28.200000</td>\n",
       "      <td>41.796667</td>\n",
       "      <td>24.600000</td>\n",
       "      <td>...</td>\n",
       "      <td>23.100000</td>\n",
       "      <td>46.530000</td>\n",
       "      <td>21.850000</td>\n",
       "      <td>755.850000</td>\n",
       "      <td>59.166667</td>\n",
       "      <td>1.833333</td>\n",
       "      <td>22.333333</td>\n",
       "      <td>13.500000</td>\n",
       "      <td>5.773431</td>\n",
       "      <td>5.773431</td>\n",
       "    </tr>\n",
       "    <tr>\n",
       "      <th>19710</th>\n",
       "      <td>2016-05-27 14:00:00</td>\n",
       "      <td>190</td>\n",
       "      <td>10</td>\n",
       "      <td>25.500000</td>\n",
       "      <td>47.060000</td>\n",
       "      <td>26.540000</td>\n",
       "      <td>41.000000</td>\n",
       "      <td>28.200000</td>\n",
       "      <td>41.530000</td>\n",
       "      <td>24.600000</td>\n",
       "      <td>...</td>\n",
       "      <td>23.100000</td>\n",
       "      <td>46.530000</td>\n",
       "      <td>22.000000</td>\n",
       "      <td>755.800000</td>\n",
       "      <td>59.000000</td>\n",
       "      <td>2.000000</td>\n",
       "      <td>22.000000</td>\n",
       "      <td>13.600000</td>\n",
       "      <td>41.515044</td>\n",
       "      <td>41.515044</td>\n",
       "    </tr>\n",
       "    <tr>\n",
       "      <th>19711</th>\n",
       "      <td>2016-05-27 14:10:00</td>\n",
       "      <td>160</td>\n",
       "      <td>0</td>\n",
       "      <td>25.600000</td>\n",
       "      <td>46.990000</td>\n",
       "      <td>26.512500</td>\n",
       "      <td>41.203750</td>\n",
       "      <td>28.200000</td>\n",
       "      <td>41.590000</td>\n",
       "      <td>24.633333</td>\n",
       "      <td>...</td>\n",
       "      <td>23.100000</td>\n",
       "      <td>46.530000</td>\n",
       "      <td>21.966667</td>\n",
       "      <td>755.800000</td>\n",
       "      <td>59.000000</td>\n",
       "      <td>2.000000</td>\n",
       "      <td>21.833333</td>\n",
       "      <td>13.550000</td>\n",
       "      <td>19.540642</td>\n",
       "      <td>19.540642</td>\n",
       "    </tr>\n",
       "    <tr>\n",
       "      <th>19712</th>\n",
       "      <td>2016-05-27 14:20:00</td>\n",
       "      <td>80</td>\n",
       "      <td>0</td>\n",
       "      <td>25.600000</td>\n",
       "      <td>46.730000</td>\n",
       "      <td>26.437143</td>\n",
       "      <td>41.384286</td>\n",
       "      <td>28.426667</td>\n",
       "      <td>41.430000</td>\n",
       "      <td>24.700000</td>\n",
       "      <td>...</td>\n",
       "      <td>23.100000</td>\n",
       "      <td>46.590000</td>\n",
       "      <td>21.933333</td>\n",
       "      <td>755.800000</td>\n",
       "      <td>59.000000</td>\n",
       "      <td>2.000000</td>\n",
       "      <td>21.666667</td>\n",
       "      <td>13.500000</td>\n",
       "      <td>16.977597</td>\n",
       "      <td>16.977597</td>\n",
       "    </tr>\n",
       "    <tr>\n",
       "      <th>19713</th>\n",
       "      <td>2016-05-27 14:30:00</td>\n",
       "      <td>60</td>\n",
       "      <td>0</td>\n",
       "      <td>25.566667</td>\n",
       "      <td>46.633333</td>\n",
       "      <td>26.370000</td>\n",
       "      <td>41.378000</td>\n",
       "      <td>28.566667</td>\n",
       "      <td>41.156667</td>\n",
       "      <td>24.700000</td>\n",
       "      <td>...</td>\n",
       "      <td>23.100000</td>\n",
       "      <td>46.626667</td>\n",
       "      <td>21.900000</td>\n",
       "      <td>755.800000</td>\n",
       "      <td>59.000000</td>\n",
       "      <td>2.000000</td>\n",
       "      <td>21.500000</td>\n",
       "      <td>13.450000</td>\n",
       "      <td>8.991420</td>\n",
       "      <td>8.991420</td>\n",
       "    </tr>\n",
       "    <tr>\n",
       "      <th>19714</th>\n",
       "      <td>2016-05-27 14:40:00</td>\n",
       "      <td>60</td>\n",
       "      <td>0</td>\n",
       "      <td>25.500000</td>\n",
       "      <td>46.360000</td>\n",
       "      <td>26.318571</td>\n",
       "      <td>41.264286</td>\n",
       "      <td>28.566667</td>\n",
       "      <td>40.663333</td>\n",
       "      <td>24.700000</td>\n",
       "      <td>...</td>\n",
       "      <td>23.100000</td>\n",
       "      <td>46.700000</td>\n",
       "      <td>21.866667</td>\n",
       "      <td>755.800000</td>\n",
       "      <td>59.000000</td>\n",
       "      <td>2.000000</td>\n",
       "      <td>21.333333</td>\n",
       "      <td>13.400000</td>\n",
       "      <td>40.409885</td>\n",
       "      <td>40.409885</td>\n",
       "    </tr>\n",
       "    <tr>\n",
       "      <th>19715</th>\n",
       "      <td>2016-05-27 14:50:00</td>\n",
       "      <td>60</td>\n",
       "      <td>0</td>\n",
       "      <td>25.500000</td>\n",
       "      <td>46.060000</td>\n",
       "      <td>26.350000</td>\n",
       "      <td>41.000000</td>\n",
       "      <td>28.426667</td>\n",
       "      <td>40.590000</td>\n",
       "      <td>24.666667</td>\n",
       "      <td>...</td>\n",
       "      <td>23.100000</td>\n",
       "      <td>46.590000</td>\n",
       "      <td>21.833333</td>\n",
       "      <td>755.800000</td>\n",
       "      <td>59.000000</td>\n",
       "      <td>2.000000</td>\n",
       "      <td>21.166667</td>\n",
       "      <td>13.350000</td>\n",
       "      <td>37.889086</td>\n",
       "      <td>37.889086</td>\n",
       "    </tr>\n",
       "    <tr>\n",
       "      <th>19716</th>\n",
       "      <td>2016-05-27 15:00:00</td>\n",
       "      <td>60</td>\n",
       "      <td>0</td>\n",
       "      <td>25.500000</td>\n",
       "      <td>45.933333</td>\n",
       "      <td>26.277143</td>\n",
       "      <td>41.000000</td>\n",
       "      <td>28.356667</td>\n",
       "      <td>40.560000</td>\n",
       "      <td>24.666667</td>\n",
       "      <td>...</td>\n",
       "      <td>23.100000</td>\n",
       "      <td>46.590000</td>\n",
       "      <td>21.800000</td>\n",
       "      <td>755.800000</td>\n",
       "      <td>59.000000</td>\n",
       "      <td>2.000000</td>\n",
       "      <td>21.000000</td>\n",
       "      <td>13.300000</td>\n",
       "      <td>17.123315</td>\n",
       "      <td>17.123315</td>\n",
       "    </tr>\n",
       "    <tr>\n",
       "      <th>19717</th>\n",
       "      <td>2016-05-27 15:10:00</td>\n",
       "      <td>70</td>\n",
       "      <td>0</td>\n",
       "      <td>25.500000</td>\n",
       "      <td>45.760000</td>\n",
       "      <td>26.200000</td>\n",
       "      <td>41.000000</td>\n",
       "      <td>28.290000</td>\n",
       "      <td>40.433333</td>\n",
       "      <td>24.700000</td>\n",
       "      <td>...</td>\n",
       "      <td>23.133333</td>\n",
       "      <td>46.590000</td>\n",
       "      <td>21.966667</td>\n",
       "      <td>755.750000</td>\n",
       "      <td>58.333333</td>\n",
       "      <td>2.000000</td>\n",
       "      <td>21.333333</td>\n",
       "      <td>13.283333</td>\n",
       "      <td>24.058432</td>\n",
       "      <td>24.058432</td>\n",
       "    </tr>\n",
       "    <tr>\n",
       "      <th>19718</th>\n",
       "      <td>2016-05-27 15:20:00</td>\n",
       "      <td>80</td>\n",
       "      <td>0</td>\n",
       "      <td>25.500000</td>\n",
       "      <td>45.626667</td>\n",
       "      <td>26.171429</td>\n",
       "      <td>41.000000</td>\n",
       "      <td>28.260000</td>\n",
       "      <td>40.260000</td>\n",
       "      <td>24.700000</td>\n",
       "      <td>...</td>\n",
       "      <td>23.133333</td>\n",
       "      <td>46.590000</td>\n",
       "      <td>22.133333</td>\n",
       "      <td>755.700000</td>\n",
       "      <td>57.666667</td>\n",
       "      <td>2.000000</td>\n",
       "      <td>21.666667</td>\n",
       "      <td>13.266667</td>\n",
       "      <td>9.538671</td>\n",
       "      <td>9.538671</td>\n",
       "    </tr>\n",
       "    <tr>\n",
       "      <th>19719</th>\n",
       "      <td>2016-05-27 15:30:00</td>\n",
       "      <td>80</td>\n",
       "      <td>0</td>\n",
       "      <td>25.500000</td>\n",
       "      <td>45.590000</td>\n",
       "      <td>26.100000</td>\n",
       "      <td>41.000000</td>\n",
       "      <td>28.200000</td>\n",
       "      <td>40.126667</td>\n",
       "      <td>24.700000</td>\n",
       "      <td>...</td>\n",
       "      <td>23.166667</td>\n",
       "      <td>46.590000</td>\n",
       "      <td>22.300000</td>\n",
       "      <td>755.650000</td>\n",
       "      <td>57.000000</td>\n",
       "      <td>2.000000</td>\n",
       "      <td>22.000000</td>\n",
       "      <td>13.250000</td>\n",
       "      <td>30.020685</td>\n",
       "      <td>30.020685</td>\n",
       "    </tr>\n",
       "    <tr>\n",
       "      <th>19720</th>\n",
       "      <td>2016-05-27 15:40:00</td>\n",
       "      <td>70</td>\n",
       "      <td>0</td>\n",
       "      <td>25.500000</td>\n",
       "      <td>45.522500</td>\n",
       "      <td>26.100000</td>\n",
       "      <td>41.051429</td>\n",
       "      <td>28.200000</td>\n",
       "      <td>40.200000</td>\n",
       "      <td>24.700000</td>\n",
       "      <td>...</td>\n",
       "      <td>23.100000</td>\n",
       "      <td>46.590000</td>\n",
       "      <td>22.466667</td>\n",
       "      <td>755.600000</td>\n",
       "      <td>56.333333</td>\n",
       "      <td>2.000000</td>\n",
       "      <td>22.333333</td>\n",
       "      <td>13.233333</td>\n",
       "      <td>23.851737</td>\n",
       "      <td>23.851737</td>\n",
       "    </tr>\n",
       "    <tr>\n",
       "      <th>19721</th>\n",
       "      <td>2016-05-27 15:50:00</td>\n",
       "      <td>100</td>\n",
       "      <td>0</td>\n",
       "      <td>25.500000</td>\n",
       "      <td>45.633333</td>\n",
       "      <td>26.080000</td>\n",
       "      <td>41.196000</td>\n",
       "      <td>28.133333</td>\n",
       "      <td>40.260000</td>\n",
       "      <td>24.700000</td>\n",
       "      <td>...</td>\n",
       "      <td>23.200000</td>\n",
       "      <td>46.590000</td>\n",
       "      <td>22.633333</td>\n",
       "      <td>755.550000</td>\n",
       "      <td>55.666667</td>\n",
       "      <td>2.000000</td>\n",
       "      <td>22.666667</td>\n",
       "      <td>13.216667</td>\n",
       "      <td>47.981309</td>\n",
       "      <td>47.981309</td>\n",
       "    </tr>\n",
       "    <tr>\n",
       "      <th>19722</th>\n",
       "      <td>2016-05-27 16:00:00</td>\n",
       "      <td>100</td>\n",
       "      <td>0</td>\n",
       "      <td>25.500000</td>\n",
       "      <td>45.730000</td>\n",
       "      <td>26.000000</td>\n",
       "      <td>41.428571</td>\n",
       "      <td>28.100000</td>\n",
       "      <td>40.433333</td>\n",
       "      <td>24.700000</td>\n",
       "      <td>...</td>\n",
       "      <td>23.200000</td>\n",
       "      <td>46.590000</td>\n",
       "      <td>22.800000</td>\n",
       "      <td>755.500000</td>\n",
       "      <td>55.000000</td>\n",
       "      <td>2.000000</td>\n",
       "      <td>23.000000</td>\n",
       "      <td>13.200000</td>\n",
       "      <td>18.215602</td>\n",
       "      <td>18.215602</td>\n",
       "    </tr>\n",
       "    <tr>\n",
       "      <th>19723</th>\n",
       "      <td>2016-05-27 16:10:00</td>\n",
       "      <td>90</td>\n",
       "      <td>0</td>\n",
       "      <td>25.500000</td>\n",
       "      <td>45.790000</td>\n",
       "      <td>26.000000</td>\n",
       "      <td>41.590000</td>\n",
       "      <td>28.100000</td>\n",
       "      <td>40.560000</td>\n",
       "      <td>24.700000</td>\n",
       "      <td>...</td>\n",
       "      <td>23.160000</td>\n",
       "      <td>46.590000</td>\n",
       "      <td>22.833333</td>\n",
       "      <td>755.450000</td>\n",
       "      <td>55.000000</td>\n",
       "      <td>2.166667</td>\n",
       "      <td>22.833333</td>\n",
       "      <td>13.233333</td>\n",
       "      <td>38.751594</td>\n",
       "      <td>38.751594</td>\n",
       "    </tr>\n",
       "    <tr>\n",
       "      <th>19724</th>\n",
       "      <td>2016-05-27 16:20:00</td>\n",
       "      <td>100</td>\n",
       "      <td>0</td>\n",
       "      <td>25.500000</td>\n",
       "      <td>45.933333</td>\n",
       "      <td>26.000000</td>\n",
       "      <td>41.652857</td>\n",
       "      <td>28.000000</td>\n",
       "      <td>40.700000</td>\n",
       "      <td>24.700000</td>\n",
       "      <td>...</td>\n",
       "      <td>23.200000</td>\n",
       "      <td>46.621429</td>\n",
       "      <td>22.866667</td>\n",
       "      <td>755.400000</td>\n",
       "      <td>55.000000</td>\n",
       "      <td>2.333333</td>\n",
       "      <td>22.666667</td>\n",
       "      <td>13.266667</td>\n",
       "      <td>32.306224</td>\n",
       "      <td>32.306224</td>\n",
       "    </tr>\n",
       "    <tr>\n",
       "      <th>19725</th>\n",
       "      <td>2016-05-27 16:30:00</td>\n",
       "      <td>220</td>\n",
       "      <td>0</td>\n",
       "      <td>25.426667</td>\n",
       "      <td>46.060000</td>\n",
       "      <td>26.000000</td>\n",
       "      <td>41.700000</td>\n",
       "      <td>28.000000</td>\n",
       "      <td>40.760000</td>\n",
       "      <td>24.700000</td>\n",
       "      <td>...</td>\n",
       "      <td>23.200000</td>\n",
       "      <td>46.700000</td>\n",
       "      <td>22.900000</td>\n",
       "      <td>755.350000</td>\n",
       "      <td>55.000000</td>\n",
       "      <td>2.500000</td>\n",
       "      <td>22.500000</td>\n",
       "      <td>13.300000</td>\n",
       "      <td>23.009520</td>\n",
       "      <td>23.009520</td>\n",
       "    </tr>\n",
       "    <tr>\n",
       "      <th>19726</th>\n",
       "      <td>2016-05-27 16:40:00</td>\n",
       "      <td>180</td>\n",
       "      <td>0</td>\n",
       "      <td>25.500000</td>\n",
       "      <td>46.530000</td>\n",
       "      <td>26.000000</td>\n",
       "      <td>41.725714</td>\n",
       "      <td>27.856667</td>\n",
       "      <td>40.500000</td>\n",
       "      <td>24.700000</td>\n",
       "      <td>...</td>\n",
       "      <td>23.200000</td>\n",
       "      <td>46.652857</td>\n",
       "      <td>22.933333</td>\n",
       "      <td>755.300000</td>\n",
       "      <td>55.000000</td>\n",
       "      <td>2.666667</td>\n",
       "      <td>22.333333</td>\n",
       "      <td>13.333333</td>\n",
       "      <td>25.296732</td>\n",
       "      <td>25.296732</td>\n",
       "    </tr>\n",
       "    <tr>\n",
       "      <th>19727</th>\n",
       "      <td>2016-05-27 16:50:00</td>\n",
       "      <td>120</td>\n",
       "      <td>0</td>\n",
       "      <td>25.500000</td>\n",
       "      <td>47.456667</td>\n",
       "      <td>26.000000</td>\n",
       "      <td>42.320000</td>\n",
       "      <td>27.663333</td>\n",
       "      <td>40.693333</td>\n",
       "      <td>24.700000</td>\n",
       "      <td>...</td>\n",
       "      <td>23.200000</td>\n",
       "      <td>46.718000</td>\n",
       "      <td>22.966667</td>\n",
       "      <td>755.250000</td>\n",
       "      <td>55.000000</td>\n",
       "      <td>2.833333</td>\n",
       "      <td>22.166667</td>\n",
       "      <td>13.366667</td>\n",
       "      <td>1.796395</td>\n",
       "      <td>1.796395</td>\n",
       "    </tr>\n",
       "    <tr>\n",
       "      <th>19728</th>\n",
       "      <td>2016-05-27 17:00:00</td>\n",
       "      <td>110</td>\n",
       "      <td>0</td>\n",
       "      <td>25.600000</td>\n",
       "      <td>47.193333</td>\n",
       "      <td>25.968571</td>\n",
       "      <td>42.528571</td>\n",
       "      <td>27.390000</td>\n",
       "      <td>41.030000</td>\n",
       "      <td>24.700000</td>\n",
       "      <td>...</td>\n",
       "      <td>23.200000</td>\n",
       "      <td>46.751429</td>\n",
       "      <td>23.000000</td>\n",
       "      <td>755.200000</td>\n",
       "      <td>55.000000</td>\n",
       "      <td>3.000000</td>\n",
       "      <td>22.000000</td>\n",
       "      <td>13.400000</td>\n",
       "      <td>18.248201</td>\n",
       "      <td>18.248201</td>\n",
       "    </tr>\n",
       "    <tr>\n",
       "      <th>19729</th>\n",
       "      <td>2016-05-27 17:10:00</td>\n",
       "      <td>90</td>\n",
       "      <td>0</td>\n",
       "      <td>25.533333</td>\n",
       "      <td>46.860000</td>\n",
       "      <td>25.978000</td>\n",
       "      <td>42.534000</td>\n",
       "      <td>27.323333</td>\n",
       "      <td>41.090000</td>\n",
       "      <td>24.700000</td>\n",
       "      <td>...</td>\n",
       "      <td>23.200000</td>\n",
       "      <td>46.745000</td>\n",
       "      <td>22.866667</td>\n",
       "      <td>755.200000</td>\n",
       "      <td>55.333333</td>\n",
       "      <td>3.166667</td>\n",
       "      <td>22.833333</td>\n",
       "      <td>13.366667</td>\n",
       "      <td>16.966162</td>\n",
       "      <td>16.966162</td>\n",
       "    </tr>\n",
       "    <tr>\n",
       "      <th>19730</th>\n",
       "      <td>2016-05-27 17:20:00</td>\n",
       "      <td>100</td>\n",
       "      <td>0</td>\n",
       "      <td>25.566667</td>\n",
       "      <td>46.560000</td>\n",
       "      <td>25.890000</td>\n",
       "      <td>42.025714</td>\n",
       "      <td>27.200000</td>\n",
       "      <td>41.163333</td>\n",
       "      <td>24.700000</td>\n",
       "      <td>...</td>\n",
       "      <td>23.200000</td>\n",
       "      <td>46.790000</td>\n",
       "      <td>22.733333</td>\n",
       "      <td>755.200000</td>\n",
       "      <td>55.666667</td>\n",
       "      <td>3.333333</td>\n",
       "      <td>23.666667</td>\n",
       "      <td>13.333333</td>\n",
       "      <td>43.096812</td>\n",
       "      <td>43.096812</td>\n",
       "    </tr>\n",
       "    <tr>\n",
       "      <th>19731</th>\n",
       "      <td>2016-05-27 17:30:00</td>\n",
       "      <td>90</td>\n",
       "      <td>0</td>\n",
       "      <td>25.500000</td>\n",
       "      <td>46.500000</td>\n",
       "      <td>25.754000</td>\n",
       "      <td>42.080000</td>\n",
       "      <td>27.133333</td>\n",
       "      <td>41.223333</td>\n",
       "      <td>24.700000</td>\n",
       "      <td>...</td>\n",
       "      <td>23.200000</td>\n",
       "      <td>46.790000</td>\n",
       "      <td>22.600000</td>\n",
       "      <td>755.200000</td>\n",
       "      <td>56.000000</td>\n",
       "      <td>3.500000</td>\n",
       "      <td>24.500000</td>\n",
       "      <td>13.300000</td>\n",
       "      <td>49.282940</td>\n",
       "      <td>49.282940</td>\n",
       "    </tr>\n",
       "    <tr>\n",
       "      <th>19732</th>\n",
       "      <td>2016-05-27 17:40:00</td>\n",
       "      <td>270</td>\n",
       "      <td>10</td>\n",
       "      <td>25.500000</td>\n",
       "      <td>46.596667</td>\n",
       "      <td>25.628571</td>\n",
       "      <td>42.768571</td>\n",
       "      <td>27.050000</td>\n",
       "      <td>41.690000</td>\n",
       "      <td>24.700000</td>\n",
       "      <td>...</td>\n",
       "      <td>23.200000</td>\n",
       "      <td>46.790000</td>\n",
       "      <td>22.466667</td>\n",
       "      <td>755.200000</td>\n",
       "      <td>56.333333</td>\n",
       "      <td>3.666667</td>\n",
       "      <td>25.333333</td>\n",
       "      <td>13.266667</td>\n",
       "      <td>29.199117</td>\n",
       "      <td>29.199117</td>\n",
       "    </tr>\n",
       "    <tr>\n",
       "      <th>19733</th>\n",
       "      <td>2016-05-27 17:50:00</td>\n",
       "      <td>420</td>\n",
       "      <td>10</td>\n",
       "      <td>25.500000</td>\n",
       "      <td>46.990000</td>\n",
       "      <td>25.414000</td>\n",
       "      <td>43.036000</td>\n",
       "      <td>26.890000</td>\n",
       "      <td>41.290000</td>\n",
       "      <td>24.700000</td>\n",
       "      <td>...</td>\n",
       "      <td>23.200000</td>\n",
       "      <td>46.817500</td>\n",
       "      <td>22.333333</td>\n",
       "      <td>755.200000</td>\n",
       "      <td>56.666667</td>\n",
       "      <td>3.833333</td>\n",
       "      <td>26.166667</td>\n",
       "      <td>13.233333</td>\n",
       "      <td>6.322784</td>\n",
       "      <td>6.322784</td>\n",
       "    </tr>\n",
       "    <tr>\n",
       "      <th>19734</th>\n",
       "      <td>2016-05-27 18:00:00</td>\n",
       "      <td>430</td>\n",
       "      <td>10</td>\n",
       "      <td>25.500000</td>\n",
       "      <td>46.600000</td>\n",
       "      <td>25.264286</td>\n",
       "      <td>42.971429</td>\n",
       "      <td>26.823333</td>\n",
       "      <td>41.156667</td>\n",
       "      <td>24.700000</td>\n",
       "      <td>...</td>\n",
       "      <td>23.200000</td>\n",
       "      <td>46.845000</td>\n",
       "      <td>22.200000</td>\n",
       "      <td>755.200000</td>\n",
       "      <td>57.000000</td>\n",
       "      <td>4.000000</td>\n",
       "      <td>27.000000</td>\n",
       "      <td>13.200000</td>\n",
       "      <td>34.118851</td>\n",
       "      <td>34.118851</td>\n",
       "    </tr>\n",
       "  </tbody>\n",
       "</table>\n",
       "<p>19735 rows × 29 columns</p>\n",
       "</div>"
      ],
      "text/plain": [
       "                      date  Appliances  lights         T1       RH_1  \\\n",
       "0      2016-01-11 17:00:00          60      30  19.890000  47.596667   \n",
       "1      2016-01-11 17:10:00          60      30  19.890000  46.693333   \n",
       "2      2016-01-11 17:20:00          50      30  19.890000  46.300000   \n",
       "3      2016-01-11 17:30:00          50      40  19.890000  46.066667   \n",
       "4      2016-01-11 17:40:00          60      40  19.890000  46.333333   \n",
       "5      2016-01-11 17:50:00          50      40  19.890000  46.026667   \n",
       "6      2016-01-11 18:00:00          60      50  19.890000  45.766667   \n",
       "7      2016-01-11 18:10:00          60      50  19.856667  45.560000   \n",
       "8      2016-01-11 18:20:00          60      40  19.790000  45.597500   \n",
       "9      2016-01-11 18:30:00          70      40  19.856667  46.090000   \n",
       "10     2016-01-11 18:40:00         230      70  19.926667  45.863333   \n",
       "11     2016-01-11 18:50:00         580      60  20.066667  46.396667   \n",
       "12     2016-01-11 19:00:00         430      50  20.133333  48.000000   \n",
       "13     2016-01-11 19:10:00         250      40  20.260000  52.726667   \n",
       "14     2016-01-11 19:20:00         100      10  20.426667  55.893333   \n",
       "15     2016-01-11 19:30:00         100      10  20.566667  53.893333   \n",
       "16     2016-01-11 19:40:00          90      10  20.730000  52.660000   \n",
       "17     2016-01-11 19:50:00          70      30  20.856667  53.660000   \n",
       "18     2016-01-11 20:00:00          80      30  20.890000  51.193333   \n",
       "19     2016-01-11 20:10:00         140      40  20.890000  49.800000   \n",
       "20     2016-01-11 20:20:00         120      20  20.890000  48.433333   \n",
       "21     2016-01-11 20:30:00         190      40  20.963333  47.633333   \n",
       "22     2016-01-11 20:40:00         110      40  21.033333  47.063333   \n",
       "23     2016-01-11 20:50:00         110      40  21.100000  46.596667   \n",
       "24     2016-01-11 21:00:00         110      30  21.133333  46.060000   \n",
       "25     2016-01-11 21:10:00         110      20  21.200000  45.800000   \n",
       "26     2016-01-11 21:20:00         100      30  21.290000  45.900000   \n",
       "27     2016-01-11 21:30:00         100      20  21.356667  45.826667   \n",
       "28     2016-01-11 21:40:00         100      20  21.390000  45.690000   \n",
       "29     2016-01-11 21:50:00         100      20  21.500000  45.333333   \n",
       "...                    ...         ...     ...        ...        ...   \n",
       "19705  2016-05-27 13:10:00         280       0  25.033333  48.363333   \n",
       "19706  2016-05-27 13:20:00         240       0  25.166667  48.156667   \n",
       "19707  2016-05-27 13:30:00         250       0  25.323333  47.930000   \n",
       "19708  2016-05-27 13:40:00         220       0  25.390000  47.656667   \n",
       "19709  2016-05-27 13:50:00         230       0  25.500000  47.133333   \n",
       "19710  2016-05-27 14:00:00         190      10  25.500000  47.060000   \n",
       "19711  2016-05-27 14:10:00         160       0  25.600000  46.990000   \n",
       "19712  2016-05-27 14:20:00          80       0  25.600000  46.730000   \n",
       "19713  2016-05-27 14:30:00          60       0  25.566667  46.633333   \n",
       "19714  2016-05-27 14:40:00          60       0  25.500000  46.360000   \n",
       "19715  2016-05-27 14:50:00          60       0  25.500000  46.060000   \n",
       "19716  2016-05-27 15:00:00          60       0  25.500000  45.933333   \n",
       "19717  2016-05-27 15:10:00          70       0  25.500000  45.760000   \n",
       "19718  2016-05-27 15:20:00          80       0  25.500000  45.626667   \n",
       "19719  2016-05-27 15:30:00          80       0  25.500000  45.590000   \n",
       "19720  2016-05-27 15:40:00          70       0  25.500000  45.522500   \n",
       "19721  2016-05-27 15:50:00         100       0  25.500000  45.633333   \n",
       "19722  2016-05-27 16:00:00         100       0  25.500000  45.730000   \n",
       "19723  2016-05-27 16:10:00          90       0  25.500000  45.790000   \n",
       "19724  2016-05-27 16:20:00         100       0  25.500000  45.933333   \n",
       "19725  2016-05-27 16:30:00         220       0  25.426667  46.060000   \n",
       "19726  2016-05-27 16:40:00         180       0  25.500000  46.530000   \n",
       "19727  2016-05-27 16:50:00         120       0  25.500000  47.456667   \n",
       "19728  2016-05-27 17:00:00         110       0  25.600000  47.193333   \n",
       "19729  2016-05-27 17:10:00          90       0  25.533333  46.860000   \n",
       "19730  2016-05-27 17:20:00         100       0  25.566667  46.560000   \n",
       "19731  2016-05-27 17:30:00          90       0  25.500000  46.500000   \n",
       "19732  2016-05-27 17:40:00         270      10  25.500000  46.596667   \n",
       "19733  2016-05-27 17:50:00         420      10  25.500000  46.990000   \n",
       "19734  2016-05-27 18:00:00         430      10  25.500000  46.600000   \n",
       "\n",
       "              T2       RH_2         T3       RH_3         T4    ...      \\\n",
       "0      19.200000  44.790000  19.790000  44.730000  19.000000    ...       \n",
       "1      19.200000  44.722500  19.790000  44.790000  19.000000    ...       \n",
       "2      19.200000  44.626667  19.790000  44.933333  18.926667    ...       \n",
       "3      19.200000  44.590000  19.790000  45.000000  18.890000    ...       \n",
       "4      19.200000  44.530000  19.790000  45.000000  18.890000    ...       \n",
       "5      19.200000  44.500000  19.790000  44.933333  18.890000    ...       \n",
       "6      19.200000  44.500000  19.790000  44.900000  18.890000    ...       \n",
       "7      19.200000  44.500000  19.730000  44.900000  18.890000    ...       \n",
       "8      19.200000  44.433333  19.730000  44.790000  18.890000    ...       \n",
       "9      19.230000  44.400000  19.790000  44.863333  18.890000    ...       \n",
       "10     19.356667  44.400000  19.790000  44.900000  18.890000    ...       \n",
       "11     19.426667  44.400000  19.790000  44.826667  19.000000    ...       \n",
       "12     19.566667  44.400000  19.890000  44.900000  19.000000    ...       \n",
       "13     19.730000  45.100000  19.890000  45.493333  19.000000    ...       \n",
       "14     19.856667  45.833333  20.033333  47.526667  19.000000    ...       \n",
       "15     20.033333  46.756667  20.100000  48.466667  19.000000    ...       \n",
       "16     20.166667  47.223333  20.200000  48.530000  18.926667    ...       \n",
       "17     20.200000  47.056667  20.200000  48.447500  18.890000    ...       \n",
       "18     20.200000  46.330000  20.200000  48.193333  18.963333    ...       \n",
       "19     20.200000  46.026667  20.166667  47.633333  19.033333    ...       \n",
       "20     20.200000  45.722500  20.166667  47.300000  19.175000    ...       \n",
       "21     20.260000  45.530000  20.200000  47.026667  19.260000    ...       \n",
       "22     20.290000  45.223333  20.260000  46.826667  19.323333    ...       \n",
       "23     20.356667  44.963333  20.290000  46.633333  19.390000    ...       \n",
       "24     20.426667  44.760000  20.290000  46.433333  19.390000    ...       \n",
       "25     20.500000  44.760000  20.390000  46.223333  19.390000    ...       \n",
       "26     20.533333  45.090000  20.390000  46.090000  19.390000    ...       \n",
       "27     20.666667  45.163333  20.390000  46.090000  19.390000    ...       \n",
       "28     20.700000  45.060000  20.390000  46.090000  19.426667    ...       \n",
       "29     20.700000  44.933333  20.390000  46.060000  19.566667    ...       \n",
       "...          ...        ...        ...        ...        ...    ...       \n",
       "19705  26.528571  40.595714  28.496667  41.900000  24.500000    ...       \n",
       "19706  26.600000  40.940000  28.290000  41.966667  24.500000    ...       \n",
       "19707  26.600000  41.012857  28.200000  42.090000  24.533333    ...       \n",
       "19708  26.600000  41.036000  28.200000  42.030000  24.600000    ...       \n",
       "19709  26.600000  41.000000  28.200000  41.796667  24.600000    ...       \n",
       "19710  26.540000  41.000000  28.200000  41.530000  24.600000    ...       \n",
       "19711  26.512500  41.203750  28.200000  41.590000  24.633333    ...       \n",
       "19712  26.437143  41.384286  28.426667  41.430000  24.700000    ...       \n",
       "19713  26.370000  41.378000  28.566667  41.156667  24.700000    ...       \n",
       "19714  26.318571  41.264286  28.566667  40.663333  24.700000    ...       \n",
       "19715  26.350000  41.000000  28.426667  40.590000  24.666667    ...       \n",
       "19716  26.277143  41.000000  28.356667  40.560000  24.666667    ...       \n",
       "19717  26.200000  41.000000  28.290000  40.433333  24.700000    ...       \n",
       "19718  26.171429  41.000000  28.260000  40.260000  24.700000    ...       \n",
       "19719  26.100000  41.000000  28.200000  40.126667  24.700000    ...       \n",
       "19720  26.100000  41.051429  28.200000  40.200000  24.700000    ...       \n",
       "19721  26.080000  41.196000  28.133333  40.260000  24.700000    ...       \n",
       "19722  26.000000  41.428571  28.100000  40.433333  24.700000    ...       \n",
       "19723  26.000000  41.590000  28.100000  40.560000  24.700000    ...       \n",
       "19724  26.000000  41.652857  28.000000  40.700000  24.700000    ...       \n",
       "19725  26.000000  41.700000  28.000000  40.760000  24.700000    ...       \n",
       "19726  26.000000  41.725714  27.856667  40.500000  24.700000    ...       \n",
       "19727  26.000000  42.320000  27.663333  40.693333  24.700000    ...       \n",
       "19728  25.968571  42.528571  27.390000  41.030000  24.700000    ...       \n",
       "19729  25.978000  42.534000  27.323333  41.090000  24.700000    ...       \n",
       "19730  25.890000  42.025714  27.200000  41.163333  24.700000    ...       \n",
       "19731  25.754000  42.080000  27.133333  41.223333  24.700000    ...       \n",
       "19732  25.628571  42.768571  27.050000  41.690000  24.700000    ...       \n",
       "19733  25.414000  43.036000  26.890000  41.290000  24.700000    ...       \n",
       "19734  25.264286  42.971429  26.823333  41.156667  24.700000    ...       \n",
       "\n",
       "              T9       RH_9      T_out  Press_mm_hg     RH_out  Windspeed  \\\n",
       "0      17.033333  45.530000   6.600000   733.500000  92.000000   7.000000   \n",
       "1      17.066667  45.560000   6.483333   733.600000  92.000000   6.666667   \n",
       "2      17.000000  45.500000   6.366667   733.700000  92.000000   6.333333   \n",
       "3      17.000000  45.400000   6.250000   733.800000  92.000000   6.000000   \n",
       "4      17.000000  45.400000   6.133333   733.900000  92.000000   5.666667   \n",
       "5      17.000000  45.290000   6.016667   734.000000  92.000000   5.333333   \n",
       "6      17.000000  45.290000   5.900000   734.100000  92.000000   5.000000   \n",
       "7      17.000000  45.290000   5.916667   734.166667  91.833333   5.166667   \n",
       "8      17.000000  45.290000   5.933333   734.233333  91.666667   5.333333   \n",
       "9      17.000000  45.290000   5.950000   734.300000  91.500000   5.500000   \n",
       "10     17.000000  45.290000   5.966667   734.366667  91.333333   5.666667   \n",
       "11     16.890000  45.290000   5.983333   734.433333  91.166667   5.833333   \n",
       "12     16.963333  45.290000   6.000000   734.500000  91.000000   6.000000   \n",
       "13     16.890000  45.326667   6.000000   734.616667  90.500000   6.000000   \n",
       "14     16.890000  45.345000   6.000000   734.733333  90.000000   6.000000   \n",
       "15     16.890000  45.326667   6.000000   734.850000  89.500000   6.000000   \n",
       "16     16.890000  45.290000   6.000000   734.966667  89.000000   6.000000   \n",
       "17     16.890000  45.290000   6.000000   735.083333  88.500000   6.000000   \n",
       "18     16.890000  45.200000   6.000000   735.200000  88.000000   6.000000   \n",
       "19     16.890000  45.200000   6.000000   735.233333  87.833333   6.000000   \n",
       "20     16.890000  45.126667   6.000000   735.266667  87.666667   6.000000   \n",
       "21     16.890000  45.126667   6.000000   735.300000  87.500000   6.000000   \n",
       "22     16.890000  45.060000   6.000000   735.333333  87.333333   6.000000   \n",
       "23     16.890000  45.000000   6.000000   735.366667  87.166667   6.000000   \n",
       "24     16.890000  44.966667   6.000000   735.400000  87.000000   6.000000   \n",
       "25     16.890000  44.900000   5.933333   735.466667  87.166667   6.000000   \n",
       "26     16.890000  44.790000   5.866667   735.533333  87.333333   6.000000   \n",
       "27     16.890000  44.790000   5.800000   735.600000  87.500000   6.000000   \n",
       "28     16.890000  44.700000   5.733333   735.666667  87.666667   6.000000   \n",
       "29     16.890000  44.700000   5.666667   735.733333  87.833333   6.000000   \n",
       "...          ...        ...        ...          ...        ...        ...   \n",
       "19705  23.100000  46.500000  21.250000   756.050000  59.833333   1.166667   \n",
       "19706  23.100000  46.500000  21.400000   756.000000  59.666667   1.333333   \n",
       "19707  23.100000  46.522500  21.550000   755.950000  59.500000   1.500000   \n",
       "19708  23.100000  46.530000  21.700000   755.900000  59.333333   1.666667   \n",
       "19709  23.100000  46.530000  21.850000   755.850000  59.166667   1.833333   \n",
       "19710  23.100000  46.530000  22.000000   755.800000  59.000000   2.000000   \n",
       "19711  23.100000  46.530000  21.966667   755.800000  59.000000   2.000000   \n",
       "19712  23.100000  46.590000  21.933333   755.800000  59.000000   2.000000   \n",
       "19713  23.100000  46.626667  21.900000   755.800000  59.000000   2.000000   \n",
       "19714  23.100000  46.700000  21.866667   755.800000  59.000000   2.000000   \n",
       "19715  23.100000  46.590000  21.833333   755.800000  59.000000   2.000000   \n",
       "19716  23.100000  46.590000  21.800000   755.800000  59.000000   2.000000   \n",
       "19717  23.133333  46.590000  21.966667   755.750000  58.333333   2.000000   \n",
       "19718  23.133333  46.590000  22.133333   755.700000  57.666667   2.000000   \n",
       "19719  23.166667  46.590000  22.300000   755.650000  57.000000   2.000000   \n",
       "19720  23.100000  46.590000  22.466667   755.600000  56.333333   2.000000   \n",
       "19721  23.200000  46.590000  22.633333   755.550000  55.666667   2.000000   \n",
       "19722  23.200000  46.590000  22.800000   755.500000  55.000000   2.000000   \n",
       "19723  23.160000  46.590000  22.833333   755.450000  55.000000   2.166667   \n",
       "19724  23.200000  46.621429  22.866667   755.400000  55.000000   2.333333   \n",
       "19725  23.200000  46.700000  22.900000   755.350000  55.000000   2.500000   \n",
       "19726  23.200000  46.652857  22.933333   755.300000  55.000000   2.666667   \n",
       "19727  23.200000  46.718000  22.966667   755.250000  55.000000   2.833333   \n",
       "19728  23.200000  46.751429  23.000000   755.200000  55.000000   3.000000   \n",
       "19729  23.200000  46.745000  22.866667   755.200000  55.333333   3.166667   \n",
       "19730  23.200000  46.790000  22.733333   755.200000  55.666667   3.333333   \n",
       "19731  23.200000  46.790000  22.600000   755.200000  56.000000   3.500000   \n",
       "19732  23.200000  46.790000  22.466667   755.200000  56.333333   3.666667   \n",
       "19733  23.200000  46.817500  22.333333   755.200000  56.666667   3.833333   \n",
       "19734  23.200000  46.845000  22.200000   755.200000  57.000000   4.000000   \n",
       "\n",
       "       Visibility  Tdewpoint        rv1        rv2  \n",
       "0       63.000000   5.300000  13.275433  13.275433  \n",
       "1       59.166667   5.200000  18.606195  18.606195  \n",
       "2       55.333333   5.100000  28.642668  28.642668  \n",
       "3       51.500000   5.000000  45.410389  45.410389  \n",
       "4       47.666667   4.900000  10.084097  10.084097  \n",
       "5       43.833333   4.800000  44.919484  44.919484  \n",
       "6       40.000000   4.700000  47.233763  47.233763  \n",
       "7       40.000000   4.683333  33.039890  33.039890  \n",
       "8       40.000000   4.666667  31.455702  31.455702  \n",
       "9       40.000000   4.650000   3.089314   3.089314  \n",
       "10      40.000000   4.633333  10.298729  10.298729  \n",
       "11      40.000000   4.616667   8.827838   8.827838  \n",
       "12      40.000000   4.600000  34.351142  34.351142  \n",
       "13      40.000000   4.516667  19.205186  19.205186  \n",
       "14      40.000000   4.433333  38.492071  38.492071  \n",
       "15      40.000000   4.350000  24.884962  24.884962  \n",
       "16      40.000000   4.266667  35.880925  35.880925  \n",
       "17      40.000000   4.183333  49.595305  49.595305  \n",
       "18      40.000000   4.100000  19.001759  19.001759  \n",
       "19      40.000000   4.066667  38.872261  38.872261  \n",
       "20      40.000000   4.033333  46.735262  46.735262  \n",
       "21      40.000000   4.000000  10.607126  10.607126  \n",
       "22      40.000000   3.966667  32.583688  32.583688  \n",
       "23      40.000000   3.933333   6.277755   6.277755  \n",
       "24      40.000000   3.900000  13.361033  13.361033  \n",
       "25      40.000000   3.866667  19.305705  19.305705  \n",
       "26      40.000000   3.833333   0.669517   0.669517  \n",
       "27      40.000000   3.800000  19.119398  19.119398  \n",
       "28      40.000000   3.766667  43.484542  43.484542  \n",
       "29      40.000000   3.733333  17.017450  17.017450  \n",
       "...           ...        ...        ...        ...  \n",
       "19705   23.666667  13.100000  32.420348  32.420348  \n",
       "19706   23.333333  13.200000  49.189027  49.189027  \n",
       "19707   23.000000  13.300000  15.081162  15.081162  \n",
       "19708   22.666667  13.400000  45.226866  45.226866  \n",
       "19709   22.333333  13.500000   5.773431   5.773431  \n",
       "19710   22.000000  13.600000  41.515044  41.515044  \n",
       "19711   21.833333  13.550000  19.540642  19.540642  \n",
       "19712   21.666667  13.500000  16.977597  16.977597  \n",
       "19713   21.500000  13.450000   8.991420   8.991420  \n",
       "19714   21.333333  13.400000  40.409885  40.409885  \n",
       "19715   21.166667  13.350000  37.889086  37.889086  \n",
       "19716   21.000000  13.300000  17.123315  17.123315  \n",
       "19717   21.333333  13.283333  24.058432  24.058432  \n",
       "19718   21.666667  13.266667   9.538671   9.538671  \n",
       "19719   22.000000  13.250000  30.020685  30.020685  \n",
       "19720   22.333333  13.233333  23.851737  23.851737  \n",
       "19721   22.666667  13.216667  47.981309  47.981309  \n",
       "19722   23.000000  13.200000  18.215602  18.215602  \n",
       "19723   22.833333  13.233333  38.751594  38.751594  \n",
       "19724   22.666667  13.266667  32.306224  32.306224  \n",
       "19725   22.500000  13.300000  23.009520  23.009520  \n",
       "19726   22.333333  13.333333  25.296732  25.296732  \n",
       "19727   22.166667  13.366667   1.796395   1.796395  \n",
       "19728   22.000000  13.400000  18.248201  18.248201  \n",
       "19729   22.833333  13.366667  16.966162  16.966162  \n",
       "19730   23.666667  13.333333  43.096812  43.096812  \n",
       "19731   24.500000  13.300000  49.282940  49.282940  \n",
       "19732   25.333333  13.266667  29.199117  29.199117  \n",
       "19733   26.166667  13.233333   6.322784   6.322784  \n",
       "19734   27.000000  13.200000  34.118851  34.118851  \n",
       "\n",
       "[19735 rows x 29 columns]"
      ]
     },
     "execution_count": 170,
     "metadata": {},
     "output_type": "execute_result"
    }
   ],
   "source": [
    "data"
   ]
  },
  {
   "cell_type": "markdown",
   "metadata": {},
   "source": [
    "Here we delete the columns mentioned above, as they are not pertinent to our data."
   ]
  },
  {
   "cell_type": "code",
   "execution_count": 172,
   "metadata": {
    "collapsed": true
   },
   "outputs": [],
   "source": [
    "del data['date']\n",
    "del data['rv1']\n",
    "del data['rv2']"
   ]
  },
  {
   "cell_type": "code",
   "execution_count": 173,
   "metadata": {},
   "outputs": [
    {
     "data": {
      "text/plain": [
       "(19735, 26)"
      ]
     },
     "execution_count": 173,
     "metadata": {},
     "output_type": "execute_result"
    }
   ],
   "source": [
    "data.shape"
   ]
  },
  {
   "cell_type": "code",
   "execution_count": 191,
   "metadata": {
    "scrolled": true
   },
   "outputs": [
    {
     "data": {
      "text/html": [
       "<div>\n",
       "<style scoped>\n",
       "    .dataframe tbody tr th:only-of-type {\n",
       "        vertical-align: middle;\n",
       "    }\n",
       "\n",
       "    .dataframe tbody tr th {\n",
       "        vertical-align: top;\n",
       "    }\n",
       "\n",
       "    .dataframe thead th {\n",
       "        text-align: right;\n",
       "    }\n",
       "</style>\n",
       "<table border=\"1\" class=\"dataframe\">\n",
       "  <thead>\n",
       "    <tr style=\"text-align: right;\">\n",
       "      <th></th>\n",
       "      <th>Appliances</th>\n",
       "      <th>lights</th>\n",
       "      <th>T1</th>\n",
       "      <th>RH_1</th>\n",
       "      <th>T2</th>\n",
       "      <th>RH_2</th>\n",
       "      <th>T3</th>\n",
       "      <th>RH_3</th>\n",
       "      <th>T4</th>\n",
       "      <th>RH_4</th>\n",
       "      <th>...</th>\n",
       "      <th>T8</th>\n",
       "      <th>RH_8</th>\n",
       "      <th>T9</th>\n",
       "      <th>RH_9</th>\n",
       "      <th>T_out</th>\n",
       "      <th>Press_mm_hg</th>\n",
       "      <th>RH_out</th>\n",
       "      <th>Windspeed</th>\n",
       "      <th>Visibility</th>\n",
       "      <th>Tdewpoint</th>\n",
       "    </tr>\n",
       "  </thead>\n",
       "  <tbody>\n",
       "    <tr>\n",
       "      <th>0</th>\n",
       "      <td>60</td>\n",
       "      <td>30</td>\n",
       "      <td>19.89</td>\n",
       "      <td>47.596667</td>\n",
       "      <td>19.2</td>\n",
       "      <td>44.7900</td>\n",
       "      <td>19.79</td>\n",
       "      <td>44.73</td>\n",
       "      <td>19.0</td>\n",
       "      <td>45.566667</td>\n",
       "      <td>...</td>\n",
       "      <td>18.2</td>\n",
       "      <td>48.900000</td>\n",
       "      <td>17.033333</td>\n",
       "      <td>45.53</td>\n",
       "      <td>6.600000</td>\n",
       "      <td>733.5</td>\n",
       "      <td>92.0</td>\n",
       "      <td>7.000000</td>\n",
       "      <td>63.000000</td>\n",
       "      <td>5.3</td>\n",
       "    </tr>\n",
       "    <tr>\n",
       "      <th>1</th>\n",
       "      <td>60</td>\n",
       "      <td>30</td>\n",
       "      <td>19.89</td>\n",
       "      <td>46.693333</td>\n",
       "      <td>19.2</td>\n",
       "      <td>44.7225</td>\n",
       "      <td>19.79</td>\n",
       "      <td>44.79</td>\n",
       "      <td>19.0</td>\n",
       "      <td>45.992500</td>\n",
       "      <td>...</td>\n",
       "      <td>18.2</td>\n",
       "      <td>48.863333</td>\n",
       "      <td>17.066667</td>\n",
       "      <td>45.56</td>\n",
       "      <td>6.483333</td>\n",
       "      <td>733.6</td>\n",
       "      <td>92.0</td>\n",
       "      <td>6.666667</td>\n",
       "      <td>59.166667</td>\n",
       "      <td>5.2</td>\n",
       "    </tr>\n",
       "  </tbody>\n",
       "</table>\n",
       "<p>2 rows × 26 columns</p>\n",
       "</div>"
      ],
      "text/plain": [
       "   Appliances  lights     T1       RH_1    T2     RH_2     T3   RH_3    T4  \\\n",
       "0          60      30  19.89  47.596667  19.2  44.7900  19.79  44.73  19.0   \n",
       "1          60      30  19.89  46.693333  19.2  44.7225  19.79  44.79  19.0   \n",
       "\n",
       "        RH_4    ...        T8       RH_8         T9   RH_9     T_out  \\\n",
       "0  45.566667    ...      18.2  48.900000  17.033333  45.53  6.600000   \n",
       "1  45.992500    ...      18.2  48.863333  17.066667  45.56  6.483333   \n",
       "\n",
       "   Press_mm_hg  RH_out  Windspeed  Visibility  Tdewpoint  \n",
       "0        733.5    92.0   7.000000   63.000000        5.3  \n",
       "1        733.6    92.0   6.666667   59.166667        5.2  \n",
       "\n",
       "[2 rows x 26 columns]"
      ]
     },
     "execution_count": 191,
     "metadata": {},
     "output_type": "execute_result"
    }
   ],
   "source": [
    "data.iloc[:2,:]"
   ]
  },
  {
   "cell_type": "markdown",
   "metadata": {},
   "source": [
    "Use the first two columns, labelled `Appliances` and `lights` as the target variables, and the remaining 24 columns as the input features.  So"
   ]
  },
  {
   "cell_type": "code",
   "execution_count": 192,
   "metadata": {
    "collapsed": true
   },
   "outputs": [],
   "source": [
    "XenergyDF = data.iloc[:,2:]\n",
    "TenergyDF = data.iloc[:,:2]"
   ]
  },
  {
   "cell_type": "code",
   "execution_count": 193,
   "metadata": {},
   "outputs": [
    {
     "data": {
      "text/plain": [
       "((19735, 24), (19735, 2))"
      ]
     },
     "execution_count": 193,
     "metadata": {},
     "output_type": "execute_result"
    }
   ],
   "source": [
    "XenergyDF.shape, TenergyDF.shape"
   ]
  },
  {
   "cell_type": "markdown",
   "metadata": {},
   "source": [
    "Xnames and Tnames are not used in the network training process, but I created them anyway to verify I had the correct dataframe as opposed to the examples provided in the assignment page."
   ]
  },
  {
   "cell_type": "code",
   "execution_count": 194,
   "metadata": {},
   "outputs": [
    {
     "data": {
      "text/plain": [
       "['T1',\n",
       " 'RH_1',\n",
       " 'T2',\n",
       " 'RH_2',\n",
       " 'T3',\n",
       " 'RH_3',\n",
       " 'T4',\n",
       " 'RH_4',\n",
       " 'T5',\n",
       " 'RH_5',\n",
       " 'T6',\n",
       " 'RH_6',\n",
       " 'T7',\n",
       " 'RH_7',\n",
       " 'T8',\n",
       " 'RH_8',\n",
       " 'T9',\n",
       " 'RH_9',\n",
       " 'T_out',\n",
       " 'Press_mm_hg',\n",
       " 'RH_out',\n",
       " 'Windspeed',\n",
       " 'Visibility',\n",
       " 'Tdewpoint']"
      ]
     },
     "execution_count": 194,
     "metadata": {},
     "output_type": "execute_result"
    }
   ],
   "source": [
    "Xnames = list(XenergyDF)\n",
    "Xnames"
   ]
  },
  {
   "cell_type": "code",
   "execution_count": 195,
   "metadata": {},
   "outputs": [
    {
     "data": {
      "text/plain": [
       "['Appliances', 'lights']"
      ]
     },
     "execution_count": 195,
     "metadata": {},
     "output_type": "execute_result"
    }
   ],
   "source": [
    "Tnames = list(TenergyDF)\n",
    "Tnames"
   ]
  },
  {
   "cell_type": "markdown",
   "metadata": {},
   "source": [
    "Obviously, I need to convert from a dataframe to an np array before I can train on the data, as my trainNNs function was not set up to allow dataframes."
   ]
  },
  {
   "cell_type": "code",
   "execution_count": 198,
   "metadata": {
    "collapsed": true
   },
   "outputs": [],
   "source": [
    "Xenergy = XenergyDF.values\n",
    "Tenergy = TenergyDF.values"
   ]
  },
  {
   "cell_type": "code",
   "execution_count": 202,
   "metadata": {},
   "outputs": [
    {
     "data": {
      "text/plain": [
       "((19735, 24), (19735, 2))"
      ]
     },
     "execution_count": 202,
     "metadata": {},
     "output_type": "execute_result"
    }
   ],
   "source": [
    "Xenergy.shape, Tenergy.shape"
   ]
  },
  {
   "cell_type": "markdown",
   "metadata": {},
   "source": [
    "Train several neural networks on all of this data for 100 iterations.  Plot the error trace (nnet.getErrorTrace()) to help you decide now many iterations might be needed.  100 may not be enough.  If for your larger networks the error is still decreasing after 100 iterations you should train all nets for more than 100 iterations.\n",
    "\n",
    "Now use your `trainNNs`, `summarize`, and `bestNetwork` functions on this data to investigate various network sizes."
   ]
  },
  {
   "cell_type": "code",
   "execution_count": 203,
   "metadata": {
    "collapsed": true
   },
   "outputs": [],
   "source": [
    "results = trainNNs(Xenergy, Tenergy, 0.8, [0, 5, [5, 5], [10, 10]], 10, 100)"
   ]
  },
  {
   "cell_type": "code",
   "execution_count": 204,
   "metadata": {},
   "outputs": [
    {
     "data": {
      "text/plain": [
       "[[0, 67.31728265768666, 66.55628176339283, 2.478935718536377],\n",
       " [5, 65.16452768754593, 67.25218560774262, 18.975735902786255],\n",
       " [[5, 5], 64.88541083880764, 65.53609762149055, 27.974726915359497],\n",
       " [[10, 10], 62.84204920607955, 63.894966915599056, 51.639703035354614]]"
      ]
     },
     "execution_count": 204,
     "metadata": {},
     "output_type": "execute_result"
    }
   ],
   "source": [
    "summarize(results)"
   ]
  },
  {
   "cell_type": "code",
   "execution_count": 206,
   "metadata": {},
   "outputs": [
    {
     "data": {
      "text/plain": [
       "[[10, 10], 62.84204920607955, 63.894966915599056, 51.639703035354614]"
      ]
     },
     "execution_count": 206,
     "metadata": {},
     "output_type": "execute_result"
    }
   ],
   "source": [
    "bestNetwork(summarize(results))"
   ]
  },
  {
   "cell_type": "markdown",
   "metadata": {},
   "source": [
    "Here you can see the error trace drops significantly in the first 30-40 repetitions; I believe 100 will work fine here (but I'll know for sure after the next test with 10 different hidden layers)."
   ]
  },
  {
   "cell_type": "code",
   "execution_count": 213,
   "metadata": {},
   "outputs": [
    {
     "data": {
      "image/png": "[encoded data removed]",
      "text/plain": [
       "<Figure size 432x288 with 1 Axes>"
      ]
     },
     "metadata": {
      "needs_background": "light"
     },
     "output_type": "display_data"
    }
   ],
   "source": [
    "plotErrorTrace(nnet)"
   ]
  },
  {
   "cell_type": "markdown",
   "metadata": {},
   "source": [
    "Test at least 10 different hidden layer structures.  Larger numbers of layers and units may do the best on training data, but not on testing data. Why?\n",
    "\n",
    "Now train another network with your best hidden layer structure on 0.8 of the data and use the trained network on the testing data (the remaining 0.2 of the date).  As before use `ml.partition` to produce the training and testing sets.\n",
    "\n",
    "For the testing data, plot the predicted and actual `Appliances` energy use, and the predicted and actual `lights` energy use, in two separate plots.  Discuss what you see."
   ]
  },
  {
   "cell_type": "markdown",
   "metadata": {},
   "source": [
    "Here is my test with 10 different hidden layer structures. I tried to very the dimensions to get a better idea of an ideal structure."
   ]
  },
  {
   "cell_type": "code",
   "execution_count": 219,
   "metadata": {
    "collapsed": true
   },
   "outputs": [],
   "source": [
    "hiddenLayersList = []\n",
    "\n",
    "hiddenLayersList.append(4)\n",
    "hiddenLayersList.append([3,3])\n",
    "hiddenLayersList.append([5,5])\n",
    "hiddenLayersList.append([7,5])\n",
    "hiddenLayersList.append([7,7])\n",
    "hiddenLayersList.append([7,10])\n",
    "hiddenLayersList.append([10,7])\n",
    "hiddenLayersList.append([10,10])\n",
    "hiddenLayersList.append([14,14])\n",
    "hiddenLayersList.append([18,18])\n"
   ]
  },
  {
   "cell_type": "code",
   "execution_count": 220,
   "metadata": {
    "collapsed": true
   },
   "outputs": [],
   "source": [
    "results = trainNNs(Xenergy, Tenergy, 0.8, hiddenLayersList, 10, 100)"
   ]
  },
  {
   "cell_type": "markdown",
   "metadata": {},
   "source": [
    "Here are the results of the different hidden layer structures:"
   ]
  },
  {
   "cell_type": "code",
   "execution_count": 221,
   "metadata": {},
   "outputs": [
    {
     "data": {
      "text/plain": [
       "[[4, 65.94387479387736, 65.33546570766856, 15.4427011013031],\n",
       " [[3, 3], 65.7486262003402, 66.81561593882279, 17.945740222930908],\n",
       " [[5, 5], 64.90852108945657, 64.94733515122786, 22.429237127304077],\n",
       " [[7, 5], 63.9747208232709, 65.63484470731993, 28.739317893981934],\n",
       " [[7, 7], 64.0413284413933, 65.77268681435909, 34.088948011398315],\n",
       " [[7, 10], 63.84957658162034, 65.42961262153516, 36.629801988601685],\n",
       " [[10, 7], 62.93216079330009, 64.95501982333943, 38.7481689453125],\n",
       " [[10, 10], 62.977552849455286, 64.85440299156232, 47.7386531829834],\n",
       " [[14, 14], 62.643767227980064, 63.76037467979889, 61.21007299423218],\n",
       " [[18, 18], 61.862113397082304, 62.44509378975321, 72.16344404220581]]"
      ]
     },
     "execution_count": 221,
     "metadata": {},
     "output_type": "execute_result"
    }
   ],
   "source": [
    "summarize(results)"
   ]
  },
  {
   "cell_type": "code",
   "execution_count": 222,
   "metadata": {},
   "outputs": [
    {
     "data": {
      "text/plain": [
       "[[18, 18], 61.862113397082304, 62.44509378975321, 72.16344404220581]"
      ]
     },
     "execution_count": 222,
     "metadata": {},
     "output_type": "execute_result"
    }
   ],
   "source": [
    "bestNetwork(summarize(results))"
   ]
  },
  {
   "cell_type": "markdown",
   "metadata": {},
   "source": [
    "Because my largest hidden layer experiment did best, I'm going to repeat it with several more different hidden layers more closely centered around [18,18] to ensure I have the best possible hidden layer structure."
   ]
  },
  {
   "cell_type": "code",
   "execution_count": 223,
   "metadata": {
    "collapsed": true
   },
   "outputs": [],
   "source": [
    "hiddenLayersList = []\n",
    "\n",
    "hiddenLayersList.append([18,18])\n",
    "hiddenLayersList.append([20,20])\n",
    "hiddenLayersList.append([25,25])\n",
    "hiddenLayersList.append([30,30])\n",
    "hiddenLayersList.append([35,35])\n"
   ]
  },
  {
   "cell_type": "code",
   "execution_count": 224,
   "metadata": {
    "collapsed": true
   },
   "outputs": [],
   "source": [
    "results = trainNNs(Xenergy, Tenergy, 0.8, hiddenLayersList, 10, 100)"
   ]
  },
  {
   "cell_type": "code",
   "execution_count": 225,
   "metadata": {},
   "outputs": [
    {
     "data": {
      "text/plain": [
       "[[[18, 18], 61.796239842201786, 63.68354428315471, 74.18484568595886],\n",
       " [[20, 20], 61.768084886778695, 63.41557407910348, 85.74410605430603],\n",
       " [[25, 25], 60.87528921525721, 63.79268277907737, 100.93373227119446],\n",
       " [[30, 30], 61.48438701636886, 63.025152445212676, 113.90248584747314],\n",
       " [[35, 35], 61.57210097923813, 62.60669095059052, 130.78503918647766]]"
      ]
     },
     "execution_count": 225,
     "metadata": {},
     "output_type": "execute_result"
    }
   ],
   "source": [
    "summarize(results)"
   ]
  },
  {
   "cell_type": "code",
   "execution_count": 226,
   "metadata": {},
   "outputs": [
    {
     "data": {
      "text/plain": [
       "[[35, 35], 61.57210097923813, 62.60669095059052, 130.78503918647766]"
      ]
     },
     "execution_count": 226,
     "metadata": {},
     "output_type": "execute_result"
    }
   ],
   "source": [
    "bestNetwork(summarize(results))"
   ]
  },
  {
   "cell_type": "markdown",
   "metadata": {},
   "source": [
    "First, checking to make sure the error trace for the last hiddenLayer trained [35,35] is still going towards 0 quickly enough (within 100 repetitions):"
   ]
  },
  {
   "cell_type": "code",
   "execution_count": 227,
   "metadata": {},
   "outputs": [
    {
     "data": {
      "image/png": "[encoded data removed]",
      "text/plain": [
       "<Figure size 432x288 with 1 Axes>"
      ]
     },
     "metadata": {
      "needs_background": "light"
     },
     "output_type": "display_data"
    }
   ],
   "source": [
    "plotErrorTrace(nnet)"
   ]
  },
  {
   "cell_type": "markdown",
   "metadata": {},
   "source": [
    "Looks good! Also, from above, we can see that the ideal network is again at the end of the range I provided it (although it is higher than the [18,18] hidden layer net from the first round of tests - not this time, however).\n",
    "So, I'll ramp up the testing one more time:"
   ]
  },
  {
   "cell_type": "code",
   "execution_count": 228,
   "metadata": {
    "collapsed": true
   },
   "outputs": [],
   "source": [
    "hiddenLayersList = []\n",
    "hiddenLayersList.append([18,18])\n",
    "hiddenLayersList.append([35,35])\n",
    "hiddenLayersList.append([50,50])\n",
    "hiddenLayersList.append([75,75])"
   ]
  },
  {
   "cell_type": "code",
   "execution_count": 229,
   "metadata": {
    "collapsed": true
   },
   "outputs": [],
   "source": [
    "results = trainNNs(Xenergy, Tenergy, 0.8, hiddenLayersList, 10, 100)"
   ]
  },
  {
   "cell_type": "code",
   "execution_count": 230,
   "metadata": {},
   "outputs": [
    {
     "data": {
      "text/plain": [
       "[[[18, 18], 61.92366566769414, 63.66745650271913, 72.37197995185852],\n",
       " [[35, 35], 61.28307097000811, 63.15102860400416, 135.7214720249176],\n",
       " [[50, 50], 62.00144268221696, 62.87340836606546, 185.77634191513062],\n",
       " [[75, 75], 61.7882858285005, 63.73807957982952, 277.2194240093231]]"
      ]
     },
     "execution_count": 230,
     "metadata": {},
     "output_type": "execute_result"
    }
   ],
   "source": [
    "summarize(results)"
   ]
  },
  {
   "cell_type": "code",
   "execution_count": 231,
   "metadata": {},
   "outputs": [
    {
     "data": {
      "text/plain": [
       "[[50, 50], 62.00144268221696, 62.87340836606546, 185.77634191513062]"
      ]
     },
     "execution_count": 231,
     "metadata": {},
     "output_type": "execute_result"
    }
   ],
   "source": [
    "bestNetwork(summarize(results))"
   ]
  },
  {
   "cell_type": "markdown",
   "metadata": {},
   "source": [
    "Checking the error trace is still ok with 100 iterations for the last net trained (with hidden layer = [75,75]):"
   ]
  },
  {
   "cell_type": "code",
   "execution_count": 232,
   "metadata": {},
   "outputs": [
    {
     "data": {
      "image/png": "[encoded data removed]",
      "text/plain": [
       "<Figure size 432x288 with 1 Axes>"
      ]
     },
     "metadata": {
      "needs_background": "light"
     },
     "output_type": "display_data"
    }
   ],
   "source": [
    "plotErrorTrace(nnet)"
   ]
  },
  {
   "cell_type": "markdown",
   "metadata": {},
   "source": [
    "Yepp! Still good, so we can assume it is fine for the smaller hidden layer nets as well. So, now we just need to plot the accuracy of the best net's predictions for appliances and lights."
   ]
  },
  {
   "cell_type": "markdown",
   "metadata": {},
   "source": [
    "So, we have had three best hidden layer structures throughout our testing, all with testing errors relatively close to one another:\n",
    "\n",
    "* `[18, 18], 61.862113397082304, 62.44509378975321, 72.16344404220581]`\n",
    "* `[35, 35], 61.57210097923813, 62.60669095059052, 130.78503918647766]`\n",
    "* `[50, 50], 62.00144268221696, 62.87340836606546, 185.77634191513062]`\n",
    "\n",
    "However, we had the overall minimum error using hidden layer structure [35,35], so that is what I will use going on to the next part."
   ]
  },
  {
   "cell_type": "code",
   "execution_count": 261,
   "metadata": {
    "collapsed": true
   },
   "outputs": [],
   "source": [
    "startTime = time.time()\n",
    "Xtrain, Ttrain, Xtest, Ttest = ml.partition(Xenergy, Tenergy, (0.8, 0.2), classification=False)\n",
    "nnet = nn.NeuralNetwork(Xenergy.shape[1], [35,35], Tenergy.shape[1])\n",
    "nnet.train(Xtrain, Ttrain, 100)\n",
    "Ctrain = nnet.use(Xtrain)\n",
    "Ctest = nnet.use(Xtest)\n",
    "trainAcc = np.sqrt(np.mean((Ctrain-Ttrain)**2))\n",
    "testAcc = np.sqrt(np.mean((Ctest-Ttest)**2))\n",
    "endTime = time.time()"
   ]
  },
  {
   "cell_type": "markdown",
   "metadata": {},
   "source": [
    "Now for the plots:"
   ]
  },
  {
   "cell_type": "markdown",
   "metadata": {},
   "source": [
    "Appliances (predicted vs. actual):"
   ]
  },
  {
   "cell_type": "code",
   "execution_count": 277,
   "metadata": {},
   "outputs": [
    {
     "data": {
      "image/png": "[encoded data removed]",
      "text/plain": [
       "<Figure size 432x288 with 1 Axes>"
      ]
     },
     "metadata": {
      "needs_background": "light"
     },
     "output_type": "display_data"
    }
   ],
   "source": [
    "plt.subplot(1,1,1)\n",
    "#using [:,:1] for appliance data\n",
    "plt.plot(Ttest[:,:1], 'o', Ctest[:,:1],'x')\n",
    "plt.text(8,12, 'Layer {}'.format(5))\n",
    "plt.legend(('Test Target','Test NN Output'),loc='upper right',\n",
    "            prop={'size':9});"
   ]
  },
  {
   "cell_type": "code",
   "execution_count": 279,
   "metadata": {},
   "outputs": [
    {
     "data": {
      "image/png": "[encoded data removed]",
      "text/plain": [
       "<Figure size 432x288 with 1 Axes>"
      ]
     },
     "metadata": {
      "needs_background": "light"
     },
     "output_type": "display_data"
    }
   ],
   "source": [
    "plt.subplot(1,1,1)\n",
    "#using [:,1:] for lights data\n",
    "plt.plot(Ttest[:,1:], 'o', Ctest[:,1:],'x')\n",
    "plt.text(8,12, 'Layer {}'.format(5))\n",
    "plt.legend(('Test Target','Test NN Output'),loc='upper right',\n",
    "            prop={'size':9});"
   ]
  },
  {
   "cell_type": "markdown",
   "metadata": {},
   "source": [
    "As you can see, there is a pretty wide spread of predictions for this data. I believe this is due to a wide, sporadic variety in appliance energy usage (as seen by the orange 'x's in the graphs above), making it difficult to approximate using a neural network. However, it does seem to have done relatively well; I imagine it could do even better with further fine-tuning."
   ]
  },
  {
   "cell_type": "markdown",
   "metadata": {},
   "source": [
    "## Data for Classification Experiment\n",
    "\n",
    "From the UCI Machine Learning Repository, download the [Anuran Calls (MFCCs)](http://archive.ics.uci.edu/ml/datasets/Anuran+Calls+%28MFCCs%29) data.  You can do this by visiting the Data Folder for this data set, or just do this:\n",
    "\n",
    "     !wget 'http://archive.ics.uci.edu/ml/machine-learning-databases/00406/Anuran Calls (MFCCs).zip'\n",
    "     !unzip Anuran*zip\n",
    "     \n",
    "Read the data in the file `Frogs_MFCCs.csv` into python.  This will be a little tricky. Each line of the file is a sample of audio features plus three columns that label the sample by family, genus, and species. We will try to predict the species.  The tricky part is that the species is given as text.  We need to convert this to a target class, as an integer. The `numpy` function `unique` will come in handy here."
   ]
  },
  {
   "cell_type": "code",
   "execution_count": 21,
   "metadata": {},
   "outputs": [
    {
     "data": {
      "text/plain": [
       "((7195, 21), (7195, 1))"
      ]
     },
     "execution_count": 21,
     "metadata": {},
     "output_type": "execute_result"
    }
   ],
   "source": [
    "Xanuran.shape, Tanuran.shape"
   ]
  },
  {
   "cell_type": "code",
   "execution_count": 22,
   "metadata": {},
   "outputs": [
    {
     "data": {
      "text/plain": [
       "array([[ 0.1529363 , -0.1055859 ,  0.20072191,  0.31720106,  0.26076385,\n",
       "         0.10094464, -0.1500626 , -0.17112763,  0.12467644,  0.18865415,\n",
       "        -0.07562172, -0.15643593,  0.08224512,  0.13575204, -0.02401665,\n",
       "        -0.10835111, -0.07762252, -0.0095678 ,  0.05768398,  0.11868014,\n",
       "         0.01403845],\n",
       "       [ 0.17153426, -0.09897474,  0.26842522,  0.33867186,  0.2683531 ,\n",
       "         0.06083509, -0.22247464, -0.20769267,  0.17088287,  0.27095828,\n",
       "        -0.09500394, -0.25434147,  0.02278623,  0.1633201 ,  0.01202228,\n",
       "        -0.09097401, -0.05650952, -0.03530336,  0.02013996,  0.08226299,\n",
       "         0.02905574]])"
      ]
     },
     "execution_count": 22,
     "metadata": {},
     "output_type": "execute_result"
    }
   ],
   "source": [
    "Xanuran[:2,:]"
   ]
  },
  {
   "cell_type": "code",
   "execution_count": 23,
   "metadata": {},
   "outputs": [
    {
     "data": {
      "text/plain": [
       "array([[0],\n",
       "       [0]])"
      ]
     },
     "execution_count": 23,
     "metadata": {},
     "output_type": "execute_result"
    }
   ],
   "source": [
    "Tanuran[:2]"
   ]
  },
  {
   "cell_type": "code",
   "execution_count": 24,
   "metadata": {},
   "outputs": [
    {
     "name": "stdout",
     "output_type": "stream",
     "text": [
      "672 samples in class 0\n",
      "3478 samples in class 1\n",
      "542 samples in class 2\n",
      "310 samples in class 3\n",
      "472 samples in class 4\n",
      "1121 samples in class 5\n",
      "270 samples in class 6\n",
      "114 samples in class 7\n",
      "68 samples in class 8\n",
      "148 samples in class 9\n"
     ]
    }
   ],
   "source": [
    "for i in range(10):\n",
    "    print('{} samples in class {}'.format(np.sum(Tanuran==i), i))"
   ]
  },
  {
   "cell_type": "code",
   "execution_count": 25,
   "metadata": {
    "collapsed": true
   },
   "outputs": [],
   "source": [
    "results = trainNNs(Xanuran, Tanuran, 0.8, [0, 5, [5, 5]], 5, 100, classify=True)"
   ]
  },
  {
   "cell_type": "code",
   "execution_count": 26,
   "metadata": {},
   "outputs": [
    {
     "data": {
      "text/plain": [
       "[[0, 0.028179291174426684, 0.034885337039610845, 2.706338405609131],\n",
       " [5, 0.035267546907574707, 0.041000694927032663, 5.346082448959351],\n",
       " [[5, 5], 0.046699096594857534, 0.057956914523974987, 6.503756046295166]]"
      ]
     },
     "execution_count": 26,
     "metadata": {},
     "output_type": "execute_result"
    }
   ],
   "source": [
    "summarize(results)"
   ]
  },
  {
   "cell_type": "code",
   "execution_count": 27,
   "metadata": {},
   "outputs": [
    {
     "data": {
      "text/plain": [
       "[0, 0.028179291174426684, 0.034885337039610845, 2.706338405609131]"
      ]
     },
     "execution_count": 27,
     "metadata": {},
     "output_type": "execute_result"
    }
   ],
   "source": [
    "bestNetwork(summarize(results))"
   ]
  },
  {
   "cell_type": "markdown",
   "metadata": {},
   "source": [
    "Now do an investigation like you did for the regression data. \n",
    "\n",
    "Test at least 10 different hidden layer structures. Then train another network with your best hidden layer structure on 0.8 of the data and use the trained network on the testing data (the remaining 0.2 of the date). \n",
    "\n",
    "Plot the predicted and actual `Species` for the testing data as an integer.  Discuss what you see."
   ]
  },
  {
   "cell_type": "markdown",
   "metadata": {},
   "source": [
    "## Grading\n",
    "\n",
    "Download [A5grader.tar](http://www.cs.colostate.edu/~anderson/cs440/notebooks/A5grader.tar) and extract `A5grader.py` from it."
   ]
  },
  {
   "cell_type": "code",
   "execution_count": 72,
   "metadata": {
    "scrolled": true
   },
   "outputs": [
    {
     "name": "stdout",
     "output_type": "stream",
     "text": [
      "\n",
      "======================= Code Execution =======================\n",
      "\n",
      "Extracting python code from notebook named 'Boston-A5.ipynb' and storing in notebookcode.py\n",
      "Removing all statements that are not function or class defs or import statements.\n",
      "\n",
      "Testing summarize([[[1,1], [1.2, 1.3, 1.4], [2.2, 2.3, 2.4], 0.5], [[2,2,2], [4.4, 4.3, 4.2], [6.5, 6.4, 6.3], 0.6]])\n",
      "\n",
      "--- 10/10 points. Correctly returned [[[1, 1], 1.3, 2.3000000000000003, 0.5], [[2, 2, 2], 4.3, 6.3999999999999995, 0.6]]\n",
      "\n",
      "Testing bestNetwork([[[1, 1], 1.3, 2.3, 0.5], [[2, 2, 2], 4.3, 1.3, 0.6]])\n",
      "\n",
      "--- 10/10 points. Correctly returned [[2, 2, 2], 4.3, 1.3, 0.6]\n",
      "\n",
      "X = np.random.uniform(-1, 1, (100, 3))\n",
      "T = np.hstack(((X**2 - 0.2*X**3).sum(axis=1,keepdims=True),\n",
      "               (np.sin(X)).sum(axis=1,keepdims=True)))\n",
      "result = trainNNs(X, T, 0.7, [0, 5, 10, [20, 20]], 10, 100, False)\n",
      "\n",
      "--- 20/20 points. Correct.\n",
      "\n",
      "Testing bestNetwork(summarize(result))\n",
      "\n",
      "--- 20/20 points. You correctly found that network [20, 20] is best.\n",
      "\n",
      "A5 Execution Grade is 60 / 60\n",
      "\n",
      "======================= The regression data set =======================\n",
      "\n",
      "--- _ / 5 points. Read the data in energydata_complete.csv into variables Xenergy and Tenergy.\n",
      "\n",
      "--- _ / 5 points. Train some networks by calling the NeuralNetwork constructor and train method and plot the error trace to help you decide now many iterations might be needed.\n",
      "\n",
      "--- _ / 5 points. Try at least 10 different hidden layer structures using trainNNs.\n",
      "\n",
      "--- _ / 5 points. Train another network with your best hidden layer structure on 0.8 of the data and test it on remaining 0.2 of the data. Plot the predicted and actual Appliances energy use, and the predicted and actual lights energy use, in two separate plots. Discuss what you see.\n",
      "\n",
      "======================= Classification data set =======================\n",
      "\n",
      "--- _ / 5 points. Read the data in Frogs_MFCCs.csv into variables Xanuran and Tanuran.\n",
      "\n",
      "--- _ / 5 points. Train some networks by calling the NeuralNetwork constructor and train method and plot the error trace to help you decide now many iterations might be needed.\n",
      "\n",
      "--- _ / 5 points. Try at least 10 different hidden layer structures using trainNNs.\n",
      "\n",
      "--- _ / 5 points. Train another network with your best hidden layer structure on 0.8 of the data and test it on remaining 0.2 of the data. Plot the predicted and actual class labels. Discuss what you see.\n",
      "\n",
      "A5 Notebook Grade is   / 40\n",
      "\n",
      "A5 FINAL GRADE is  / 100\n",
      "\n",
      "\n",
      "A5 EXTRA CREDIT is  / 1\n"
     ]
    }
   ],
   "source": [
    "%run -i \"A5grader.py\""
   ]
  },
  {
   "cell_type": "markdown",
   "metadata": {},
   "source": [
    "## Check-in"
   ]
  },
  {
   "cell_type": "markdown",
   "metadata": {},
   "source": [
    "Do not include this section in your notebook.\n",
    "\n",
    "Name your notebook ```Lastname-A5.ipynb```.  So, for me it would be ```Anderson-A5.ipynb```.  Submit the file using the ```Assignment 5``` link on [Canvas](https://colostate.instructure.com/courses/68135)."
   ]
  },
  {
   "cell_type": "markdown",
   "metadata": {},
   "source": [
    "## Extra Credit\n",
    "\n",
    "  2. Repeat the above regression and classification experiments with a second regression data set and a second classification data set.\n",
    "  \n",
    "  2. Since you are collecting the performance of all repetitions for each network structure, you can calculate a confidence interval about the mean, to help judge significant differences. Do this for either the regression or the classification data and plot the mean test performance with confidence intervals for each network structure tested.  Discuss the statistical significance of the differences among the means.  One website I found to help with this is the site [Correct way to obtain confidence interval with scipy](https://stackoverflow.com/questions/28242593/correct-way-to-obtain-confidence-interval-with-scipy).\n",
    "  \n"
   ]
  }
 ],
 "metadata": {
  "anaconda-cloud": {},
  "kernelspec": {
   "display_name": "Python 3",
   "language": "python",
   "name": "python3"
  },
  "language_info": {
   "codemirror_mode": {
    "name": "ipython",
    "version": 3
   },
   "file_extension": ".py",
   "mimetype": "text/x-python",
   "name": "python",
   "nbconvert_exporter": "python",
   "pygments_lexer": "ipython3",
   "version": "3.6.3"
  },
  "toc": {
   "nav_menu": {},
   "number_sections": true,
   "sideBar": true,
   "skip_h1_title": false,
   "toc_cell": false,
   "toc_position": {},
   "toc_section_display": "block",
   "toc_window_display": false
  }
 },
 "nbformat": 4,
 "nbformat_minor": 1
}
