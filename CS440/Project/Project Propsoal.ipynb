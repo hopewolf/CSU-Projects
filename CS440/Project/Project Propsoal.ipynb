{
 "cells": [
  {
   "cell_type": "markdown",
   "metadata": {},
   "source": [
    "$\\newcommand{\\xv}{\\mathbf{x}}\n",
    "\\newcommand{\\Xv}{\\mathbf{X}}\n",
    "\\newcommand{\\yv}{\\mathbf{y}}\n",
    "\\newcommand{\\zv}{\\mathbf{z}}\n",
    "\\newcommand{\\av}{\\mathbf{a}}\n",
    "\\newcommand{\\Wv}{\\mathbf{W}}\n",
    "\\newcommand{\\wv}{\\mathbf{w}}\n",
    "\\newcommand{\\tv}{\\mathbf{t}}\n",
    "\\newcommand{\\Tv}{\\mathbf{T}}\n",
    "\\newcommand{\\muv}{\\boldsymbol{\\mu}}\n",
    "\\newcommand{\\sigmav}{\\boldsymbol{\\sigma}}\n",
    "\\newcommand{\\phiv}{\\boldsymbol{\\phi}}\n",
    "\\newcommand{\\Phiv}{\\boldsymbol{\\Phi}}\n",
    "\\newcommand{\\Sigmav}{\\boldsymbol{\\Sigma}}\n",
    "\\newcommand{\\Lambdav}{\\boldsymbol{\\Lambda}}\n",
    "\\newcommand{\\half}{\\frac{1}{2}}\n",
    "\\newcommand{\\argmax}[1]{\\underset{#1}{\\operatorname{argmax}}}\n",
    "\\newcommand{\\argmin}[1]{\\underset{#1}{\\operatorname{argmin}}}$"
   ]
  },
  {
   "cell_type": "markdown",
   "metadata": {},
   "source": [
    "# Project Proposal"
   ]
  },
  {
   "cell_type": "markdown",
   "metadata": {},
   "source": [
    "*Luke Burford and Drew Boston*"
   ]
  },
  {
   "cell_type": "markdown",
   "metadata": {},
   "source": [
    "## Introduction"
   ]
  },
  {
   "cell_type": "markdown",
   "metadata": {},
   "source": [
    "Summarize the following:\n",
    "\n",
    "  * the AI problem you will address, any code you will borrow or write, data that you will use, and the questions about the problem you will try to answer\n",
    "      * We will compare the learning capabilities of neural networks vs heuristic functions by testing them on trying to beat a level from Mario. We will be writing our own code for the training the NN and the heuristic function. We will be using code in order to integrate inputs and outputs from the emulated Mario game to the NN. For this particular problem we will be looking at the differences in capabilities in heuristic functions vs NN.\n",
    "  * the AI algorithms you will use and how they will be applied to answer your questions.\n",
    "      * We will be using Heuristic functions and reinforcement learning through a Neural Network.\n",
    "  * questions about the algorithm you will try to answer.\n",
    "      * \n",
    "  * why you are interested in the AI algorithm.\n",
    "      * We find that reinforcement learning and neural networks is very interesting and to apply that to something that you can clearly see working like beating a level in Mario will be particularly interesting.\n",
    "  * members of your team, if more than just you.\n",
    "      * It will be me and Drew Boston on a team."
   ]
  },
  {
   "cell_type": "markdown",
   "metadata": {},
   "source": [
    "## Methods"
   ]
  },
  {
   "cell_type": "markdown",
   "metadata": {},
   "source": [
    "Describe the methods you will use.  What are the sources of code or data?  Will you define new algorithms and/or implementations, or use ones from class, or download ones from an on-line source?\n",
    "\n",
    "If you will be working with others, define exactly what each team member will be working on."
   ]
  },
  {
   "cell_type": "markdown",
   "metadata": {},
   "source": [
    "## Possible Results\n",
    "\n",
    "Speculate on possible answers to the questions you provide in the Introduction."
   ]
  },
  {
   "cell_type": "markdown",
   "metadata": {},
   "source": [
    "## Timeline\n",
    "\n",
    "Make a list with at least four entries with dates and describe what each team member will accomplish by these dates.  This is for your use.  Your grade will not depend on meeting these deadlines."
   ]
  },
  {
   "cell_type": "markdown",
   "metadata": {},
   "source": [
    "## Check-in"
   ]
  },
  {
   "cell_type": "markdown",
   "metadata": {},
   "source": [
    "Do not include this section in your notebook.\n",
    "\n",
    "Name your notebook ```Lastname-proposal.ipynb```.  So, for me it would be ```Anderson-Proposal.ipynb```.  Submit the file using the ```Project Proposal``` link on [Canvas](https://colostate.instructure.com/courses/55296).\n",
    "\n",
    "Grading will be based on \n",
    "\n",
    "  * clarity of describing your motivation and methods,\n",
    "  * division of work among team members, if applicable.\n",
    "  \n",
    "If the instructor may ask you to expand your project and resubmit your proposal."
   ]
  }
 ],
 "metadata": {
  "kernelspec": {
   "display_name": "Python 3",
   "language": "python",
   "name": "python3"
  },
  "language_info": {
   "codemirror_mode": {
    "name": "ipython",
    "version": 3
   },
   "file_extension": ".py",
   "mimetype": "text/x-python",
   "name": "python",
   "nbconvert_exporter": "python",
   "pygments_lexer": "ipython3",
   "version": "3.6.3"
  }
 },
 "nbformat": 4,
 "nbformat_minor": 1
}
